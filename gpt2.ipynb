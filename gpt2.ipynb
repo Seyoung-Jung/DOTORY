{
 "cells": [
  {
   "cell_type": "markdown",
   "metadata": {
    "id": "4i9mp3N4csK5"
   },
   "source": [
    "# GPT2 + Fairy Tales Data + 번역\n",
    "\n",
    "- kaggle 영어 데이터로 학습하여 생성 후 Kakao로 번역\n",
    "\n",
    "- huggingface hub에서 계획과 일치하는 모델 발견하여 테스트 후 채택"
   ]
  },
  {
   "cell_type": "markdown",
   "metadata": {
    "id": "OATuRAOp2yuF"
   },
   "source": [
    "## Install Packages"
   ]
  },
  {
   "cell_type": "code",
   "execution_count": 1,
   "metadata": {
    "colab": {
     "base_uri": "https://localhost:8080/"
    },
    "executionInfo": {
     "elapsed": 13315,
     "status": "ok",
     "timestamp": 1641114057936,
     "user": {
      "displayName": "Seyeong Jung",
      "photoUrl": "https://lh3.googleusercontent.com/a/default-user=s64",
      "userId": "01913346087161822745"
     },
     "user_tz": -540
    },
    "id": "yXPjV2ooamor",
    "outputId": "bf9fa323-a65b-48e6-e67c-5bd7690528ff",
    "scrolled": true
   },
   "outputs": [],
   "source": [
    "# !pip install transformers\n",
    "# !pip install git+https://github.com/ssut/py-hanspell.git"
   ]
  },
  {
   "cell_type": "code",
   "execution_count": null,
   "metadata": {
    "colab": {
     "base_uri": "https://localhost:8080/",
     "height": 35
    },
    "executionInfo": {
     "elapsed": 6254,
     "status": "ok",
     "timestamp": 1638154150505,
     "user": {
      "displayName": "Seyeong Jung",
      "photoUrl": "https://lh3.googleusercontent.com/a/default-user=s64",
      "userId": "01913346087161822745"
     },
     "user_tz": -540
    },
    "id": "XxxwlswS126R",
    "outputId": "3a5f44aa-48c8-412a-86f9-cd3b55abf9eb"
   },
   "outputs": [
    {
     "data": {
      "application/vnd.google.colaboratory.intrinsic+json": {
       "type": "string"
      },
      "text/plain": [
       "'4.12.5'"
      ]
     },
     "execution_count": 2,
     "metadata": {},
     "output_type": "execute_result"
    }
   ],
   "source": [
    "import transformers\n",
    "transformers.__version__"
   ]
  },
  {
   "cell_type": "code",
   "execution_count": null,
   "metadata": {
    "colab": {
     "base_uri": "https://localhost:8080/",
     "height": 35
    },
    "executionInfo": {
     "elapsed": 465,
     "status": "ok",
     "timestamp": 1638154152853,
     "user": {
      "displayName": "Seyeong Jung",
      "photoUrl": "https://lh3.googleusercontent.com/a/default-user=s64",
      "userId": "01913346087161822745"
     },
     "user_tz": -540
    },
    "id": "jZyORUnI3EGw",
    "outputId": "2df56ac0-6eec-4966-8334-fb9069ed9f82"
   },
   "outputs": [
    {
     "data": {
      "application/vnd.google.colaboratory.intrinsic+json": {
       "type": "string"
      },
      "text/plain": [
       "'1.10.0+cu111'"
      ]
     },
     "execution_count": 3,
     "metadata": {},
     "output_type": "execute_result"
    }
   ],
   "source": [
    "import torch\n",
    "torch.__version__"
   ]
  },
  {
   "cell_type": "code",
   "execution_count": null,
   "metadata": {
    "colab": {
     "base_uri": "https://localhost:8080/",
     "height": 35
    },
    "executionInfo": {
     "elapsed": 602,
     "status": "ok",
     "timestamp": 1638154155639,
     "user": {
      "displayName": "Seyeong Jung",
      "photoUrl": "https://lh3.googleusercontent.com/a/default-user=s64",
      "userId": "01913346087161822745"
     },
     "user_tz": -540
    },
    "id": "KGU62P1D3HUy",
    "outputId": "5e821542-84f4-4dfa-ff3e-d131b5f7787d"
   },
   "outputs": [
    {
     "data": {
      "application/vnd.google.colaboratory.intrinsic+json": {
       "type": "string"
      },
      "text/plain": [
       "'3.2.5'"
      ]
     },
     "execution_count": 4,
     "metadata": {},
     "output_type": "execute_result"
    }
   ],
   "source": [
    "import nltk\n",
    "nltk.__version__"
   ]
  },
  {
   "cell_type": "code",
   "execution_count": null,
   "metadata": {
    "colab": {
     "base_uri": "https://localhost:8080/",
     "height": 35
    },
    "executionInfo": {
     "elapsed": 35,
     "status": "ok",
     "timestamp": 1638154157199,
     "user": {
      "displayName": "Seyeong Jung",
      "photoUrl": "https://lh3.googleusercontent.com/a/default-user=s64",
      "userId": "01913346087161822745"
     },
     "user_tz": -540
    },
    "id": "FVHhmUtm3M9S",
    "outputId": "dc77ffb9-f022-4ad7-b530-d88d2c88f93b"
   },
   "outputs": [
    {
     "data": {
      "application/vnd.google.colaboratory.intrinsic+json": {
       "type": "string"
      },
      "text/plain": [
       "'2.23.0'"
      ]
     },
     "execution_count": 5,
     "metadata": {},
     "output_type": "execute_result"
    }
   ],
   "source": [
    "import requests\n",
    "requests.__version__"
   ]
  },
  {
   "cell_type": "markdown",
   "metadata": {
    "id": "zR5nxCgVc5AN"
   },
   "source": [
    "## Save Model"
   ]
  },
  {
   "cell_type": "markdown",
   "metadata": {
    "id": "6_TJzCOI4AHl"
   },
   "source": [
    "1. huggingface hub에서 바로 load"
   ]
  },
  {
   "cell_type": "code",
   "execution_count": null,
   "metadata": {
    "colab": {
     "base_uri": "https://localhost:8080/",
     "height": 320,
     "referenced_widgets": [
      "6a4dacc1bab44b2880b2a4bdc211b25e",
      "592951e6bee845a599762197ae71b5c6",
      "fd179c2dfc0e429e8a89b3e36f4b3eb8",
      "e475d7b946c646c09831421cbd7cbf33",
      "afc63edc8a714df2a5d14d12762d92b6",
      "426c72ea95094efebba1b46935737b07",
      "51dc8126690f4012b4f0cb9e0df19202",
      "bc949ebd834a47f580b5b1ddd774f1da",
      "13e3db331e5e4f02b8978e4008ec56ae",
      "7917cf6a4f644317973fa08459605d9e",
      "e7edbd2cfc7f4ec1b220fa7aff3acadf",
      "adb6c35270154ac4ac7999e6334999f8",
      "91b58c65eed042168f044ad49f2bdb39",
      "915b3329fa4a43eea936b43b902f1a81",
      "253ff59ad0b74bd78528943f75c95218",
      "9193a96710ac40f2a10b379c5d6781f8",
      "55a45435f4b54402badb94dfc268889b",
      "adb2eb5c7a1e48c394d366e227cb2d15",
      "fc72d9ef425c4f05b536e545cb1950fe",
      "32c886bc0a8d439b9cd0813c8671f5f2",
      "9c57e898af6a4b8c973f4054f5d6b874",
      "41488d666a3547978f853f5ac73afc94",
      "d3c48d7a4e5446b59a2068f80bc18819",
      "ccf6028391f94fc3981651363483091d",
      "64c35792ab214b22b689d8c852d87f76",
      "7507a8af425b47deb16d965d67b3e0fc",
      "d6b298ca57a249d4800ae56beee5d16e",
      "d31fe70a0cda4aefa50bde2bab45ed07",
      "01ffc81a172146358fabb668f505d0d1",
      "8a8ddf724fd74afe84ff44a6dd677369",
      "0a8593fcf86c4425a7ab72163b334ecb",
      "411144c9385a4fd6913c14cb5659a1e2",
      "ede25f035a2a43488e1f6b36c8e2303d",
      "b7b1314c2f924b0dbdd7bb82543d9c02",
      "4a18db6180ca4a5daee06ce64efbf550",
      "6712733036ba46cb8c6b818e3c3b87e9",
      "373a926f495d426dafdbfbef31867b72",
      "d76936d954864f4a8887a4e2679b13bd",
      "31d7aabce0684a7dbc2d800d20d62b9e",
      "d7c23c5dc4b24b7c96ce70789fd42210",
      "27506e45d86640ce840844673c1ab16d",
      "cba1c86b4bf844a99f956aa6a959ce70",
      "ba0132e4f92d4f83a89f3e995d819f50",
      "e0ba0c60d8934ec19218a72b7dc0940c",
      "d8618871297d4376b67e1905f33bd838",
      "6eb6034f345b470cb2a8a25df209f557",
      "a841014336944d3db21449ad82c6d6fd",
      "26a5c6cd60704117b7ddce8a3ca3c92e",
      "beee0d9556854aebaa314ee9bf4acec3",
      "6c90a3e158734cc582b4877c6884f4a8",
      "9cd221d469d349ee82853037c1b2ac76",
      "9929303401bb4f6c9d09f5595ebabf2a",
      "e04beeed51a643fbab1fb0d1ccec5f9f",
      "a0a4e46283a949d4b5f19494e6f28f72",
      "1f4740e0e83b4c5aafdcec4fe55ad11a",
      "878cfc41806e44219b260ab8b27a5162",
      "e31e1335e9dd4782bd2fb9a17177334e",
      "f9938e25d11447c09e6319602a00e65d",
      "a62330c4f8b643e1b53ac8edcc6bf51d",
      "0dd3415c588f413b92513e6764608365",
      "6755c6199b714d8384fb6a281d3ac0c3",
      "c3c58e91374740d5ad3dfb76a41e3c71",
      "52ef73832af1482faf3a3377752b7215",
      "4f64fcf1113b41c9aa300199a0b36014",
      "17ec5120c6b04fd6a6fa904d8ae8306b",
      "ab647c9ba8894bdcaec8c3c0be19b328"
     ]
    },
    "executionInfo": {
     "elapsed": 135799,
     "status": "ok",
     "timestamp": 1637721870349,
     "user": {
      "displayName": "Seyeong Jung",
      "photoUrl": "https://lh3.googleusercontent.com/a/default-user=s64",
      "userId": "01913346087161822745"
     },
     "user_tz": -540
    },
    "id": "gMtwzYg7ecG1",
    "outputId": "9f97b940-2077-4ac9-d350-261919f0df3a"
   },
   "outputs": [
    {
     "data": {
      "application/vnd.jupyter.widget-view+json": {
       "model_id": "6a4dacc1bab44b2880b2a4bdc211b25e",
       "version_major": 2,
       "version_minor": 0
      },
      "text/plain": [
       "Downloading:   0%|          | 0.00/533 [00:00<?, ?B/s]"
      ]
     },
     "metadata": {},
     "output_type": "display_data"
    },
    {
     "data": {
      "application/vnd.jupyter.widget-view+json": {
       "model_id": "adb6c35270154ac4ac7999e6334999f8",
       "version_major": 2,
       "version_minor": 0
      },
      "text/plain": [
       "Downloading:   0%|          | 0.00/908 [00:00<?, ?B/s]"
      ]
     },
     "metadata": {},
     "output_type": "display_data"
    },
    {
     "data": {
      "application/vnd.jupyter.widget-view+json": {
       "model_id": "d3c48d7a4e5446b59a2068f80bc18819",
       "version_major": 2,
       "version_minor": 0
      },
      "text/plain": [
       "Downloading:   0%|          | 0.00/878k [00:00<?, ?B/s]"
      ]
     },
     "metadata": {},
     "output_type": "display_data"
    },
    {
     "data": {
      "application/vnd.jupyter.widget-view+json": {
       "model_id": "b7b1314c2f924b0dbdd7bb82543d9c02",
       "version_major": 2,
       "version_minor": 0
      },
      "text/plain": [
       "Downloading:   0%|          | 0.00/446k [00:00<?, ?B/s]"
      ]
     },
     "metadata": {},
     "output_type": "display_data"
    },
    {
     "data": {
      "application/vnd.jupyter.widget-view+json": {
       "model_id": "d8618871297d4376b67e1905f33bd838",
       "version_major": 2,
       "version_minor": 0
      },
      "text/plain": [
       "Downloading:   0%|          | 0.00/357 [00:00<?, ?B/s]"
      ]
     },
     "metadata": {},
     "output_type": "display_data"
    },
    {
     "name": "stderr",
     "output_type": "stream",
     "text": [
      "/usr/local/lib/python3.7/dist-packages/transformers/models/auto/modeling_auto.py:698: FutureWarning: The class `AutoModelWithLMHead` is deprecated and will be removed in a future version. Please use `AutoModelForCausalLM` for causal language models, `AutoModelForMaskedLM` for masked language models and `AutoModelForSeq2SeqLM` for encoder-decoder models.\n",
      "  FutureWarning,\n"
     ]
    },
    {
     "data": {
      "application/vnd.jupyter.widget-view+json": {
       "model_id": "878cfc41806e44219b260ab8b27a5162",
       "version_major": 2,
       "version_minor": 0
      },
      "text/plain": [
       "Downloading:   0%|          | 0.00/2.92G [00:00<?, ?B/s]"
      ]
     },
     "metadata": {},
     "output_type": "display_data"
    },
    {
     "name": "stdout",
     "output_type": "stream",
     "text": [
      "[nltk_data] Downloading package punkt to /root/nltk_data...\n",
      "[nltk_data]   Unzipping tokenizers/punkt.zip.\n"
     ]
    },
    {
     "data": {
      "text/plain": [
       "True"
      ]
     },
     "execution_count": 3,
     "metadata": {},
     "output_type": "execute_result"
    }
   ],
   "source": [
    "import torch\n",
    "from transformers import AutoTokenizer, AutoModelWithLMHead\n",
    "import nltk\n",
    "from nltk.tokenize import sent_tokenize\n",
    "import requests\n",
    "from hanspell import spell_checker\n",
    "\n",
    "device = torch.device(\"cuda\" if torch.cuda.is_available() else \"cpu\")\n",
    "\n",
    "tokenizer = AutoTokenizer.from_pretrained(\"HScomcom/gpt2-fairytales\")\n",
    "\n",
    "model = AutoModelWithLMHead.from_pretrained(\"HScomcom/gpt2-fairytales\").to(device)\n",
    "\n",
    "nltk.download('punkt')"
   ]
  },
  {
   "cell_type": "markdown",
   "metadata": {
    "id": "BgtakA8Q4L8Z"
   },
   "source": [
    "2. 위 실행으로 load된 tokenizer와 model 저장 후 다시 load"
   ]
  },
  {
   "cell_type": "code",
   "execution_count": null,
   "metadata": {
    "id": "VVEDl2mdjWnV"
   },
   "outputs": [],
   "source": [
    "tokenizer.save_pretrained('/content/drive/MyDrive/DOTORY/gpt2/save_pretrained/')\n",
    "# model.save_pretrained('/content/drive/MyDrive/DOTORY/gpt2/save_pretrained/')"
   ]
  },
  {
   "cell_type": "code",
   "execution_count": null,
   "metadata": {
    "id": "dSeYvzaCirCA"
   },
   "outputs": [],
   "source": [
    "learning_rate = 1e-5\n",
    "optimizer = torch.optim.Adam(model.parameters(), lr=learning_rate)\n",
    "\n",
    "torch.save({\n",
    "    'model': model.state_dict(),\n",
    "    'optimizer': optimizer.state_dict()\n",
    "}, '/content/drive/MyDrive/DOTORY/gpt2/' + 'gpt2_1104.tar')"
   ]
  },
  {
   "cell_type": "code",
   "execution_count": null,
   "metadata": {
    "id": "MNeWWHg883C0"
   },
   "outputs": [],
   "source": [
    "# torch.save(model.state_dict(), '/content/drive/MyDrive/DOTORY/gpt2/' + 'gpt2_1104.pt')"
   ]
  },
  {
   "cell_type": "code",
   "execution_count": null,
   "metadata": {
    "colab": {
     "base_uri": "https://localhost:8080/"
    },
    "executionInfo": {
     "elapsed": 1183,
     "status": "ok",
     "timestamp": 1637673551124,
     "user": {
      "displayName": "Seyeong Jung",
      "photoUrl": "https://lh3.googleusercontent.com/a/default-user=s64",
      "userId": "01913346087161822745"
     },
     "user_tz": -540
    },
    "id": "u2-y9dOf4KMx",
    "outputId": "60a6aa5e-78bc-4e9e-d34b-b90ae355766b"
   },
   "outputs": [
    {
     "name": "stdout",
     "output_type": "stream",
     "text": [
      "Cloning into 'gpt2-fairytales'...\n",
      "remote: Enumerating objects: 33, done.\u001b[K\n",
      "remote: Counting objects: 100% (33/33), done.\u001b[K\n",
      "remote: Compressing objects: 100% (32/32), done.\u001b[K\n",
      "remote: Total 33 (delta 12), reused 0 (delta 0)\u001b[K\n",
      "Unpacking objects: 100% (33/33), done.\n"
     ]
    }
   ],
   "source": [
    "# !GIT_LFS_SKIP_SMUDGE=1 git clone https://huggingface.co/HScomcom/gpt2-fairytales"
   ]
  },
  {
   "cell_type": "code",
   "execution_count": null,
   "metadata": {
    "colab": {
     "base_uri": "https://localhost:8080/"
    },
    "executionInfo": {
     "elapsed": 6077,
     "status": "ok",
     "timestamp": 1637673639048,
     "user": {
      "displayName": "Seyeong Jung",
      "photoUrl": "https://lh3.googleusercontent.com/a/default-user=s64",
      "userId": "01913346087161822745"
     },
     "user_tz": -540
    },
    "id": "v7kxFtHs4QK7",
    "outputId": "14d6f892-2352-4e28-84e4-1ebb30aed681"
   },
   "outputs": [
    {
     "name": "stdout",
     "output_type": "stream",
     "text": [
      "Reading package lists... Done\n",
      "Building dependency tree       \n",
      "Reading state information... Done\n",
      "The following NEW packages will be installed:\n",
      "  git-lfs\n",
      "0 upgraded, 1 newly installed, 0 to remove and 37 not upgraded.\n",
      "Need to get 2,129 kB of archives.\n",
      "After this operation, 7,662 kB of additional disk space will be used.\n",
      "Get:1 http://archive.ubuntu.com/ubuntu bionic/universe amd64 git-lfs amd64 2.3.4-1 [2,129 kB]\n",
      "Fetched 2,129 kB in 1s (1,624 kB/s)\n",
      "Selecting previously unselected package git-lfs.\n",
      "(Reading database ... 155222 files and directories currently installed.)\n",
      "Preparing to unpack .../git-lfs_2.3.4-1_amd64.deb ...\n",
      "Unpacking git-lfs (2.3.4-1) ...\n",
      "Setting up git-lfs (2.3.4-1) ...\n",
      "Processing triggers for man-db (2.8.3-2ubuntu0.1) ...\n"
     ]
    }
   ],
   "source": [
    "# !apt-get install git-lfs"
   ]
  },
  {
   "cell_type": "code",
   "execution_count": null,
   "metadata": {
    "colab": {
     "base_uri": "https://localhost:8080/"
    },
    "executionInfo": {
     "elapsed": 285,
     "status": "ok",
     "timestamp": 1637673658925,
     "user": {
      "displayName": "Seyeong Jung",
      "photoUrl": "https://lh3.googleusercontent.com/a/default-user=s64",
      "userId": "01913346087161822745"
     },
     "user_tz": -540
    },
    "id": "n_BcxKDp5b0b",
    "outputId": "b9788e3c-9fb1-4d79-ab83-bf8f1158834a"
   },
   "outputs": [
    {
     "name": "stdout",
     "output_type": "stream",
     "text": [
      "/content/gpt2-fairytales\n"
     ]
    }
   ],
   "source": [
    "# %cd /content/gpt2-fairytales"
   ]
  },
  {
   "cell_type": "code",
   "execution_count": null,
   "metadata": {
    "colab": {
     "base_uri": "https://localhost:8080/"
    },
    "executionInfo": {
     "elapsed": 321,
     "status": "ok",
     "timestamp": 1637673665750,
     "user": {
      "displayName": "Seyeong Jung",
      "photoUrl": "https://lh3.googleusercontent.com/a/default-user=s64",
      "userId": "01913346087161822745"
     },
     "user_tz": -540
    },
    "id": "T7Xwz3uo6PPb",
    "outputId": "57df85f4-b6be-45ad-ca6a-cacf3ad94450"
   },
   "outputs": [
    {
     "name": "stdout",
     "output_type": "stream",
     "text": [
      "Updated git hooks.\n",
      "Git LFS initialized.\n"
     ]
    }
   ],
   "source": [
    "# !git lfs install"
   ]
  },
  {
   "cell_type": "code",
   "execution_count": null,
   "metadata": {
    "colab": {
     "base_uri": "https://localhost:8080/"
    },
    "executionInfo": {
     "elapsed": 193679,
     "status": "ok",
     "timestamp": 1637673861759,
     "user": {
      "displayName": "Seyeong Jung",
      "photoUrl": "https://lh3.googleusercontent.com/a/default-user=s64",
      "userId": "01913346087161822745"
     },
     "user_tz": -540
    },
    "id": "lc6mU-hd6dtB",
    "outputId": "c4cdde16-4d01-436f-dc01-094b759dc50a"
   },
   "outputs": [
    {
     "name": "stdout",
     "output_type": "stream",
     "text": [
      "Git LFS: (3 of 3 files) 5.80 GB / 5.80 GB\n"
     ]
    }
   ],
   "source": [
    "# !git lfs pull"
   ]
  },
  {
   "cell_type": "code",
   "execution_count": null,
   "metadata": {
    "colab": {
     "base_uri": "https://localhost:8080/"
    },
    "executionInfo": {
     "elapsed": 21011,
     "status": "ok",
     "timestamp": 1637673903910,
     "user": {
      "displayName": "Seyeong Jung",
      "photoUrl": "https://lh3.googleusercontent.com/a/default-user=s64",
      "userId": "01913346087161822745"
     },
     "user_tz": -540
    },
    "id": "ZNnHufdp3ubc",
    "outputId": "8002fe96-43b0-4d8f-bb71-5a81c05b7341"
   },
   "outputs": [
    {
     "name": "stdout",
     "output_type": "stream",
     "text": [
      "[nltk_data] Downloading package punkt to /root/nltk_data...\n",
      "[nltk_data]   Unzipping tokenizers/punkt.zip.\n"
     ]
    },
    {
     "data": {
      "text/plain": [
       "True"
      ]
     },
     "execution_count": 9,
     "metadata": {},
     "output_type": "execute_result"
    }
   ],
   "source": [
    "# import torch\n",
    "# from transformers import GPT2Tokenizer, GPT2LMHeadModel\n",
    "# import nltk\n",
    "# from nltk.tokenize import sent_tokenize\n",
    "# import requests\n",
    "# from hanspell import spell_checker\n",
    "\n",
    "# device = torch.device(\"cuda\" if torch.cuda.is_available() else \"cpu\")\n",
    "# path = \"/content/gpt2-fairytales\"\n",
    "\n",
    "# tokenizer = GPT2Tokenizer.from_pretrained(path)\n",
    "# model = GPT2LMHeadModel.from_pretrained(path)\n",
    "# model.to(device)\n",
    "\n",
    "# nltk.download('punkt')"
   ]
  },
  {
   "cell_type": "markdown",
   "metadata": {
    "id": "YxVWufUxdqRt"
   },
   "source": [
    "## Load Model & 후처리"
   ]
  },
  {
   "cell_type": "code",
   "execution_count": null,
   "metadata": {
    "colab": {
     "base_uri": "https://localhost:8080/"
    },
    "executionInfo": {
     "elapsed": 40305,
     "status": "ok",
     "timestamp": 1637731915258,
     "user": {
      "displayName": "Seyeong Jung",
      "photoUrl": "https://lh3.googleusercontent.com/a/default-user=s64",
      "userId": "01913346087161822745"
     },
     "user_tz": -540
    },
    "id": "H2hWFTcUasdB",
    "outputId": "6f0c2baa-52f5-4154-8345-e81f22df5256"
   },
   "outputs": [
    {
     "name": "stderr",
     "output_type": "stream",
     "text": [
      "[nltk_data] Downloading package punkt to /root/nltk_data...\n",
      "[nltk_data]   Unzipping tokenizers/punkt.zip.\n"
     ]
    },
    {
     "data": {
      "text/plain": [
       "True"
      ]
     },
     "execution_count": 5,
     "metadata": {},
     "output_type": "execute_result"
    }
   ],
   "source": [
    "# import torch\n",
    "# from transformers import GPT2Tokenizer, GPT2LMHeadModel, GPT2Config\n",
    "# import nltk\n",
    "# from nltk.tokenize import sent_tokenize\n",
    "# import requests\n",
    "# from hanspell import spell_checker\n",
    "\n",
    "# device = torch.device(\"cuda\" if torch.cuda.is_available() else \"cpu\")\n",
    "# path = \"/content/drive/MyDrive/DOTORY/gpt2/save_pretrained/\"\n",
    "\n",
    "# tokenizer = GPT2Tokenizer.from_pretrained(path)\n",
    "# model = GPT2LMHeadModel.from_pretrained(path)\n",
    "# # model = GPT2LMHeadModel(GPT2Config.from_json_file(path + 'config.json'))\n",
    "# model.to(device)\n",
    "\n",
    "# nltk.download('punkt')"
   ]
  },
  {
   "cell_type": "code",
   "execution_count": 3,
   "metadata": {
    "colab": {
     "base_uri": "https://localhost:8080/"
    },
    "executionInfo": {
     "elapsed": 79632,
     "status": "ok",
     "timestamp": 1641114161814,
     "user": {
      "displayName": "Seyeong Jung",
      "photoUrl": "https://lh3.googleusercontent.com/a/default-user=s64",
      "userId": "01913346087161822745"
     },
     "user_tz": -540
    },
    "id": "rBnmpianqX0R",
    "outputId": "9541f033-285b-4aaf-be10-6d2e5a33138b"
   },
   "outputs": [
    {
     "name": "stdout",
     "output_type": "stream",
     "text": [
      "[nltk_data] Downloading package punkt to /root/nltk_data...\n",
      "[nltk_data]   Unzipping tokenizers/punkt.zip.\n"
     ]
    },
    {
     "data": {
      "text/plain": [
       "True"
      ]
     },
     "execution_count": 3,
     "metadata": {},
     "output_type": "execute_result"
    }
   ],
   "source": [
    "import torch\n",
    "from transformers import GPT2Tokenizer, GPT2LMHeadModel, GPT2Config\n",
    "import nltk\n",
    "from nltk.tokenize import sent_tokenize\n",
    "import requests\n",
    "from hanspell import spell_checker\n",
    "\n",
    "device = torch.device(\"cuda\" if torch.cuda.is_available() else \"cpu\")\n",
    "path = \"/content/drive/MyDrive/DOTORY/gpt2/\"\n",
    "checkpoint = torch.load(path + 'gpt2_1104.tar')\n",
    "\n",
    "tokenizer = GPT2Tokenizer.from_pretrained(path)\n",
    "\n",
    "model = GPT2LMHeadModel(GPT2Config.from_json_file(path + 'config.json'))\n",
    "model.load_state_dict(checkpoint['model'])\n",
    "model.to(device)\n",
    "\n",
    "nltk.download('punkt')"
   ]
  },
  {
   "cell_type": "code",
   "execution_count": null,
   "metadata": {
    "id": "9jL4hSVzqTDh"
   },
   "outputs": [],
   "source": [
    "# papago (api key)\n",
    "def translate_papago(text, source, target):\n",
    "    client_id = \"----ID----\"\n",
    "    client_secret = \"----private key----\"\n",
    "\n",
    "    data = {\n",
    "            'honorific': 'True',\n",
    "            'source' : source,\n",
    "            'target': target,\n",
    "            'text' : text\n",
    "            }\n",
    "\n",
    "    url = \"https://openapi.naver.com/v1/papago/n2mt\"\n",
    "\n",
    "    header = {\"X-Naver-Client-Id\":client_id,\n",
    "              \"X-Naver-Client-Secret\":client_secret}\n",
    "\n",
    "    response = requests.post(url, headers=header, data=data)\n",
    "    rescode = response.status_code\n",
    "\n",
    "    if(rescode==200):\n",
    "        send_data = response.json()\n",
    "        trans_data = (send_data['message']['result']['translatedText'])\n",
    "        return trans_data\n",
    "    else:\n",
    "        print(\"Error Code:\" , rescode)"
   ]
  },
  {
   "cell_type": "code",
   "execution_count": 4,
   "metadata": {
    "executionInfo": {
     "elapsed": 14,
     "status": "ok",
     "timestamp": 1641114161816,
     "user": {
      "displayName": "Seyeong Jung",
      "photoUrl": "https://lh3.googleusercontent.com/a/default-user=s64",
      "userId": "01913346087161822745"
     },
     "user_tz": -540
    },
    "id": "ZgZnVcZHvIUO"
   },
   "outputs": [],
   "source": [
    "# kakao (crawling)\n",
    "def translate_kakao(text, source, target):\n",
    "    url = \"https://translate.kakao.com/translator/translate.json\"\n",
    "\n",
    "    headers = {\n",
    "        \"Referer\": \"https://translate.kakao.com/\",\n",
    "        \"User-Agent\": \"Mozilla/5.0\"\n",
    "    }\n",
    "\n",
    "    data = {\n",
    "        \"queryLanguage\": source,\n",
    "        \"resultLanguage\": target,\n",
    "        \"q\": text\n",
    "    }\n",
    "\n",
    "    resp = requests.post(url, headers=headers, data=data)\n",
    "    data = resp.json()\n",
    "    output = data['result']['output'][0][0] \n",
    "    return output"
   ]
  },
  {
   "cell_type": "code",
   "execution_count": 5,
   "metadata": {
    "executionInfo": {
     "elapsed": 489,
     "status": "ok",
     "timestamp": 1641114162295,
     "user": {
      "displayName": "Seyeong Jung",
      "photoUrl": "https://lh3.googleusercontent.com/a/default-user=s64",
      "userId": "01913346087161822745"
     },
     "user_tz": -540
    },
    "id": "VAMi154O195Q"
   },
   "outputs": [],
   "source": [
    "f = open(\"/content/drive/MyDrive/DOTORY/gpt2/filtering.txt\", 'r')\n",
    "filtering = f.read().split('\\n')\n",
    "f.close()"
   ]
  },
  {
   "cell_type": "markdown",
   "metadata": {
    "id": "cwG0zpQlTxB7"
   },
   "source": [
    "## EDA"
   ]
  },
  {
   "cell_type": "code",
   "execution_count": null,
   "metadata": {
    "colab": {
     "base_uri": "https://localhost:8080/"
    },
    "executionInfo": {
     "elapsed": 542,
     "status": "ok",
     "timestamp": 1638164822549,
     "user": {
      "displayName": "Seyeong Jung",
      "photoUrl": "https://lh3.googleusercontent.com/a/default-user=s64",
      "userId": "01913346087161822745"
     },
     "user_tz": -540
    },
    "id": "Tgtd-GaEO2Vd",
    "outputId": "750de605-5e85-470d-ff9b-9b8a45bd14fd"
   },
   "outputs": [
    {
     "data": {
      "text/plain": [
       "1884"
      ]
     },
     "execution_count": 7,
     "metadata": {},
     "output_type": "execute_result"
    }
   ],
   "source": [
    "# f = open(\"/content/drive/MyDrive/DOTORY/merged_clean.txt\", 'r')\n",
    "# origin = f.read().split('\\n\\n\\n')\n",
    "# origin = list(filter(None, origin))\n",
    "# f.close()\n",
    "# len(origin)  # fairy tales 동화 개수 (전처리하고 더 줄어들거라 예상)"
   ]
  },
  {
   "cell_type": "code",
   "execution_count": null,
   "metadata": {
    "colab": {
     "base_uri": "https://localhost:8080/",
     "height": 284
    },
    "executionInfo": {
     "elapsed": 1261,
     "status": "ok",
     "timestamp": 1638242565024,
     "user": {
      "displayName": "Seyeong Jung",
      "photoUrl": "https://lh3.googleusercontent.com/a/default-user=s64",
      "userId": "01913346087161822745"
     },
     "user_tz": -540
    },
    "id": "Amqbat6JVU2L",
    "outputId": "602caebc-e96c-4dd5-b643-9d246b13c63c"
   },
   "outputs": [
    {
     "data": {
      "text/plain": [
       "(1, 407)"
      ]
     },
     "execution_count": 2,
     "metadata": {},
     "output_type": "execute_result"
    },
    {
     "data": {
      "image/png": "[encoded data removed]",
      "text/plain": [
       "<Figure size 432x288 with 1 Axes>"
      ]
     },
     "metadata": {
      "needs_background": "light"
     },
     "output_type": "display_data"
    }
   ],
   "source": [
    "import pandas as pd\n",
    "import numpy as np\n",
    "\n",
    "f = open(\"/content/drive/MyDrive/DOTORY/merged_clean.txt\", 'r')\n",
    "original = f.read().split('\\n\\n\\n')\n",
    "original = list(filter(None, original))\n",
    "story_length = []\n",
    "for text in original:\n",
    "    stories = text.lstrip('\\n').split('\\n\\n')[1:]\n",
    "    if len(stories):story_length.append(len(stories))\n",
    "f.close()\n",
    "pd.Series(story_length).hist(bins=50)  # story당 문장 개수 (더 많을 수 있음)\n",
    "min(story_length), max(story_length)"
   ]
  },
  {
   "cell_type": "code",
   "execution_count": null,
   "metadata": {
    "colab": {
     "base_uri": "https://localhost:8080/"
    },
    "executionInfo": {
     "elapsed": 279,
     "status": "ok",
     "timestamp": 1638242581926,
     "user": {
      "displayName": "Seyeong Jung",
      "photoUrl": "https://lh3.googleusercontent.com/a/default-user=s64",
      "userId": "01913346087161822745"
     },
     "user_tz": -540
    },
    "id": "Ix8iNJj73dZN",
    "outputId": "94a9368d-24cb-472d-d4a6-adbcc51640d1"
   },
   "outputs": [
    {
     "data": {
      "text/plain": [
       "1361"
      ]
     },
     "execution_count": 3,
     "metadata": {},
     "output_type": "execute_result"
    }
   ],
   "source": [
    "len(story_length)"
   ]
  },
  {
   "cell_type": "code",
   "execution_count": null,
   "metadata": {
    "colab": {
     "base_uri": "https://localhost:8080/",
     "height": 284
    },
    "executionInfo": {
     "elapsed": 300,
     "status": "ok",
     "timestamp": 1638242772151,
     "user": {
      "displayName": "Seyeong Jung",
      "photoUrl": "https://lh3.googleusercontent.com/a/default-user=s64",
      "userId": "01913346087161822745"
     },
     "user_tz": -540
    },
    "id": "dAl4ORPYVY_Y",
    "outputId": "5b127927-38f6-4a8d-b94a-5a9bf322d778"
   },
   "outputs": [
    {
     "data": {
      "text/plain": [
       "(1, 20182)"
      ]
     },
     "execution_count": 6,
     "metadata": {},
     "output_type": "execute_result"
    },
    {
     "data": {
      "image/png": "[encoded data removed]",
      "text/plain": [
       "<Figure size 432x288 with 1 Axes>"
      ]
     },
     "metadata": {
      "needs_background": "light"
     },
     "output_type": "display_data"
    }
   ],
   "source": [
    "sentence_length = []\n",
    "for text in original:\n",
    "    story = text.lstrip('\\n').split('\\n\\n')[1:]\n",
    "    for s in story:sentence_length.append(len(s))\n",
    "\n",
    "pd.Series(sentence_length).hist(bins=50)  # 문장 길이 분포 (유사도 기반으로 문장 뽑을거면 얘가 더 중요하긴 함, 더 split)\n",
    "min(sentence_length), max(sentence_length)"
   ]
  },
  {
   "cell_type": "code",
   "execution_count": 2,
   "metadata": {
    "colab": {
     "base_uri": "https://localhost:8080/",
     "height": 126
    },
    "executionInfo": {
     "elapsed": 524,
     "status": "ok",
     "timestamp": 1638169944407,
     "user": {
      "displayName": "Seyeong Jung",
      "photoUrl": "https://lh3.googleusercontent.com/a/default-user=s64",
      "userId": "01913346087161822745"
     },
     "user_tz": -540
    },
    "id": "4q98Zi4VVfnN",
    "outputId": "88fbde56-4305-4172-c73f-53d12d21261b"
   },
   "outputs": [],
   "source": [
    "df = []\n",
    "for text in original:\n",
    "    stories = text.lstrip('\\n').split('\\n\\n')[1:]\n",
    "    df.extend(stories)\n",
    "\n",
    "df[np.array(sentence_length).argmax()]  # 가장 긴 문장"
   ]
  },
  {
   "cell_type": "code",
   "execution_count": null,
   "metadata": {
    "id": "_4feL26KmAPi"
   },
   "outputs": [],
   "source": [
    "f = open(\"/content/drive/MyDrive/DOTORY/merged_clean.txt\", 'r')\n",
    "origin = f.read().split('\\n\\n\\n')\n",
    "origin = list(filter(None, origin))\n",
    "new = []\n",
    "for i in range(len(origin)):\n",
    "    origin[i] = origin[i].lstrip('\\n').split('\\n\\n')[1:]\n",
    "    new.extend(origin[i])\n",
    "for i in range(len(new)):\n",
    "    new[i] = new[i].replace('\\n', ' ')\n",
    "f.close()\n",
    "new"
   ]
  },
  {
   "cell_type": "code",
   "execution_count": null,
   "metadata": {
    "colab": {
     "base_uri": "https://localhost:8080/"
    },
    "executionInfo": {
     "elapsed": 289,
     "status": "ok",
     "timestamp": 1638243150158,
     "user": {
      "displayName": "Seyeong Jung",
      "photoUrl": "https://lh3.googleusercontent.com/a/default-user=s64",
      "userId": "01913346087161822745"
     },
     "user_tz": -540
    },
    "id": "hRIZNjs0oI1U",
    "outputId": "ff0a5feb-de45-4ea6-9746-69e54e062e79"
   },
   "outputs": [
    {
     "data": {
      "text/plain": [
       "40000"
      ]
     },
     "execution_count": 10,
     "metadata": {},
     "output_type": "execute_result"
    }
   ],
   "source": [
    "len(new)  # 문장 개수 (아직 split 되지 않은 문장들이 많음)"
   ]
  },
  {
   "cell_type": "markdown",
   "metadata": {},
   "source": [
    "한국어 동화 데이터와 비교"
   ]
  },
  {
   "cell_type": "code",
   "execution_count": null,
   "metadata": {
    "colab": {
     "base_uri": "https://localhost:8080/"
    },
    "executionInfo": {
     "elapsed": 2816,
     "status": "ok",
     "timestamp": 1638171402756,
     "user": {
      "displayName": "Seyeong Jung",
      "photoUrl": "https://lh3.googleusercontent.com/a/default-user=s64",
      "userId": "01913346087161822745"
     },
     "user_tz": -540
    },
    "id": "b4KvUlLpnnq2",
    "outputId": "be362b72-fc6a-4b00-d1e4-5f131a1a1a24"
   },
   "outputs": [
    {
     "data": {
      "text/plain": [
       "36828"
      ]
     },
     "execution_count": 70,
     "metadata": {},
     "output_type": "execute_result"
    }
   ],
   "source": [
    "# df1 = open('/content/drive/MyDrive/DOTORY/동화 본문 코딩 2차.txt', 'r', encoding='cp949').read()\n",
    "# df2 = open('/content/drive/MyDrive/DOTORY/tale.txt', 'r', encoding='utf-8').read()\n",
    "# df = []\n",
    "# for i in df1.split('\\n\\n\\n'):\n",
    "#     story = i.split('\\n\\n')[1].split('\\n')\n",
    "#     df.extend(story)\n",
    "# for i in df2.split('\\n\\n'):\n",
    "#     story = i.split('\\n')\n",
    "#     df.extend(story)\n",
    "# len(df)  # 한국어 동화 데이터 문장 개수"
   ]
  },
  {
   "cell_type": "code",
   "execution_count": null,
   "metadata": {
    "id": "wkriIRrYqc2c"
   },
   "outputs": [],
   "source": [
    "with open('/content/drive/MyDrive/DOTORY/sentence_db.txt', 'w') as f:\n",
    "    for sentence in origin:\n",
    "        f.write(sentence + '\\n')\n",
    "f.close()"
   ]
  },
  {
   "cell_type": "code",
   "execution_count": null,
   "metadata": {
    "id": "P61JEaTdrn1V"
   },
   "outputs": [],
   "source": [
    "f = open(\"/content/drive/MyDrive/DOTORY/sentence_db.txt\", 'r')\n",
    "sentence_db = f.read().split('\\n')\n",
    "f.close()"
   ]
  },
  {
   "cell_type": "code",
   "execution_count": null,
   "metadata": {
    "colab": {
     "base_uri": "https://localhost:8080/"
    },
    "executionInfo": {
     "elapsed": 453,
     "status": "ok",
     "timestamp": 1638157209708,
     "user": {
      "displayName": "Seyeong Jung",
      "photoUrl": "https://lh3.googleusercontent.com/a/default-user=s64",
      "userId": "01913346087161822745"
     },
     "user_tz": -540
    },
    "id": "8X77obe9sBM8",
    "outputId": "018dc492-c8ae-446c-8ae9-0b0a01fad3c3"
   },
   "outputs": [
    {
     "data": {
      "text/plain": [
       "41884"
      ]
     },
     "execution_count": 63,
     "metadata": {},
     "output_type": "execute_result"
    }
   ],
   "source": [
    "len(sentence_db)"
   ]
  },
  {
   "cell_type": "code",
   "execution_count": null,
   "metadata": {
    "id": "r-If2CKkrcjv"
   },
   "outputs": [],
   "source": [
    "# # bad sentence API\n",
    "# import json\n",
    "# def filter_bad(text):\n",
    "#     url = \"https://wsapi.simsimi.com/190410/classify/bad\"\n",
    "\n",
    "#     KEY = \"----private key----\"\n",
    "\n",
    "#     headers = {\n",
    "#         \"Content-Type\": \"application/json\",\n",
    "#         \"x-api-key\": KEY\n",
    "#     }\n",
    "\n",
    "#     data = {\n",
    "#         \"sentence\": text,\n",
    "#         \"lang\": \"ko\",\n",
    "#         \"type\": \"DPD\"\n",
    "#     }\n",
    "\n",
    "#     response = requests.post(url, headers=headers, data=data)\n",
    "#     output = response.json()\n",
    "#     return output[\"bad\"]"
   ]
  },
  {
   "cell_type": "markdown",
   "metadata": {
    "id": "2ouY9tsBe_0d"
   },
   "source": [
    "## Generate"
   ]
  },
  {
   "cell_type": "code",
   "execution_count": null,
   "metadata": {
    "colab": {
     "base_uri": "https://localhost:8080/",
     "height": 960
    },
    "executionInfo": {
     "elapsed": 87928,
     "status": "error",
     "timestamp": 1636010763196,
     "user": {
      "displayName": "Seyeong Jung",
      "photoUrl": "https://lh3.googleusercontent.com/a/default-user=s64",
      "userId": "01913346087161822745"
     },
     "user_tz": -540
    },
    "id": "lz_9J_WrlHJ9",
    "outputId": "57aba8b1-413c-40f8-a181-072b6a72e7e7"
   },
   "outputs": [
    {
     "name": "stdout",
     "output_type": "stream",
     "text": [
      "Enter the first sentence : 옛날에 한 소녀가 살고 있었어요.\n",
      "Generated 1 :  내가 아는 한, 그것은 내 자리가 아닙니다.\n",
      "Generated 2 :  시간을 내면 스스로 뭔가를 만들려고 해도 늦지 않습니다.\n",
      "Generated 3 :  그녀는 훌륭한 예쁜 소녀였고 요정들을 위해 나가 옷을 입곤 했습니다.\n",
      "\n",
      "Choose the sentence number : 3\n",
      "Selected sentence :  그녀는 훌륭한 예쁜 소녀였고 요정들을 위해 나가 옷을 입곤 했습니다.\n",
      "Generated 1 :  그녀는 올 때마다 눈처럼 흰색의 작은 검은 개가 있었고 머리에 금관을 착용했습니다.\n",
      "Generated 2 :  어느 날 그녀는 성에서 멀지 않은 작은 계곡에 있었고, 너무 피곤하고 목이 마르고 개울로 내려와 작은 병에서 물을 조금 마셨습니다.\n",
      "Generated 3 :  그녀는 앞치마에 꽃다발을 가지고 있었고, 그들은 그녀에게 꽃을 피우라고 가르쳤습니다.\n",
      "\n",
      "Choose the sentence number : 2\n",
      "Selected sentence :  어느 날 그녀는 성에서 멀지 않은 작은 계곡에 있었고, 너무 피곤하고 목이 마르고 개울로 내려와 작은 병에서 물을 조금 마셨습니다.\n",
      "Generated 1 :  술을 마셨을 때, 그녀는 옆에 서있는 아름다운 작은 소녀를 보았고, 그녀에게 결혼할 것인지 물었습니다.\n",
      "Generated 2 :  그러나 술을 마시고 나서, 그녀는 물이 그녀에게 다소 더운 것을 발견했고, 그래서 그녀는 더 많은 것을 얻기 위해 집으로 달려갔습니다.\n",
      "Generated 3 :  그리고 개울을 걷는 동안 새들이 노래하는 것을들을 수 있다고 생각했습니다. 그러고 나서 그들은 어디로 가야 할지, 무엇을 해야 할지 알 수 있습니다.\n",
      "\n",
      "Choose the sentence number : 3\n",
      "Selected sentence :  그리고 개울을 걷는 동안 새들이 노래하는 것을들을 수 있다고 생각했습니다. 그러고 나서 그들은 어디로 가야 할지, 무엇을 해야 할지 알 수 있습니다.\n",
      "Generated 1 :  그래서 그녀는 배낭을 들고 출발했고, 걸어서 \"나는 태양이 사는 호수로 갈 것입니다.\n",
      "Generated 2 :  그녀는 일어나서 황금 곱슬머리를 약간 구부리고 어두운 푸른 물속을 올려다보았습니다.\n",
      "Generated 3 :  그래서 그녀는 산책을 하고, 걷고, 걷고, 잠시 후 노래를 부르기 시작했습니다.\n"
     ]
    },
    {
     "ename": "KeyboardInterrupt",
     "evalue": "ignored",
     "output_type": "error",
     "traceback": [
      "\u001b[0;31m---------------------------------------------------------------------------\u001b[0m",
      "\u001b[0;31mKeyboardInterrupt\u001b[0m                         Traceback (most recent call last)",
      "\u001b[0;32m/usr/local/lib/python3.7/dist-packages/ipykernel/kernelbase.py\u001b[0m in \u001b[0;36m_input_request\u001b[0;34m(self, prompt, ident, parent, password)\u001b[0m\n\u001b[1;32m    728\u001b[0m             \u001b[0;32mtry\u001b[0m\u001b[0;34m:\u001b[0m\u001b[0;34m\u001b[0m\u001b[0;34m\u001b[0m\u001b[0m\n\u001b[0;32m--> 729\u001b[0;31m                 \u001b[0mident\u001b[0m\u001b[0;34m,\u001b[0m \u001b[0mreply\u001b[0m \u001b[0;34m=\u001b[0m \u001b[0mself\u001b[0m\u001b[0;34m.\u001b[0m\u001b[0msession\u001b[0m\u001b[0;34m.\u001b[0m\u001b[0mrecv\u001b[0m\u001b[0;34m(\u001b[0m\u001b[0mself\u001b[0m\u001b[0;34m.\u001b[0m\u001b[0mstdin_socket\u001b[0m\u001b[0;34m,\u001b[0m \u001b[0;36m0\u001b[0m\u001b[0;34m)\u001b[0m\u001b[0;34m\u001b[0m\u001b[0;34m\u001b[0m\u001b[0m\n\u001b[0m\u001b[1;32m    730\u001b[0m             \u001b[0;32mexcept\u001b[0m \u001b[0mException\u001b[0m\u001b[0;34m:\u001b[0m\u001b[0;34m\u001b[0m\u001b[0;34m\u001b[0m\u001b[0m\n",
      "\u001b[0;32m/usr/local/lib/python3.7/dist-packages/jupyter_client/session.py\u001b[0m in \u001b[0;36mrecv\u001b[0;34m(self, socket, mode, content, copy)\u001b[0m\n\u001b[1;32m    802\u001b[0m         \u001b[0;32mtry\u001b[0m\u001b[0;34m:\u001b[0m\u001b[0;34m\u001b[0m\u001b[0;34m\u001b[0m\u001b[0m\n\u001b[0;32m--> 803\u001b[0;31m             \u001b[0mmsg_list\u001b[0m \u001b[0;34m=\u001b[0m \u001b[0msocket\u001b[0m\u001b[0;34m.\u001b[0m\u001b[0mrecv_multipart\u001b[0m\u001b[0;34m(\u001b[0m\u001b[0mmode\u001b[0m\u001b[0;34m,\u001b[0m \u001b[0mcopy\u001b[0m\u001b[0;34m=\u001b[0m\u001b[0mcopy\u001b[0m\u001b[0;34m)\u001b[0m\u001b[0;34m\u001b[0m\u001b[0;34m\u001b[0m\u001b[0m\n\u001b[0m\u001b[1;32m    804\u001b[0m         \u001b[0;32mexcept\u001b[0m \u001b[0mzmq\u001b[0m\u001b[0;34m.\u001b[0m\u001b[0mZMQError\u001b[0m \u001b[0;32mas\u001b[0m \u001b[0me\u001b[0m\u001b[0;34m:\u001b[0m\u001b[0;34m\u001b[0m\u001b[0;34m\u001b[0m\u001b[0m\n",
      "\u001b[0;32m/usr/local/lib/python3.7/dist-packages/zmq/sugar/socket.py\u001b[0m in \u001b[0;36mrecv_multipart\u001b[0;34m(self, flags, copy, track)\u001b[0m\n\u001b[1;32m    624\u001b[0m         \"\"\"\n\u001b[0;32m--> 625\u001b[0;31m         \u001b[0mparts\u001b[0m \u001b[0;34m=\u001b[0m \u001b[0;34m[\u001b[0m\u001b[0mself\u001b[0m\u001b[0;34m.\u001b[0m\u001b[0mrecv\u001b[0m\u001b[0;34m(\u001b[0m\u001b[0mflags\u001b[0m\u001b[0;34m,\u001b[0m \u001b[0mcopy\u001b[0m\u001b[0;34m=\u001b[0m\u001b[0mcopy\u001b[0m\u001b[0;34m,\u001b[0m \u001b[0mtrack\u001b[0m\u001b[0;34m=\u001b[0m\u001b[0mtrack\u001b[0m\u001b[0;34m)\u001b[0m\u001b[0;34m]\u001b[0m\u001b[0;34m\u001b[0m\u001b[0;34m\u001b[0m\u001b[0m\n\u001b[0m\u001b[1;32m    626\u001b[0m         \u001b[0;31m# have first part already, only loop while more to receive\u001b[0m\u001b[0;34m\u001b[0m\u001b[0;34m\u001b[0m\u001b[0;34m\u001b[0m\u001b[0m\n",
      "\u001b[0;32mzmq/backend/cython/socket.pyx\u001b[0m in \u001b[0;36mzmq.backend.cython.socket.Socket.recv\u001b[0;34m()\u001b[0m\n",
      "\u001b[0;32mzmq/backend/cython/socket.pyx\u001b[0m in \u001b[0;36mzmq.backend.cython.socket.Socket.recv\u001b[0;34m()\u001b[0m\n",
      "\u001b[0;32mzmq/backend/cython/socket.pyx\u001b[0m in \u001b[0;36mzmq.backend.cython.socket._recv_copy\u001b[0;34m()\u001b[0m\n",
      "\u001b[0;32m/usr/local/lib/python3.7/dist-packages/zmq/backend/cython/checkrc.pxd\u001b[0m in \u001b[0;36mzmq.backend.cython.checkrc._check_rc\u001b[0;34m()\u001b[0m\n",
      "\u001b[0;31mKeyboardInterrupt\u001b[0m: ",
      "\nDuring handling of the above exception, another exception occurred:\n",
      "\u001b[0;31mKeyboardInterrupt\u001b[0m                         Traceback (most recent call last)",
      "\u001b[0;32m<ipython-input-18-6f44cc7f80e3>\u001b[0m in \u001b[0;36m<module>\u001b[0;34m()\u001b[0m\n\u001b[1;32m     14\u001b[0m     \u001b[0;32mfor\u001b[0m \u001b[0mi\u001b[0m \u001b[0;32min\u001b[0m \u001b[0mrange\u001b[0m\u001b[0;34m(\u001b[0m\u001b[0;36m3\u001b[0m\u001b[0;34m)\u001b[0m\u001b[0;34m:\u001b[0m\u001b[0;34m\u001b[0m\u001b[0;34m\u001b[0m\u001b[0m\n\u001b[1;32m     15\u001b[0m         \u001b[0mprint\u001b[0m\u001b[0;34m(\u001b[0m\u001b[0;34m'Generated '\u001b[0m \u001b[0;34m+\u001b[0m \u001b[0mstr\u001b[0m\u001b[0;34m(\u001b[0m\u001b[0mi\u001b[0m\u001b[0;34m+\u001b[0m\u001b[0;36m1\u001b[0m\u001b[0;34m)\u001b[0m \u001b[0;34m+\u001b[0m \u001b[0;34m' : '\u001b[0m\u001b[0;34m,\u001b[0m \u001b[0moutput_kor\u001b[0m\u001b[0;34m[\u001b[0m\u001b[0mi\u001b[0m\u001b[0;34m]\u001b[0m\u001b[0;34m)\u001b[0m\u001b[0;34m\u001b[0m\u001b[0;34m\u001b[0m\u001b[0m\n\u001b[0;32m---> 16\u001b[0;31m     \u001b[0mnext_idx\u001b[0m \u001b[0;34m=\u001b[0m \u001b[0mint\u001b[0m\u001b[0;34m(\u001b[0m\u001b[0minput\u001b[0m\u001b[0;34m(\u001b[0m\u001b[0;34m'\\nChoose the sentence number : '\u001b[0m\u001b[0;34m)\u001b[0m\u001b[0;34m)\u001b[0m \u001b[0;34m-\u001b[0m \u001b[0;36m1\u001b[0m\u001b[0;34m\u001b[0m\u001b[0;34m\u001b[0m\u001b[0m\n\u001b[0m\u001b[1;32m     17\u001b[0m     \u001b[0mprint\u001b[0m\u001b[0;34m(\u001b[0m\u001b[0;34m'Selected sentence : '\u001b[0m\u001b[0;34m,\u001b[0m \u001b[0moutput_kor\u001b[0m\u001b[0;34m[\u001b[0m\u001b[0mnext_idx\u001b[0m\u001b[0;34m]\u001b[0m\u001b[0;34m)\u001b[0m\u001b[0;34m\u001b[0m\u001b[0;34m\u001b[0m\u001b[0m\n\u001b[1;32m     18\u001b[0m     \u001b[0mresult\u001b[0m\u001b[0;34m.\u001b[0m\u001b[0mappend\u001b[0m\u001b[0;34m(\u001b[0m\u001b[0moutput_kor\u001b[0m\u001b[0;34m[\u001b[0m\u001b[0mnext_idx\u001b[0m\u001b[0;34m]\u001b[0m\u001b[0;34m)\u001b[0m\u001b[0;34m\u001b[0m\u001b[0;34m\u001b[0m\u001b[0m\n",
      "\u001b[0;32m/usr/local/lib/python3.7/dist-packages/ipykernel/kernelbase.py\u001b[0m in \u001b[0;36mraw_input\u001b[0;34m(self, prompt)\u001b[0m\n\u001b[1;32m    702\u001b[0m             \u001b[0mself\u001b[0m\u001b[0;34m.\u001b[0m\u001b[0m_parent_ident\u001b[0m\u001b[0;34m,\u001b[0m\u001b[0;34m\u001b[0m\u001b[0;34m\u001b[0m\u001b[0m\n\u001b[1;32m    703\u001b[0m             \u001b[0mself\u001b[0m\u001b[0;34m.\u001b[0m\u001b[0m_parent_header\u001b[0m\u001b[0;34m,\u001b[0m\u001b[0;34m\u001b[0m\u001b[0;34m\u001b[0m\u001b[0m\n\u001b[0;32m--> 704\u001b[0;31m             \u001b[0mpassword\u001b[0m\u001b[0;34m=\u001b[0m\u001b[0;32mFalse\u001b[0m\u001b[0;34m,\u001b[0m\u001b[0;34m\u001b[0m\u001b[0;34m\u001b[0m\u001b[0m\n\u001b[0m\u001b[1;32m    705\u001b[0m         )\n\u001b[1;32m    706\u001b[0m \u001b[0;34m\u001b[0m\u001b[0m\n",
      "\u001b[0;32m/usr/local/lib/python3.7/dist-packages/ipykernel/kernelbase.py\u001b[0m in \u001b[0;36m_input_request\u001b[0;34m(self, prompt, ident, parent, password)\u001b[0m\n\u001b[1;32m    732\u001b[0m             \u001b[0;32mexcept\u001b[0m \u001b[0mKeyboardInterrupt\u001b[0m\u001b[0;34m:\u001b[0m\u001b[0;34m\u001b[0m\u001b[0;34m\u001b[0m\u001b[0m\n\u001b[1;32m    733\u001b[0m                 \u001b[0;31m# re-raise KeyboardInterrupt, to truncate traceback\u001b[0m\u001b[0;34m\u001b[0m\u001b[0;34m\u001b[0m\u001b[0;34m\u001b[0m\u001b[0m\n\u001b[0;32m--> 734\u001b[0;31m                 \u001b[0;32mraise\u001b[0m \u001b[0mKeyboardInterrupt\u001b[0m\u001b[0;34m\u001b[0m\u001b[0;34m\u001b[0m\u001b[0m\n\u001b[0m\u001b[1;32m    735\u001b[0m             \u001b[0;32melse\u001b[0m\u001b[0;34m:\u001b[0m\u001b[0;34m\u001b[0m\u001b[0;34m\u001b[0m\u001b[0m\n\u001b[1;32m    736\u001b[0m                 \u001b[0;32mbreak\u001b[0m\u001b[0;34m\u001b[0m\u001b[0;34m\u001b[0m\u001b[0m\n",
      "\u001b[0;31mKeyboardInterrupt\u001b[0m: "
     ]
    }
   ],
   "source": [
    "# result = []\n",
    "\n",
    "# input_sentence = input('Enter the first sentence : ')\n",
    "# input_sentence = translate_kakao(input_sentence, 'kr', 'en')  # papago : ko, kakao : kr\n",
    "\n",
    "# for i in range(20):\n",
    "#     encoded = torch.tensor(tokenizer.encode(input_sentence)).unsqueeze(0).to(device)\n",
    "#     generated = model.generate(encoded, do_sample=True, top_p=0.9, num_return_sequences=3, max_length=200, min_length=1, temperature=0.6, pad_token_id=tokenizer.eos_token_id).to(device)  # length_penalty=10, \n",
    "#     decoded = [tokenizer.decode(generated[i]) for i in range(3)]  # decode\n",
    "#     output_eng = [decoded[i].replace(input_sentence, '').lstrip(' ') for i in range(3)]  # input 중복 문장 제거\n",
    "#     output_eng = [sent_tokenize(output_eng[i])[0] for i in range(3)]  # 첫 번째 문장 분리\n",
    "#     output_kor = [translate_kakao(output_eng[i], 'en', 'ku') for i in range(3)]  # papgo : ko, kakao : ku (ku : 높임말 문체 in kakao)\n",
    "#     output_kor = [spell_checker.check(output_kor[i]).checked for i in range(3)]  # 맞춤법 검사\n",
    "#     for i in range(3):\n",
    "#         print('Generated ' + str(i+1) + ' : ', output_kor[i])\n",
    "#     next_idx = int(input('\\nChoose the sentence number : ')) - 1\n",
    "#     print('Selected sentence : ', output_kor[next_idx])\n",
    "#     result.append(output_kor[next_idx])\n",
    "#     input_sentence = output_eng[next_idx]\n"
   ]
  },
  {
   "cell_type": "code",
   "execution_count": null,
   "metadata": {
    "colab": {
     "base_uri": "https://localhost:8080/",
     "height": 1000
    },
    "executionInfo": {
     "elapsed": 123631,
     "status": "error",
     "timestamp": 1637138699719,
     "user": {
      "displayName": "Seyeong Jung",
      "photoUrl": "https://lh3.googleusercontent.com/a/default-user=s64",
      "userId": "01913346087161822745"
     },
     "user_tz": -540
    },
    "id": "lf2cBJfo0put",
    "outputId": "41e7754b-33dd-49b2-ae40-dec4830ad55a"
   },
   "outputs": [
    {
     "name": "stdout",
     "output_type": "stream",
     "text": [
      "Enter the first sentence : 옛날에 한 소녀가 살고 있었어요.\n",
      "Generated 1 :  그녀는 사람들을 돕는 것을 좋아하는 친절한 소녀였습니다.\n",
      "Generated 2 :  그녀는 아름답고 똑똑하고 인기가 있었습니다.\n",
      "Generated 3 :  그녀는 공주였습니다.\n",
      "\n",
      "Choose the sentence number : 1\n",
      "Selected sentence :  그녀는 사람들을 돕는 것을 좋아하는 친절한 소녀였습니다.\n",
      "Generated 1 :  그녀는 항상 저를 도와주는 것을 기뻐했습니다.\n",
      "Generated 2 :  그녀는 좋은 어머니였고, 그녀는 항상 아이들을 위해 거기에 있었습니다.\n",
      "Generated 3 :  \"왜 그렇게 놀랐는지 모르겠어요.\"라고 그녀는 말했습니다.\n",
      "\n",
      "Choose the sentence number : 2\n",
      "Selected sentence :  그녀는 좋은 어머니였고, 그녀는 항상 아이들을 위해 거기에 있었습니다.\n",
      "Generated 1 :  나는 그녀가 매우 자랑스럽다\"고 말 했습니다.\n",
      "Generated 2 :  그녀는 좋은 어머니였습니다.\n",
      "Generated 3 :  그녀는 아이들과 매우 잘 어울렸습니다.\n",
      "\n",
      "Choose the sentence number : 3\n",
      "Selected sentence :  그녀는 아이들과 매우 잘 어울렸습니다.\n",
      "Generated 1 :  그녀는 좋은 어머니였습니다.\n",
      "Generated 2 :  그녀는 남편과 아주 잘 지내고 있었습니다.\n",
      "Generated 3 :  그녀는 친구들과 잘 지내고 있었습니다.\n",
      "\n",
      "Choose the sentence number : 2\n",
      "Selected sentence :  그녀는 남편과 아주 잘 지내고 있었습니다.\n",
      "Generated 1 :  그녀는 아이들에게 매우 잘해주었습니다.\n",
      "Generated 2 :  그는 \"남편과 좋은 관계를 맺었다\"고 말 했습니다.\n",
      "Generated 3 :  \"그녀는 남편과 매우 잘 어울렸습니다.\n",
      "\n",
      "Choose the sentence number : 1\n",
      "Selected sentence :  그녀는 아이들에게 매우 잘해주었습니다.\n",
      "Generated 1 :  그녀는 손주들과 매우 잘 어울렸습니다.\n",
      "Generated 2 :  그녀는 우리 모두에게 매우 친절하고 관대했습니다.\n",
      "Generated 3 :  그녀는 남편과 아주 잘 지내고 있습니다. \"\n"
     ]
    },
    {
     "ename": "KeyboardInterrupt",
     "evalue": "ignored",
     "output_type": "error",
     "traceback": [
      "\u001b[0;31m---------------------------------------------------------------------------\u001b[0m",
      "\u001b[0;31mKeyboardInterrupt\u001b[0m                         Traceback (most recent call last)",
      "\u001b[0;32m/usr/local/lib/python3.7/dist-packages/ipykernel/kernelbase.py\u001b[0m in \u001b[0;36m_input_request\u001b[0;34m(self, prompt, ident, parent, password)\u001b[0m\n\u001b[1;32m    728\u001b[0m             \u001b[0;32mtry\u001b[0m\u001b[0;34m:\u001b[0m\u001b[0;34m\u001b[0m\u001b[0;34m\u001b[0m\u001b[0m\n\u001b[0;32m--> 729\u001b[0;31m                 \u001b[0mident\u001b[0m\u001b[0;34m,\u001b[0m \u001b[0mreply\u001b[0m \u001b[0;34m=\u001b[0m \u001b[0mself\u001b[0m\u001b[0;34m.\u001b[0m\u001b[0msession\u001b[0m\u001b[0;34m.\u001b[0m\u001b[0mrecv\u001b[0m\u001b[0;34m(\u001b[0m\u001b[0mself\u001b[0m\u001b[0;34m.\u001b[0m\u001b[0mstdin_socket\u001b[0m\u001b[0;34m,\u001b[0m \u001b[0;36m0\u001b[0m\u001b[0;34m)\u001b[0m\u001b[0;34m\u001b[0m\u001b[0;34m\u001b[0m\u001b[0m\n\u001b[0m\u001b[1;32m    730\u001b[0m             \u001b[0;32mexcept\u001b[0m \u001b[0mException\u001b[0m\u001b[0;34m:\u001b[0m\u001b[0;34m\u001b[0m\u001b[0;34m\u001b[0m\u001b[0m\n",
      "\u001b[0;32m/usr/local/lib/python3.7/dist-packages/jupyter_client/session.py\u001b[0m in \u001b[0;36mrecv\u001b[0;34m(self, socket, mode, content, copy)\u001b[0m\n\u001b[1;32m    802\u001b[0m         \u001b[0;32mtry\u001b[0m\u001b[0;34m:\u001b[0m\u001b[0;34m\u001b[0m\u001b[0;34m\u001b[0m\u001b[0m\n\u001b[0;32m--> 803\u001b[0;31m             \u001b[0mmsg_list\u001b[0m \u001b[0;34m=\u001b[0m \u001b[0msocket\u001b[0m\u001b[0;34m.\u001b[0m\u001b[0mrecv_multipart\u001b[0m\u001b[0;34m(\u001b[0m\u001b[0mmode\u001b[0m\u001b[0;34m,\u001b[0m \u001b[0mcopy\u001b[0m\u001b[0;34m=\u001b[0m\u001b[0mcopy\u001b[0m\u001b[0;34m)\u001b[0m\u001b[0;34m\u001b[0m\u001b[0;34m\u001b[0m\u001b[0m\n\u001b[0m\u001b[1;32m    804\u001b[0m         \u001b[0;32mexcept\u001b[0m \u001b[0mzmq\u001b[0m\u001b[0;34m.\u001b[0m\u001b[0mZMQError\u001b[0m \u001b[0;32mas\u001b[0m \u001b[0me\u001b[0m\u001b[0;34m:\u001b[0m\u001b[0;34m\u001b[0m\u001b[0;34m\u001b[0m\u001b[0m\n",
      "\u001b[0;32m/usr/local/lib/python3.7/dist-packages/zmq/sugar/socket.py\u001b[0m in \u001b[0;36mrecv_multipart\u001b[0;34m(self, flags, copy, track)\u001b[0m\n\u001b[1;32m    624\u001b[0m         \"\"\"\n\u001b[0;32m--> 625\u001b[0;31m         \u001b[0mparts\u001b[0m \u001b[0;34m=\u001b[0m \u001b[0;34m[\u001b[0m\u001b[0mself\u001b[0m\u001b[0;34m.\u001b[0m\u001b[0mrecv\u001b[0m\u001b[0;34m(\u001b[0m\u001b[0mflags\u001b[0m\u001b[0;34m,\u001b[0m \u001b[0mcopy\u001b[0m\u001b[0;34m=\u001b[0m\u001b[0mcopy\u001b[0m\u001b[0;34m,\u001b[0m \u001b[0mtrack\u001b[0m\u001b[0;34m=\u001b[0m\u001b[0mtrack\u001b[0m\u001b[0;34m)\u001b[0m\u001b[0;34m]\u001b[0m\u001b[0;34m\u001b[0m\u001b[0;34m\u001b[0m\u001b[0m\n\u001b[0m\u001b[1;32m    626\u001b[0m         \u001b[0;31m# have first part already, only loop while more to receive\u001b[0m\u001b[0;34m\u001b[0m\u001b[0;34m\u001b[0m\u001b[0;34m\u001b[0m\u001b[0m\n",
      "\u001b[0;32mzmq/backend/cython/socket.pyx\u001b[0m in \u001b[0;36mzmq.backend.cython.socket.Socket.recv\u001b[0;34m()\u001b[0m\n",
      "\u001b[0;32mzmq/backend/cython/socket.pyx\u001b[0m in \u001b[0;36mzmq.backend.cython.socket.Socket.recv\u001b[0;34m()\u001b[0m\n",
      "\u001b[0;32mzmq/backend/cython/socket.pyx\u001b[0m in \u001b[0;36mzmq.backend.cython.socket._recv_copy\u001b[0;34m()\u001b[0m\n",
      "\u001b[0;32m/usr/local/lib/python3.7/dist-packages/zmq/backend/cython/checkrc.pxd\u001b[0m in \u001b[0;36mzmq.backend.cython.checkrc._check_rc\u001b[0;34m()\u001b[0m\n",
      "\u001b[0;31mKeyboardInterrupt\u001b[0m: ",
      "\nDuring handling of the above exception, another exception occurred:\n",
      "\u001b[0;31mKeyboardInterrupt\u001b[0m                         Traceback (most recent call last)",
      "\u001b[0;32m<ipython-input-6-ab9d29293497>\u001b[0m in \u001b[0;36m<module>\u001b[0;34m()\u001b[0m\n\u001b[1;32m     16\u001b[0m     \u001b[0;32mfor\u001b[0m \u001b[0mi\u001b[0m \u001b[0;32min\u001b[0m \u001b[0mrange\u001b[0m\u001b[0;34m(\u001b[0m\u001b[0;36m3\u001b[0m\u001b[0;34m)\u001b[0m\u001b[0;34m:\u001b[0m\u001b[0;34m\u001b[0m\u001b[0;34m\u001b[0m\u001b[0m\n\u001b[1;32m     17\u001b[0m         \u001b[0mprint\u001b[0m\u001b[0;34m(\u001b[0m\u001b[0;34m'Generated '\u001b[0m \u001b[0;34m+\u001b[0m \u001b[0mstr\u001b[0m\u001b[0;34m(\u001b[0m\u001b[0mi\u001b[0m\u001b[0;34m+\u001b[0m\u001b[0;36m1\u001b[0m\u001b[0;34m)\u001b[0m \u001b[0;34m+\u001b[0m \u001b[0;34m' : '\u001b[0m\u001b[0;34m,\u001b[0m \u001b[0moutput_kor\u001b[0m\u001b[0;34m[\u001b[0m\u001b[0mi\u001b[0m\u001b[0;34m]\u001b[0m\u001b[0;34m)\u001b[0m\u001b[0;34m\u001b[0m\u001b[0;34m\u001b[0m\u001b[0m\n\u001b[0;32m---> 18\u001b[0;31m     \u001b[0mnext_idx\u001b[0m \u001b[0;34m=\u001b[0m \u001b[0mint\u001b[0m\u001b[0;34m(\u001b[0m\u001b[0minput\u001b[0m\u001b[0;34m(\u001b[0m\u001b[0;34m'\\nChoose the sentence number : '\u001b[0m\u001b[0;34m)\u001b[0m\u001b[0;34m)\u001b[0m \u001b[0;34m-\u001b[0m \u001b[0;36m1\u001b[0m\u001b[0;34m\u001b[0m\u001b[0;34m\u001b[0m\u001b[0m\n\u001b[0m\u001b[1;32m     19\u001b[0m     \u001b[0mprint\u001b[0m\u001b[0;34m(\u001b[0m\u001b[0;34m'Selected sentence : '\u001b[0m\u001b[0;34m,\u001b[0m \u001b[0moutput_kor\u001b[0m\u001b[0;34m[\u001b[0m\u001b[0mnext_idx\u001b[0m\u001b[0;34m]\u001b[0m\u001b[0;34m)\u001b[0m\u001b[0;34m\u001b[0m\u001b[0;34m\u001b[0m\u001b[0m\n\u001b[1;32m     20\u001b[0m     \u001b[0mresult\u001b[0m\u001b[0;34m.\u001b[0m\u001b[0mappend\u001b[0m\u001b[0;34m(\u001b[0m\u001b[0moutput_kor\u001b[0m\u001b[0;34m[\u001b[0m\u001b[0mnext_idx\u001b[0m\u001b[0;34m]\u001b[0m\u001b[0;34m)\u001b[0m\u001b[0;34m\u001b[0m\u001b[0;34m\u001b[0m\u001b[0m\n",
      "\u001b[0;32m/usr/local/lib/python3.7/dist-packages/ipykernel/kernelbase.py\u001b[0m in \u001b[0;36mraw_input\u001b[0;34m(self, prompt)\u001b[0m\n\u001b[1;32m    702\u001b[0m             \u001b[0mself\u001b[0m\u001b[0;34m.\u001b[0m\u001b[0m_parent_ident\u001b[0m\u001b[0;34m,\u001b[0m\u001b[0;34m\u001b[0m\u001b[0;34m\u001b[0m\u001b[0m\n\u001b[1;32m    703\u001b[0m             \u001b[0mself\u001b[0m\u001b[0;34m.\u001b[0m\u001b[0m_parent_header\u001b[0m\u001b[0;34m,\u001b[0m\u001b[0;34m\u001b[0m\u001b[0;34m\u001b[0m\u001b[0m\n\u001b[0;32m--> 704\u001b[0;31m             \u001b[0mpassword\u001b[0m\u001b[0;34m=\u001b[0m\u001b[0;32mFalse\u001b[0m\u001b[0;34m,\u001b[0m\u001b[0;34m\u001b[0m\u001b[0;34m\u001b[0m\u001b[0m\n\u001b[0m\u001b[1;32m    705\u001b[0m         )\n\u001b[1;32m    706\u001b[0m \u001b[0;34m\u001b[0m\u001b[0m\n",
      "\u001b[0;32m/usr/local/lib/python3.7/dist-packages/ipykernel/kernelbase.py\u001b[0m in \u001b[0;36m_input_request\u001b[0;34m(self, prompt, ident, parent, password)\u001b[0m\n\u001b[1;32m    732\u001b[0m             \u001b[0;32mexcept\u001b[0m \u001b[0mKeyboardInterrupt\u001b[0m\u001b[0;34m:\u001b[0m\u001b[0;34m\u001b[0m\u001b[0;34m\u001b[0m\u001b[0m\n\u001b[1;32m    733\u001b[0m                 \u001b[0;31m# re-raise KeyboardInterrupt, to truncate traceback\u001b[0m\u001b[0;34m\u001b[0m\u001b[0;34m\u001b[0m\u001b[0;34m\u001b[0m\u001b[0m\n\u001b[0;32m--> 734\u001b[0;31m                 \u001b[0;32mraise\u001b[0m \u001b[0mKeyboardInterrupt\u001b[0m\u001b[0;34m\u001b[0m\u001b[0;34m\u001b[0m\u001b[0m\n\u001b[0m\u001b[1;32m    735\u001b[0m             \u001b[0;32melse\u001b[0m\u001b[0;34m:\u001b[0m\u001b[0;34m\u001b[0m\u001b[0;34m\u001b[0m\u001b[0m\n\u001b[1;32m    736\u001b[0m                 \u001b[0;32mbreak\u001b[0m\u001b[0;34m\u001b[0m\u001b[0;34m\u001b[0m\u001b[0m\n",
      "\u001b[0;31mKeyboardInterrupt\u001b[0m: "
     ]
    }
   ],
   "source": [
    "# input 중복 제거 및 순서 변경\n",
    "result = []\n",
    "\n",
    "prefix = 'A sad fairy tale, the main character of the girl::  '\n",
    "input_sentence = input('Enter the first sentence : ')\n",
    "result.append(input_sentence)\n",
    "input_sentence = prefix + translate_kakao(input_sentence, 'kr', 'en')  # papago : ko, kakao : kr\n",
    "\n",
    "for i in range(20):\n",
    "    encoded = torch.tensor(tokenizer.encode(input_sentence)).to(device)\n",
    "    generated = model.generate(encoded.unsqueeze(0), do_sample=True, use_cache=True, top_p=0.9, num_return_sequences=3, max_length=200, min_length=1, temperature=0.6, pad_token_id=tokenizer.eos_token_id).to(device)  # length_penalty=10,\n",
    "    generated = [generated[i][len(encoded):] for i in range(3)]  # input 중복 제거\n",
    "    decoded = [tokenizer.decode(generated[i]) for i in range(3)]  # decode\n",
    "    output_eng = [sent_tokenize(decoded[i])[0] for i in range(3)]  # 첫 번째 문장 분리\n",
    "    output_kor = [translate_kakao(output_eng[i], 'en', 'ku') for i in range(3)]  # papgo : ko, kakao : ku (ku : 높임말 문체 in kakao)\n",
    "    output_kor = [spell_checker.check(output_kor[i]).checked for i in range(3)]  # 맞춤법 검사\n",
    "    for i in range(3):\n",
    "        print('Generated ' + str(i+1) + ' : ', output_kor[i])\n",
    "    next_idx = int(input('\\nChoose the sentence number : ')) - 1\n",
    "    print('Selected sentence : ', output_kor[next_idx])\n",
    "    result.append(output_kor[next_idx])\n",
    "    input_sentence = output_eng[next_idx]\n"
   ]
  },
  {
   "cell_type": "code",
   "execution_count": null,
   "metadata": {
    "colab": {
     "base_uri": "https://localhost:8080/",
     "height": 745
    },
    "executionInfo": {
     "elapsed": 33075,
     "status": "error",
     "timestamp": 1637732199351,
     "user": {
      "displayName": "Seyeong Jung",
      "photoUrl": "https://lh3.googleusercontent.com/a/default-user=s64",
      "userId": "01913346087161822745"
     },
     "user_tz": -540
    },
    "id": "xKyC9KmKGEEL",
    "outputId": "5d390924-e77d-460f-c50f-db27914be62e"
   },
   "outputs": [
    {
     "name": "stdout",
     "output_type": "stream",
     "text": [
      "Enter the first sentence : 옛날에 한 소녀가 살고 있었어요.\n",
      "Generated 1 :  그녀는 예쁘고, 얌전했으며, 이마 한가운데에 금별이 있었습니다.\n",
      "Generated 2 :  그녀는 좋은 아이였지만, 멍청하고, 말하지 않았습니다.\n",
      "Generated 3 :  그녀는 매력적이었습니다!\n",
      "\n",
      "Choose the sentence number : 1\n",
      "Selected sentence :  그녀는 예쁘고, 얌전했으며, 이마 한가운데에 금별이 있었습니다.\n",
      "Generated 1 :  늙은 왕은 딸과 함께 갔는데, 의붓어머니는 알고 보니 딸에게 아름다운 소녀가 누구인지 물어보라고 했습니다.\n",
      "Generated 2 :  노파는 아내와 함께 떠났고 벼룩과 그라 쇼퍼는 그와 동행했습니다.\n",
      "Generated 3 :  왕은 그녀에게 그녀가 누구인지 물었습니다.\n"
     ]
    },
    {
     "ename": "KeyboardInterrupt",
     "evalue": "ignored",
     "output_type": "error",
     "traceback": [
      "\u001b[0;31m---------------------------------------------------------------------------\u001b[0m",
      "\u001b[0;31mKeyboardInterrupt\u001b[0m                         Traceback (most recent call last)",
      "\u001b[0;32m/usr/local/lib/python3.7/dist-packages/ipykernel/kernelbase.py\u001b[0m in \u001b[0;36m_input_request\u001b[0;34m(self, prompt, ident, parent, password)\u001b[0m\n\u001b[1;32m    728\u001b[0m             \u001b[0;32mtry\u001b[0m\u001b[0;34m:\u001b[0m\u001b[0;34m\u001b[0m\u001b[0;34m\u001b[0m\u001b[0m\n\u001b[0;32m--> 729\u001b[0;31m                 \u001b[0mident\u001b[0m\u001b[0;34m,\u001b[0m \u001b[0mreply\u001b[0m \u001b[0;34m=\u001b[0m \u001b[0mself\u001b[0m\u001b[0;34m.\u001b[0m\u001b[0msession\u001b[0m\u001b[0;34m.\u001b[0m\u001b[0mrecv\u001b[0m\u001b[0;34m(\u001b[0m\u001b[0mself\u001b[0m\u001b[0;34m.\u001b[0m\u001b[0mstdin_socket\u001b[0m\u001b[0;34m,\u001b[0m \u001b[0;36m0\u001b[0m\u001b[0;34m)\u001b[0m\u001b[0;34m\u001b[0m\u001b[0;34m\u001b[0m\u001b[0m\n\u001b[0m\u001b[1;32m    730\u001b[0m             \u001b[0;32mexcept\u001b[0m \u001b[0mException\u001b[0m\u001b[0;34m:\u001b[0m\u001b[0;34m\u001b[0m\u001b[0;34m\u001b[0m\u001b[0m\n",
      "\u001b[0;32m/usr/local/lib/python3.7/dist-packages/jupyter_client/session.py\u001b[0m in \u001b[0;36mrecv\u001b[0;34m(self, socket, mode, content, copy)\u001b[0m\n\u001b[1;32m    802\u001b[0m         \u001b[0;32mtry\u001b[0m\u001b[0;34m:\u001b[0m\u001b[0;34m\u001b[0m\u001b[0;34m\u001b[0m\u001b[0m\n\u001b[0;32m--> 803\u001b[0;31m             \u001b[0mmsg_list\u001b[0m \u001b[0;34m=\u001b[0m \u001b[0msocket\u001b[0m\u001b[0;34m.\u001b[0m\u001b[0mrecv_multipart\u001b[0m\u001b[0;34m(\u001b[0m\u001b[0mmode\u001b[0m\u001b[0;34m,\u001b[0m \u001b[0mcopy\u001b[0m\u001b[0;34m=\u001b[0m\u001b[0mcopy\u001b[0m\u001b[0;34m)\u001b[0m\u001b[0;34m\u001b[0m\u001b[0;34m\u001b[0m\u001b[0m\n\u001b[0m\u001b[1;32m    804\u001b[0m         \u001b[0;32mexcept\u001b[0m \u001b[0mzmq\u001b[0m\u001b[0;34m.\u001b[0m\u001b[0mZMQError\u001b[0m \u001b[0;32mas\u001b[0m \u001b[0me\u001b[0m\u001b[0;34m:\u001b[0m\u001b[0;34m\u001b[0m\u001b[0;34m\u001b[0m\u001b[0m\n",
      "\u001b[0;32m/usr/local/lib/python3.7/dist-packages/zmq/sugar/socket.py\u001b[0m in \u001b[0;36mrecv_multipart\u001b[0;34m(self, flags, copy, track)\u001b[0m\n\u001b[1;32m    624\u001b[0m         \"\"\"\n\u001b[0;32m--> 625\u001b[0;31m         \u001b[0mparts\u001b[0m \u001b[0;34m=\u001b[0m \u001b[0;34m[\u001b[0m\u001b[0mself\u001b[0m\u001b[0;34m.\u001b[0m\u001b[0mrecv\u001b[0m\u001b[0;34m(\u001b[0m\u001b[0mflags\u001b[0m\u001b[0;34m,\u001b[0m \u001b[0mcopy\u001b[0m\u001b[0;34m=\u001b[0m\u001b[0mcopy\u001b[0m\u001b[0;34m,\u001b[0m \u001b[0mtrack\u001b[0m\u001b[0;34m=\u001b[0m\u001b[0mtrack\u001b[0m\u001b[0;34m)\u001b[0m\u001b[0;34m]\u001b[0m\u001b[0;34m\u001b[0m\u001b[0;34m\u001b[0m\u001b[0m\n\u001b[0m\u001b[1;32m    626\u001b[0m         \u001b[0;31m# have first part already, only loop while more to receive\u001b[0m\u001b[0;34m\u001b[0m\u001b[0;34m\u001b[0m\u001b[0;34m\u001b[0m\u001b[0m\n",
      "\u001b[0;32mzmq/backend/cython/socket.pyx\u001b[0m in \u001b[0;36mzmq.backend.cython.socket.Socket.recv\u001b[0;34m()\u001b[0m\n",
      "\u001b[0;32mzmq/backend/cython/socket.pyx\u001b[0m in \u001b[0;36mzmq.backend.cython.socket.Socket.recv\u001b[0;34m()\u001b[0m\n",
      "\u001b[0;32mzmq/backend/cython/socket.pyx\u001b[0m in \u001b[0;36mzmq.backend.cython.socket._recv_copy\u001b[0;34m()\u001b[0m\n",
      "\u001b[0;32m/usr/local/lib/python3.7/dist-packages/zmq/backend/cython/checkrc.pxd\u001b[0m in \u001b[0;36mzmq.backend.cython.checkrc._check_rc\u001b[0;34m()\u001b[0m\n",
      "\u001b[0;31mKeyboardInterrupt\u001b[0m: ",
      "\nDuring handling of the above exception, another exception occurred:\n",
      "\u001b[0;31mKeyboardInterrupt\u001b[0m                         Traceback (most recent call last)",
      "\u001b[0;32m<ipython-input-9-4204a470aab4>\u001b[0m in \u001b[0;36m<module>\u001b[0;34m()\u001b[0m\n\u001b[1;32m     23\u001b[0m             \u001b[0moutput_kor\u001b[0m\u001b[0;34m[\u001b[0m\u001b[0mi\u001b[0m\u001b[0;34m]\u001b[0m \u001b[0;34m=\u001b[0m \u001b[0mspell_checker\u001b[0m\u001b[0;34m.\u001b[0m\u001b[0mcheck\u001b[0m\u001b[0;34m(\u001b[0m\u001b[0moutput_kor\u001b[0m\u001b[0;34m[\u001b[0m\u001b[0mi\u001b[0m\u001b[0;34m]\u001b[0m\u001b[0;34m)\u001b[0m\u001b[0;34m.\u001b[0m\u001b[0mchecked\u001b[0m\u001b[0;34m\u001b[0m\u001b[0;34m\u001b[0m\u001b[0m\n\u001b[1;32m     24\u001b[0m         \u001b[0mprint\u001b[0m\u001b[0;34m(\u001b[0m\u001b[0;34m'Generated '\u001b[0m \u001b[0;34m+\u001b[0m \u001b[0mstr\u001b[0m\u001b[0;34m(\u001b[0m\u001b[0mi\u001b[0m\u001b[0;34m+\u001b[0m\u001b[0;36m1\u001b[0m\u001b[0;34m)\u001b[0m \u001b[0;34m+\u001b[0m \u001b[0;34m' : '\u001b[0m\u001b[0;34m,\u001b[0m \u001b[0moutput_kor\u001b[0m\u001b[0;34m[\u001b[0m\u001b[0mi\u001b[0m\u001b[0;34m]\u001b[0m\u001b[0;34m)\u001b[0m\u001b[0;34m\u001b[0m\u001b[0;34m\u001b[0m\u001b[0m\n\u001b[0;32m---> 25\u001b[0;31m     \u001b[0mnext_idx\u001b[0m \u001b[0;34m=\u001b[0m \u001b[0mint\u001b[0m\u001b[0;34m(\u001b[0m\u001b[0minput\u001b[0m\u001b[0;34m(\u001b[0m\u001b[0;34m'\\nChoose the sentence number : '\u001b[0m\u001b[0;34m)\u001b[0m\u001b[0;34m)\u001b[0m \u001b[0;34m-\u001b[0m \u001b[0;36m1\u001b[0m\u001b[0;34m\u001b[0m\u001b[0;34m\u001b[0m\u001b[0m\n\u001b[0m\u001b[1;32m     26\u001b[0m     \u001b[0mprint\u001b[0m\u001b[0;34m(\u001b[0m\u001b[0;34m'Selected sentence : '\u001b[0m\u001b[0;34m,\u001b[0m \u001b[0moutput_kor\u001b[0m\u001b[0;34m[\u001b[0m\u001b[0mnext_idx\u001b[0m\u001b[0;34m]\u001b[0m\u001b[0;34m)\u001b[0m\u001b[0;34m\u001b[0m\u001b[0;34m\u001b[0m\u001b[0m\n\u001b[1;32m     27\u001b[0m     \u001b[0mresult\u001b[0m\u001b[0;34m.\u001b[0m\u001b[0mappend\u001b[0m\u001b[0;34m(\u001b[0m\u001b[0moutput_kor\u001b[0m\u001b[0;34m[\u001b[0m\u001b[0mnext_idx\u001b[0m\u001b[0;34m]\u001b[0m\u001b[0;34m)\u001b[0m\u001b[0;34m\u001b[0m\u001b[0;34m\u001b[0m\u001b[0m\n",
      "\u001b[0;32m/usr/local/lib/python3.7/dist-packages/ipykernel/kernelbase.py\u001b[0m in \u001b[0;36mraw_input\u001b[0;34m(self, prompt)\u001b[0m\n\u001b[1;32m    702\u001b[0m             \u001b[0mself\u001b[0m\u001b[0;34m.\u001b[0m\u001b[0m_parent_ident\u001b[0m\u001b[0;34m,\u001b[0m\u001b[0;34m\u001b[0m\u001b[0;34m\u001b[0m\u001b[0m\n\u001b[1;32m    703\u001b[0m             \u001b[0mself\u001b[0m\u001b[0;34m.\u001b[0m\u001b[0m_parent_header\u001b[0m\u001b[0;34m,\u001b[0m\u001b[0;34m\u001b[0m\u001b[0;34m\u001b[0m\u001b[0m\n\u001b[0;32m--> 704\u001b[0;31m             \u001b[0mpassword\u001b[0m\u001b[0;34m=\u001b[0m\u001b[0;32mFalse\u001b[0m\u001b[0;34m,\u001b[0m\u001b[0;34m\u001b[0m\u001b[0;34m\u001b[0m\u001b[0m\n\u001b[0m\u001b[1;32m    705\u001b[0m         )\n\u001b[1;32m    706\u001b[0m \u001b[0;34m\u001b[0m\u001b[0m\n",
      "\u001b[0;32m/usr/local/lib/python3.7/dist-packages/ipykernel/kernelbase.py\u001b[0m in \u001b[0;36m_input_request\u001b[0;34m(self, prompt, ident, parent, password)\u001b[0m\n\u001b[1;32m    732\u001b[0m             \u001b[0;32mexcept\u001b[0m \u001b[0mKeyboardInterrupt\u001b[0m\u001b[0;34m:\u001b[0m\u001b[0;34m\u001b[0m\u001b[0;34m\u001b[0m\u001b[0m\n\u001b[1;32m    733\u001b[0m                 \u001b[0;31m# re-raise KeyboardInterrupt, to truncate traceback\u001b[0m\u001b[0;34m\u001b[0m\u001b[0;34m\u001b[0m\u001b[0;34m\u001b[0m\u001b[0m\n\u001b[0;32m--> 734\u001b[0;31m                 \u001b[0;32mraise\u001b[0m \u001b[0mKeyboardInterrupt\u001b[0m\u001b[0;34m\u001b[0m\u001b[0;34m\u001b[0m\u001b[0m\n\u001b[0m\u001b[1;32m    735\u001b[0m             \u001b[0;32melse\u001b[0m\u001b[0;34m:\u001b[0m\u001b[0;34m\u001b[0m\u001b[0;34m\u001b[0m\u001b[0m\n\u001b[1;32m    736\u001b[0m                 \u001b[0;32mbreak\u001b[0m\u001b[0;34m\u001b[0m\u001b[0;34m\u001b[0m\u001b[0m\n",
      "\u001b[0;31mKeyboardInterrupt\u001b[0m: "
     ]
    }
   ],
   "source": [
    "# filtering code 추가\n",
    "result = []\n",
    "\n",
    "input_sentence = input('Enter the first sentence : ')\n",
    "result.append(input_sentence)\n",
    "input_sentence = translate_kakao(input_sentence, 'kr', 'en')  # papago : ko, kakao : kr\n",
    "\n",
    "for i in range(20):\n",
    "    encoded = torch.tensor(tokenizer.encode(input_sentence)).to(device)\n",
    "    generated = model.generate(encoded.unsqueeze(0), do_sample=True, use_cache=True, top_p=0.9, num_return_sequences=3, max_length=200, min_length=1, temperature=0.6, pad_token_id=tokenizer.eos_token_id).to(device)  # length_penalty=10,\n",
    "    generated = [generated[i][len(encoded):] for i in range(3)]  # input 중복 제거\n",
    "    decoded = [tokenizer.decode(generated[i]) for i in range(3)]  # decode\n",
    "    output_eng = [sent_tokenize(decoded[i])[0] for i in range(3)]  # 첫 번째 문장 분리\n",
    "    output_kor = [translate_kakao(output_eng[i], 'en', 'ku') for i in range(3)]  # papgo : ko, kakao : ku (ku : 높임말 문체 in kakao)\n",
    "    output_kor = [spell_checker.check(output_kor[i]).checked for i in range(3)]  # 맞춤법 검사\n",
    "    for i in range(3):\n",
    "        if sum([f in output_kor[i] for f in filtering]):  # filter it and new generate\n",
    "            generated = model.generate(encoded.unsqueeze(0), do_sample=True, use_cache=True, top_p=0.9, num_return_sequences=1, max_length=200, min_length=1, temperature=0.6, pad_token_id=tokenizer.eos_token_id).to(device)\n",
    "            generated = generated[0][len(encoded):]\n",
    "            decoded = tokenizer.decode(generated)\n",
    "            output_eng[i] = sent_tokenize(decoded)[0]\n",
    "            output_kor[i] = translate_kakao(output_eng[i], 'en', 'ku')\n",
    "            output_kor[i] = spell_checker.check(output_kor[i]).checked\n",
    "        print('Generated ' + str(i+1) + ' : ', output_kor[i])\n",
    "    next_idx = int(input('\\nChoose the sentence number : ')) - 1\n",
    "    print('Selected sentence : ', output_kor[next_idx])\n",
    "    result.append(output_kor[next_idx])\n",
    "    input_sentence = output_eng[next_idx]\n"
   ]
  },
  {
   "cell_type": "code",
   "execution_count": 6,
   "metadata": {
    "colab": {
     "base_uri": "https://localhost:8080/",
     "height": 1000
    },
    "executionInfo": {
     "elapsed": 469902,
     "status": "error",
     "timestamp": 1641114635118,
     "user": {
      "displayName": "Seyeong Jung",
      "photoUrl": "https://lh3.googleusercontent.com/a/default-user=s64",
      "userId": "01913346087161822745"
     },
     "user_tz": -540
    },
    "id": "nIFLRBMPVNzO",
    "outputId": "0ca8ffb6-5e4d-4f66-fc44-c66f41a55669"
   },
   "outputs": [
    {
     "name": "stdout",
     "output_type": "stream",
     "text": [
      "Enter the first sentence : 옛날에 노래하기를 좋아하는 소녀가 살고 있었어요.\n",
      "Length of encoded: 13\n",
      "Generated 1 :  그녀는 모든 것이 그렇게 달랐던 좋은 옛날과 오래된 성이 경이로웠을 때를 노래했습니다.\n",
      "Generated 2 :  그녀는 집에 앉아 노래를 부르곤 했고, 모든 사람들은 '정말 아름다운 목소리!'라고 말했습니다.\n",
      "Generated 3 :  그녀는 스코틀랜드를 노래하고, 왕의 아들의 탄생을 노래했으며, 그의 행복과 그의 화려함을 노래했습니다.\n",
      "\n",
      "Choose the sentence number : 2\n",
      "Selected sentence :  그녀는 집에 앉아 노래를 부르곤 했고, 모든 사람들은 '정말 아름다운 목소리!'라고 말했습니다.\n",
      "Length of encoded: 34\n",
      "Generated 1 :  하지만 지금은 모두 죽었습니다. 아버지와 어머니는 죽었고, 어린아이들은 사라졌습니다.\n",
      "Generated 2 :  하지만 항상 같은 노래였어요.\n",
      "Generated 3 :  하지만 그녀의 말을 들은 사람은 그녀의 아버지였고, 그는 그녀에게 세상으로 나가고 싶지 않거나 결혼하고 싶지 않냐고 물었습니다.\n",
      "\n",
      "Choose the sentence number : 2\n",
      "Selected sentence :  하지만 항상 같은 노래였어요.\n",
      "Length of encoded: 42\n",
      "Generated 1 :  멜로디만 바뀌었어요.\n",
      "Generated 2 :  소녀는 계속했고, 노인은 그녀를 따라갔습니다. 어느 날 폭우가 내렸습니다.\n",
      "Generated 3 :  그래서 그녀는 전장에 가서 노래를 부르고 행복하고 의기양양했습니다.\n",
      "\n",
      "Choose the sentence number : 1\n",
      "Selected sentence :  멜로디만 바뀌었어요.\n",
      "Length of encoded: 51\n",
      "Generated 1 :  거리에는 다른 사람들보다 더 잘 부르는 사람이 있었습니다.\n",
      "Generated 2 :  오늘의 노래는 훨씬 더 감동적이었고, 그것에 대해서는 의심의 여지가 없었습니다.\n",
      "Generated 3 :  마을에는 나무에 앉아 노래를 부르는 사람이 있었는데, 이웃들은 그가 매우 부자라고 말했습니다.\n",
      "\n",
      "Choose the sentence number : 2\n",
      "Selected sentence :  오늘의 노래는 훨씬 더 감동적이었고, 그것에 대해서는 의심의 여지가 없었습니다.\n",
      "Length of encoded: 69\n",
      "Generated 1 :  그리고 숲의 나무에는 꽃이 피었고 과일이 있었고 새들은 'Cure-Bear-Bill, 얼마나 맛있어!'라고 노래하고 있었습니다.\n",
      "Generated 2 :  “가요?” 어린 소녀가 말했다. “가요?” “가요?” 내가 말했다. “그전에도 노래했어요.\n",
      "Generated 3 :  그리고 그녀의 노래를 듣고, 그는 그녀가 본 것 중 가장 예쁜 소녀를 보았다고 생각했습니다.\n",
      "\n",
      "Choose the sentence number : 3\n",
      "Selected sentence :  그리고 그녀의 노래를 듣고, 그는 그녀가 본 것 중 가장 예쁜 소녀를 보았다고 생각했습니다.\n",
      "Length of encoded: 91\n",
      "Generated 1 :  “그게 케이일 거예요!” 그는 혼자 말을 걸었다. “그가 여기 있을 거라는 걸 알아요!”\n",
      "Generated 2 :  하지만 사실, 그는 창문 커튼을 통해서만 그녀를 보았습니다.\n",
      "Generated 3 :  아버지 옆에 앉은 건 작은 성냥개비였습니다.\n",
      "\n",
      "Choose the sentence number : 2\n",
      "Selected sentence :  하지만 사실, 그는 창문 커튼을 통해서만 그녀를 보았습니다.\n",
      "Length of encoded: 106\n",
      "Generated 1 :  선풍기는 차갑고 무거워졌고, 가끔 비가 내리고 빗줄기가 급류에 빠졌습니다.\n",
      "Generated 2 :  소녀는 매우 온화하고 예뻤지만 드레스의 모습에서 무언가를 숨기려는 것처럼 보였습니다.\n",
      "Generated 3 :  집에 갔을 때, 그녀는 문에 있는 구멍을 통해 그녀를 보고 있는 것을 보았고, 아름다운 소녀를 보았는지 물었습니다.\n",
      "\n",
      "Choose the sentence number : 3\n",
      "Selected sentence :  집에 갔을 때, 그녀는 문에 있는 구멍을 통해 그녀를 보고 있는 것을 보았고, 아름다운 소녀를 보았는지 물었습니다.\n",
      "Length of encoded: 133\n",
      "Generated 1 :  사실, 그는 매우 오래된 여자를 보았습니다.\n",
      "Generated 2 :  젊은이는 매우 부끄러워하고 곧장 아버지에게 가서 그에게 소식을 전하고 싶다고 말했습니다.\n",
      "Generated 3 :  하지만 그가 가까이 왔을 때, 그는 그녀가 겨우 6 살이었던 어린 소녀였음을 알고 있었습니다.\n",
      "\n",
      "Choose the sentence number : 2\n",
      "Selected sentence :  젊은이는 매우 부끄러워하고 곧장 아버지에게 가서 그에게 소식을 전하고 싶다고 말했습니다.\n",
      "Length of encoded: 159\n",
      "Generated 1 :  하지만 아버지는 매우 화가 나서 고개를 저으며 '아니, 아들아, 아무에게도 말하지 말아야 합니다.\n",
      "Generated 2 :  “어머니와 어머니에게도 말씀드릴 수 있습니다.”.\n",
      "Generated 3 :  하지만 아버지는 묻지 말라고 두려워서 혼자 비밀을 지켰습니다.\n",
      "\n",
      "Choose the sentence number : 1\n",
      "Selected sentence :  하지만 아버지는 매우 화가 나서 고개를 저으며 '아니, 아들아, 아무에게도 말하지 말아야 합니다.\n",
      "Length of encoded: 186\n",
      "Generated 1 :  공주를 보았다고 모두에게 말하면 전 세계의 웃음이 될 것입니다. '\n",
      "Generated 2 :  책을 살 돈이 없고 살 곳이 없어요. 여기 와서 살 수 없어요.\n",
      "Generated 3 :  연말까지만 기다리면 마음을 바꿨는지 알 수 있을 것\"이라고 말했습니다.\n",
      "\n",
      "Choose the sentence number : 3\n",
      "Selected sentence :  연말까지만 기다리면 마음을 바꿨는지 알 수 있을 것\"이라고 말했습니다.\n",
      "Length of encoded: 207\n",
      "Generated 1 :  소년은 그때까지 기다렸고, 커튼이 내려오는 것을 보았고, 더 이상 그런 종류의 것이 없었습니다.\n",
      "Generated 2 :  그리고 종이 한 장을 꺼내서, 각자에게 일어난 모든 일을 정확히 적었습니다.\n",
      "Generated 3 :  그리고는 그 젊은이를 보내서 아름다운 소녀를 보셨는지 물었습니다.\n",
      "\n",
      "Choose the sentence number : 1\n",
      "Selected sentence :  소년은 그때까지 기다렸고, 커튼이 내려오는 것을 보았고, 더 이상 그런 종류의 것이 없었습니다.\n",
      "Length of encoded: 233\n",
      "Generated 1 :  \"아들, 좋은 아침이에요\" 그리고 그녀는 함께 놀고 있었어요.\n",
      "Generated 2 :  그래서 그는 어머니에게 '글쎄, 집에 온 이후로 무엇을 배웠습니까?'라고 말했습니다.\n",
      "Generated 3 :  그리고는 어머니에게 집에 가고 싶다고 말했습니다.\n",
      "\n",
      "Choose the sentence number : 3\n",
      "Selected sentence :  그리고는 어머니에게 집에 가고 싶다고 말했습니다.\n",
      "Length of encoded: 245\n",
      "Generated 1 :  하지만 그녀는 고개를 저으며 말했다. “아니요, 아들아, 당신은 갈 수 없어요, 내 일요.\n",
      "Generated 2 :  하지만 그녀는 그날 아침 그에게 가지 말라고 간청했습니다.\n",
      "Generated 3 :  하지만 그녀는 그를 슬퍼할까 봐 그를 위해 함께 가라고 간청했습니다.\n",
      "\n",
      "Choose the sentence number : 2\n",
      "Selected sentence :  하지만 그녀는 그날 아침 그에게 가지 말라고 간청했습니다.\n",
      "Length of encoded: 260\n",
      "Generated 1 :  “그날 할 일이 있으면 가지 마세요!\n",
      "Generated 2 :  그녀는 떨어져서 레게도를 부러 뜨리고 너무 많이 다쳤고, 집으로 가는 것이 위험할 정도로 소리쳤습니다.\n",
      "Generated 3 :  “만약 당신이 돌아오면 어떻게 해야 하죠?”\n",
      "\n",
      "Choose the sentence number : 3\n",
      "Selected sentence :  “만약 당신이 돌아오면 어떻게 해야 하죠?”\n",
      "Length of encoded: 270\n",
      "Generated 1 :  그녀의 부모님은 매우 화가 나서 '지금 돌아오지 않을 것이라고 말씀하십시오.\n",
      "Generated 2 :  “자발적으로 와서 원하는 건 다 가져와야 하고 시간 낭비는 하지 마세요.\n",
      "Generated 3 :  “저를 좀 돌봐야 할 것 같아요?”\n",
      "\n",
      "Choose the sentence number : 2\n",
      "Selected sentence :  “자발적으로 와서 원하는 건 다 가져와야 하고 시간 낭비는 하지 마세요.\n",
      "Length of encoded: 288\n",
      "Generated 1 :  하지만 제 아름다움이 사라지지 않도록 여기에서 모습을 드러내지 마세요.'\n",
      "Generated 2 :  그러면 제가 마음을 바꿨다는 걸 알게 될 거예요.” 그녀의 아들이 갔어요.\n",
      "Generated 3 :  하지만 어떤 것도 잃지 않도록 조심하세요.'\n",
      "\n",
      "Choose the sentence number : 2\n",
      "Selected sentence :  그러면 제가 마음을 바꿨다는 걸 알게 될 거예요.” 그녀의 아들이 갔어요.\n",
      "Length of encoded: 299\n",
      "Generated 1 :  하지만 그녀는 '괜찮을 거예요'라고 말했고, 찬장에 있는 꽃을 좋아한다면 가져가세요.\n",
      "Generated 2 :  하지만 제가 세수를 했을 때 가지 마세요.”\n",
      "Generated 3 :  소년은 떠나고 매우 슬퍼했습니다. 그는 모든 것을 가방에 넣고 있었습니다.\n",
      "\n",
      "Choose the sentence number : 3\n",
      "Selected sentence :  소년은 떠나고 매우 슬퍼했습니다. 그는 모든 것을 가방에 넣고 있었습니다.\n",
      "Length of encoded: 310\n",
      "Generated 1 :  하지만 준비도 하고, 똑똑하고, 가벼운 모습으로 떠나버렸습니다.\n",
      "Generated 2 :  하지만 집에 도착했을 때 어머니가 매우 바쁘고 바쁘고 바쁘다는 것을 알게 되었습니다.\n",
      "Generated 3 :  하지만 정신이 없자 곧바로 아버지에게 가서 '이제 원하는 모든 것을 가져오겠다'고 말했습니다.\n",
      "\n",
      "Choose the sentence number : 1\n",
      "Selected sentence :  하지만 준비도 하고, 똑똑하고, 가벼운 모습으로 떠나버렸습니다.\n",
      "Length of encoded: 326\n",
      "Generated 1 :  그는 할 수 있는 모든 것을 가방에 넣고 다른 날과 동일하게 만들었습니다.\n",
      "Generated 2 :  그가 갔을 때.\n",
      "Generated 3 :  전날 밤 그가 있던 자리에 왔을 때, 그는 리넨 가방을 걸었습니다.\n",
      "\n",
      "Choose the sentence number : 1\n",
      "Selected sentence :  그는 할 수 있는 모든 것을 가방에 넣고 다른 날과 동일하게 만들었습니다.\n",
      "Length of encoded: 343\n",
      "Generated 1 :  그가 돌아왔을 때, 그는 저녁 식사와 그의 몫을 요구받았습니다.\n",
      "Generated 2 :  “어제 노래하던 예쁜 여자가 또 왔군요! 오늘 아침에 노래해야 해요!\n",
      "Generated 3 :  그가 떠나고 있을 때, 그는 항상 활기차고 행복했습니다.\n"
     ]
    },
    {
     "ename": "KeyboardInterrupt",
     "evalue": "ignored",
     "output_type": "error",
     "traceback": [
      "\u001b[0;31m---------------------------------------------------------------------------\u001b[0m",
      "\u001b[0;31mKeyboardInterrupt\u001b[0m                         Traceback (most recent call last)",
      "\u001b[0;32m/usr/local/lib/python3.7/dist-packages/ipykernel/kernelbase.py\u001b[0m in \u001b[0;36m_input_request\u001b[0;34m(self, prompt, ident, parent, password)\u001b[0m\n\u001b[1;32m    728\u001b[0m             \u001b[0;32mtry\u001b[0m\u001b[0;34m:\u001b[0m\u001b[0;34m\u001b[0m\u001b[0;34m\u001b[0m\u001b[0m\n\u001b[0;32m--> 729\u001b[0;31m                 \u001b[0mident\u001b[0m\u001b[0;34m,\u001b[0m \u001b[0mreply\u001b[0m \u001b[0;34m=\u001b[0m \u001b[0mself\u001b[0m\u001b[0;34m.\u001b[0m\u001b[0msession\u001b[0m\u001b[0;34m.\u001b[0m\u001b[0mrecv\u001b[0m\u001b[0;34m(\u001b[0m\u001b[0mself\u001b[0m\u001b[0;34m.\u001b[0m\u001b[0mstdin_socket\u001b[0m\u001b[0;34m,\u001b[0m \u001b[0;36m0\u001b[0m\u001b[0;34m)\u001b[0m\u001b[0;34m\u001b[0m\u001b[0;34m\u001b[0m\u001b[0m\n\u001b[0m\u001b[1;32m    730\u001b[0m             \u001b[0;32mexcept\u001b[0m \u001b[0mException\u001b[0m\u001b[0;34m:\u001b[0m\u001b[0;34m\u001b[0m\u001b[0;34m\u001b[0m\u001b[0m\n",
      "\u001b[0;32m/usr/local/lib/python3.7/dist-packages/jupyter_client/session.py\u001b[0m in \u001b[0;36mrecv\u001b[0;34m(self, socket, mode, content, copy)\u001b[0m\n\u001b[1;32m    802\u001b[0m         \u001b[0;32mtry\u001b[0m\u001b[0;34m:\u001b[0m\u001b[0;34m\u001b[0m\u001b[0;34m\u001b[0m\u001b[0m\n\u001b[0;32m--> 803\u001b[0;31m             \u001b[0mmsg_list\u001b[0m \u001b[0;34m=\u001b[0m \u001b[0msocket\u001b[0m\u001b[0;34m.\u001b[0m\u001b[0mrecv_multipart\u001b[0m\u001b[0;34m(\u001b[0m\u001b[0mmode\u001b[0m\u001b[0;34m,\u001b[0m \u001b[0mcopy\u001b[0m\u001b[0;34m=\u001b[0m\u001b[0mcopy\u001b[0m\u001b[0;34m)\u001b[0m\u001b[0;34m\u001b[0m\u001b[0;34m\u001b[0m\u001b[0m\n\u001b[0m\u001b[1;32m    804\u001b[0m         \u001b[0;32mexcept\u001b[0m \u001b[0mzmq\u001b[0m\u001b[0;34m.\u001b[0m\u001b[0mZMQError\u001b[0m \u001b[0;32mas\u001b[0m \u001b[0me\u001b[0m\u001b[0;34m:\u001b[0m\u001b[0;34m\u001b[0m\u001b[0;34m\u001b[0m\u001b[0m\n",
      "\u001b[0;32m/usr/local/lib/python3.7/dist-packages/zmq/sugar/socket.py\u001b[0m in \u001b[0;36mrecv_multipart\u001b[0;34m(self, flags, copy, track)\u001b[0m\n\u001b[1;32m    624\u001b[0m         \"\"\"\n\u001b[0;32m--> 625\u001b[0;31m         \u001b[0mparts\u001b[0m \u001b[0;34m=\u001b[0m \u001b[0;34m[\u001b[0m\u001b[0mself\u001b[0m\u001b[0;34m.\u001b[0m\u001b[0mrecv\u001b[0m\u001b[0;34m(\u001b[0m\u001b[0mflags\u001b[0m\u001b[0;34m,\u001b[0m \u001b[0mcopy\u001b[0m\u001b[0;34m=\u001b[0m\u001b[0mcopy\u001b[0m\u001b[0;34m,\u001b[0m \u001b[0mtrack\u001b[0m\u001b[0;34m=\u001b[0m\u001b[0mtrack\u001b[0m\u001b[0;34m)\u001b[0m\u001b[0;34m]\u001b[0m\u001b[0;34m\u001b[0m\u001b[0;34m\u001b[0m\u001b[0m\n\u001b[0m\u001b[1;32m    626\u001b[0m         \u001b[0;31m# have first part already, only loop while more to receive\u001b[0m\u001b[0;34m\u001b[0m\u001b[0;34m\u001b[0m\u001b[0;34m\u001b[0m\u001b[0m\n",
      "\u001b[0;32mzmq/backend/cython/socket.pyx\u001b[0m in \u001b[0;36mzmq.backend.cython.socket.Socket.recv\u001b[0;34m()\u001b[0m\n",
      "\u001b[0;32mzmq/backend/cython/socket.pyx\u001b[0m in \u001b[0;36mzmq.backend.cython.socket.Socket.recv\u001b[0;34m()\u001b[0m\n",
      "\u001b[0;32mzmq/backend/cython/socket.pyx\u001b[0m in \u001b[0;36mzmq.backend.cython.socket._recv_copy\u001b[0;34m()\u001b[0m\n",
      "\u001b[0;32m/usr/local/lib/python3.7/dist-packages/zmq/backend/cython/checkrc.pxd\u001b[0m in \u001b[0;36mzmq.backend.cython.checkrc._check_rc\u001b[0;34m()\u001b[0m\n",
      "\u001b[0;31mKeyboardInterrupt\u001b[0m: ",
      "\nDuring handling of the above exception, another exception occurred:\n",
      "\u001b[0;31mKeyboardInterrupt\u001b[0m                         Traceback (most recent call last)",
      "\u001b[0;32m<ipython-input-6-116028945405>\u001b[0m in \u001b[0;36m<module>\u001b[0;34m()\u001b[0m\n\u001b[1;32m     25\u001b[0m             \u001b[0moutput_kor\u001b[0m\u001b[0;34m[\u001b[0m\u001b[0mi\u001b[0m\u001b[0;34m]\u001b[0m \u001b[0;34m=\u001b[0m \u001b[0mspell_checker\u001b[0m\u001b[0;34m.\u001b[0m\u001b[0mcheck\u001b[0m\u001b[0;34m(\u001b[0m\u001b[0moutput_kor\u001b[0m\u001b[0;34m[\u001b[0m\u001b[0mi\u001b[0m\u001b[0;34m]\u001b[0m\u001b[0;34m)\u001b[0m\u001b[0;34m.\u001b[0m\u001b[0mchecked\u001b[0m\u001b[0;34m\u001b[0m\u001b[0;34m\u001b[0m\u001b[0m\n\u001b[1;32m     26\u001b[0m         \u001b[0mprint\u001b[0m\u001b[0;34m(\u001b[0m\u001b[0;34m'Generated '\u001b[0m \u001b[0;34m+\u001b[0m \u001b[0mstr\u001b[0m\u001b[0;34m(\u001b[0m\u001b[0mi\u001b[0m\u001b[0;34m+\u001b[0m\u001b[0;36m1\u001b[0m\u001b[0;34m)\u001b[0m \u001b[0;34m+\u001b[0m \u001b[0;34m' : '\u001b[0m\u001b[0;34m,\u001b[0m \u001b[0moutput_kor\u001b[0m\u001b[0;34m[\u001b[0m\u001b[0mi\u001b[0m\u001b[0;34m]\u001b[0m\u001b[0;34m)\u001b[0m\u001b[0;34m\u001b[0m\u001b[0;34m\u001b[0m\u001b[0m\n\u001b[0;32m---> 27\u001b[0;31m     \u001b[0mnext_idx\u001b[0m \u001b[0;34m=\u001b[0m \u001b[0mint\u001b[0m\u001b[0;34m(\u001b[0m\u001b[0minput\u001b[0m\u001b[0;34m(\u001b[0m\u001b[0;34m'\\nChoose the sentence number : '\u001b[0m\u001b[0;34m)\u001b[0m\u001b[0;34m)\u001b[0m \u001b[0;34m-\u001b[0m \u001b[0;36m1\u001b[0m\u001b[0;34m\u001b[0m\u001b[0;34m\u001b[0m\u001b[0m\n\u001b[0m\u001b[1;32m     28\u001b[0m     \u001b[0mprint\u001b[0m\u001b[0;34m(\u001b[0m\u001b[0;34m'Selected sentence : '\u001b[0m\u001b[0;34m,\u001b[0m \u001b[0moutput_kor\u001b[0m\u001b[0;34m[\u001b[0m\u001b[0mnext_idx\u001b[0m\u001b[0;34m]\u001b[0m\u001b[0;34m)\u001b[0m\u001b[0;34m\u001b[0m\u001b[0;34m\u001b[0m\u001b[0m\n\u001b[1;32m     29\u001b[0m     \u001b[0mresult\u001b[0m\u001b[0;34m.\u001b[0m\u001b[0mappend\u001b[0m\u001b[0;34m(\u001b[0m\u001b[0moutput_kor\u001b[0m\u001b[0;34m[\u001b[0m\u001b[0mnext_idx\u001b[0m\u001b[0;34m]\u001b[0m\u001b[0;34m)\u001b[0m\u001b[0;34m\u001b[0m\u001b[0;34m\u001b[0m\u001b[0m\n",
      "\u001b[0;32m/usr/local/lib/python3.7/dist-packages/ipykernel/kernelbase.py\u001b[0m in \u001b[0;36mraw_input\u001b[0;34m(self, prompt)\u001b[0m\n\u001b[1;32m    702\u001b[0m             \u001b[0mself\u001b[0m\u001b[0;34m.\u001b[0m\u001b[0m_parent_ident\u001b[0m\u001b[0;34m,\u001b[0m\u001b[0;34m\u001b[0m\u001b[0;34m\u001b[0m\u001b[0m\n\u001b[1;32m    703\u001b[0m             \u001b[0mself\u001b[0m\u001b[0;34m.\u001b[0m\u001b[0m_parent_header\u001b[0m\u001b[0;34m,\u001b[0m\u001b[0;34m\u001b[0m\u001b[0;34m\u001b[0m\u001b[0m\n\u001b[0;32m--> 704\u001b[0;31m             \u001b[0mpassword\u001b[0m\u001b[0;34m=\u001b[0m\u001b[0;32mFalse\u001b[0m\u001b[0;34m,\u001b[0m\u001b[0;34m\u001b[0m\u001b[0;34m\u001b[0m\u001b[0m\n\u001b[0m\u001b[1;32m    705\u001b[0m         )\n\u001b[1;32m    706\u001b[0m \u001b[0;34m\u001b[0m\u001b[0m\n",
      "\u001b[0;32m/usr/local/lib/python3.7/dist-packages/ipykernel/kernelbase.py\u001b[0m in \u001b[0;36m_input_request\u001b[0;34m(self, prompt, ident, parent, password)\u001b[0m\n\u001b[1;32m    732\u001b[0m             \u001b[0;32mexcept\u001b[0m \u001b[0mKeyboardInterrupt\u001b[0m\u001b[0;34m:\u001b[0m\u001b[0;34m\u001b[0m\u001b[0;34m\u001b[0m\u001b[0m\n\u001b[1;32m    733\u001b[0m                 \u001b[0;31m# re-raise KeyboardInterrupt, to truncate traceback\u001b[0m\u001b[0;34m\u001b[0m\u001b[0;34m\u001b[0m\u001b[0;34m\u001b[0m\u001b[0m\n\u001b[0;32m--> 734\u001b[0;31m                 \u001b[0;32mraise\u001b[0m \u001b[0mKeyboardInterrupt\u001b[0m\u001b[0;34m\u001b[0m\u001b[0;34m\u001b[0m\u001b[0m\n\u001b[0m\u001b[1;32m    735\u001b[0m             \u001b[0;32melse\u001b[0m\u001b[0;34m:\u001b[0m\u001b[0;34m\u001b[0m\u001b[0;34m\u001b[0m\u001b[0m\n\u001b[1;32m    736\u001b[0m                 \u001b[0;32mbreak\u001b[0m\u001b[0;34m\u001b[0m\u001b[0;34m\u001b[0m\u001b[0m\n",
      "\u001b[0;31mKeyboardInterrupt\u001b[0m: "
     ]
    }
   ],
   "source": [
    "# previous encode cat\n",
    "result = []\n",
    "\n",
    "input_sentence = input('Enter the first sentence : ')\n",
    "result.append(input_sentence)\n",
    "input_sentence = translate_kakao(input_sentence, 'kr', 'en')  # papago : ko, kakao : kr\n",
    "encoded = torch.LongTensor().to(device)\n",
    "\n",
    "for i in range(20):\n",
    "    encoded = torch.cat([encoded, torch.tensor(tokenizer.encode(input_sentence)).to(device)])\n",
    "    print('Length of encoded:', len(encoded))\n",
    "    generated = model.generate(encoded.unsqueeze(0), do_sample=True, use_cache=True, top_p=0.9, num_return_sequences=3, max_length=len(encoded)+100, min_length=len(encoded), temperature=0.6, pad_token_id=tokenizer.eos_token_id).to(device)  # length_penalty=10,\n",
    "    generated = [generated[i][len(encoded):] for i in range(3)]  # input 중복 제거\n",
    "    decoded = [tokenizer.decode(generated[i]) for i in range(3)]  # decode\n",
    "    output_eng = [sent_tokenize(decoded[i])[0] for i in range(3)]  # 첫 번째 문장 분리, kakao 번역이 문장 단위로 잘라주기 때문에 translate_kakao에 decodede 그대로 들어감. 얘는 그저 output_eng를 위함\n",
    "    output_kor = [translate_kakao(decoded[i], 'en', 'ku') for i in range(3)] # papgo : ko, kakao : ku (ku : 높임말 문체 in kakao)\n",
    "    output_kor = [spell_checker.check(output_kor[i]).checked for i in range(3)]  # 맞춤법 검사\n",
    "    for i in range(3):\n",
    "        if sum([f in output_kor[i] for f in filtering]):  # filter it and new generate\n",
    "            generated = model.generate(encoded.unsqueeze(0), do_sample=True, use_cache=True, top_p=0.9, num_return_sequences=1, max_length=len(encoded)+100, min_length=len(encoded), temperature=0.6, pad_token_id=tokenizer.eos_token_id).to(device)\n",
    "            generated = generated[0][len(encoded):]\n",
    "            decoded = tokenizer.decode(generated)\n",
    "            output_eng[i] = sent_tokenize(decoded)[0]\n",
    "            output_kor[i] = translate_kakao(output_eng[i], 'en', 'ku')\n",
    "            output_kor[i] = spell_checker.check(output_kor[i]).checked\n",
    "        print('Generated ' + str(i+1) + ' : ', output_kor[i])\n",
    "    next_idx = int(input('\\nChoose the sentence number : ')) - 1\n",
    "    print('Selected sentence : ', output_kor[next_idx])\n",
    "    result.append(output_kor[next_idx])\n",
    "    input_sentence = output_eng[next_idx]\n"
   ]
  },
  {
   "cell_type": "code",
   "execution_count": 9,
   "metadata": {
    "executionInfo": {
     "elapsed": 275,
     "status": "ok",
     "timestamp": 1641114656249,
     "user": {
      "displayName": "Seyeong Jung",
      "photoUrl": "https://lh3.googleusercontent.com/a/default-user=s64",
      "userId": "01913346087161822745"
     },
     "user_tz": -540
    },
    "id": "oVP8p6vtDhXq"
   },
   "outputs": [],
   "source": [
    "with open('/content/drive/MyDrive/DOTORY/gpt2/gpt2_result.txt', 'w') as f:\n",
    "    for sentence in result:\n",
    "        f.write(sentence + '\\n')\n",
    "f.close()"
   ]
  },
  {
   "cell_type": "markdown",
   "metadata": {},
   "source": [
    "similarity 혼합"
   ]
  },
  {
   "cell_type": "code",
   "execution_count": null,
   "metadata": {
    "id": "E0Ml7-WEfs4P"
   },
   "outputs": [],
   "source": [
    "# first_db, last_db\n",
    "import pandas as pd\n",
    "import tensorflow_hub as hub\n",
    "\n",
    "f = open(\"/content/drive/MyDrive/DOTORY/merged_clean.txt\", 'r')\n",
    "total_db = f.read().split('\\n\\n\\n')\n",
    "total_db = list(filter(None, total_db))\n",
    "first_db = []\n",
    "last_db = []\n",
    "for i in range(len(total_db)):\n",
    "    total_db[i] = total_db[i].lstrip('\\n').split('\\n\\n')[1:]\n",
    "    if total_db[i]:  # 문장 길이 보고 더 split 전처리 필요\n",
    "        first_db.append(total_db[i][0])\n",
    "        last_db.append(total_db[i][-2:])\n",
    "f.close()\n",
    "last_db = pd.DataFrame(last_db, columns=['last-1', 'last'])\n",
    "\n",
    "module_url = \"https://tfhub.dev/google/universal-sentence-encoder/4\" \n",
    "use = hub.load(module_url)\n",
    "def embed(input):\n",
    "    return use(input)\n",
    "\n",
    "last_embed = embed(last_db['last-1'])"
   ]
  },
  {
   "cell_type": "code",
   "execution_count": null,
   "metadata": {
    "colab": {
     "base_uri": "https://localhost:8080/"
    },
    "executionInfo": {
     "elapsed": 157688,
     "status": "ok",
     "timestamp": 1639105050297,
     "user": {
      "displayName": "Seyeong Jung",
      "photoUrl": "https://lh3.googleusercontent.com/a/default-user=s64",
      "userId": "01913346087161822745"
     },
     "user_tz": -540
    },
    "id": "M9rCDe0-iHcx",
    "outputId": "2781d232-706a-45bf-d1c5-a975adafb9b8"
   },
   "outputs": [
    {
     "name": "stdout",
     "output_type": "stream",
     "text": [
      "First sentence :  어느 날 해질 무렵, 마침내 욕망이 너무 따뜻해져서 그는 생각했습니다.\n",
      "Length of encoded: 93\n",
      "Generated 1 :  “들어와요, 젊은 친구.” 노인이 말했다.\n",
      "Generated 2 :  “들어와요, 젊은 친구.” 노인이 말했다.\n",
      "Generated 3 :  “들어와요, 젊은 친구.” 노인이 말했다.\n",
      "\n",
      "Choose the sentence number : 1\n",
      "Selected sentence :  “들어와요, 젊은 친구.” 노인이 말했다.\n",
      "Length of encoded: 106\n",
      "Generated 1 :  '우리 집은 크지 않지만 낯선 사람을 안아줄 만큼 큰 집'입니다.\n",
      "Generated 2 :  '우리 집은 크지 않지만 낯선 사람을 안아줄 만큼 큰 집'입니다.\n",
      "Generated 3 :  '우리 집은 크지 않지만 낯선 사람을 안아줄 만큼 큰 집'입니다.\n",
      "\n",
      "Choose the sentence number : 1\n",
      "Selected sentence :  '우리 집은 크지 않지만 낯선 사람을 안아줄 만큼 큰 집'입니다.\n",
      "Length of encoded: 123\n",
      "Generated 1 :  왕자가 들어와서 노인이 식탁에 가는 동안 그는 고개를 숙이고 수염을 쓰다듬으며 '내가 그런 왕자가 되고 싶은 마음이 얼마나 많은가'라고 생각했습니다.\n",
      "Generated 2 :  여행자가 들어와서 노인이 열쇠를 돌리는 동안 그에게 말했습니다. '이봐요, 내 좋은 친구, 이 어둡고 음산한 곳에서 무슨 일이 있었습니까?'\n",
      "Generated 3 :  젊은이가 노크를 하자, 노인이 물었습니다. '당신은 낯선 사람입니까, 내 좋은 친구입니까?'\n",
      "\n",
      "Choose the sentence number : 1\n",
      "Selected sentence :  왕자가 들어와서 노인이 식탁에 가는 동안 그는 고개를 숙이고 수염을 쓰다듬으며 '내가 그런 왕자가 되고 싶은 마음이 얼마나 많은가'라고 생각했습니다.\n",
      "Length of encoded: 163\n",
      "Generated 1 :  “그렇게 많지는 않습니다.” 그는 스스로에게 말했다. “하지만 이 좋은 요정의 통제하에 있고 이웃을 만드는 것은 결코 일어나지 않을 것입니다.\n",
      "Generated 2 :  “글쎄요, 말할 필요 없어요.” 마침내 그가 말했다.\n",
      "Generated 3 :  “누가 여기를 주었는지 알아내는 건 쉽지 않아요.”.\n",
      "\n",
      "Choose the sentence number : 1\n",
      "Selected sentence :  “그렇게 많지는 않습니다.” 그는 스스로에게 말했다. “하지만 이 좋은 요정의 통제하에 있고 이웃을 만드는 것은 결코 일어나지 않을 것입니다.\n",
      "Length of encoded: 195\n",
      "Generated 1 :  그가 해야 할 일은 물 한 잔을 마시고 예의 바르게 행동하는 것입니다. '\n",
      "Generated 2 :  그녀는 나를 지켜볼 눈을 가지고 있으며, 나를 잘 볼 것입니다. '\n",
      "Generated 3 :  만약 그녀가 제가 여기 머물 수 있는 장소를 갖도록 허락한다면, 저는 그것에 기뻐할 것입니다.\n",
      "\n",
      "Choose the sentence number : 1\n",
      "Selected sentence :  그가 해야 할 일은 물 한 잔을 마시고 예의 바르게 행동하는 것입니다. '\n",
      "Length of encoded: 212\n",
      "Generated 1 :  그런 식으로는 제가 너무 잘합니다.'\n",
      "Generated 2 :  만약 그가 착하고 합리적이라면, 요정은 그를 머물게 할 것입니다.\n",
      "Generated 3 :  아침까지 기다려야 한다면, 저와 어머니를 용서할 겁니다. 아!\n",
      "\n",
      "Choose the sentence number : 2\n",
      "Selected sentence :  만약 그가 착하고 합리적이라면, 요정은 그를 머물게 할 것입니다.\n",
      "Length of encoded: 225\n",
      "Generated 1 :  그가 무례하고 성가신 경우, 그녀는 그를 때릴 것입니다. '\n",
      "Generated 2 :  술이나 마셔요. 무례하고 거칠면, 흑인이 될 때까지 노년층을 때릴 거예요.\n",
      "Generated 3 :  낯선 사람이라면, 하지만 저는 그가 머물 수 없다는 것을 알고 있었습니다.\n",
      "\n",
      "Choose the sentence number : 3\n",
      "Selected sentence :  낯선 사람이라면, 하지만 저는 그가 머물 수 없다는 것을 알고 있었습니다.\n",
      "Length of encoded: 231\n",
      "Generated 1 :  하지만 그가 위정자라면, 그가 도둑이라면, 요정은 그를 처벌할 것입니다. '\n",
      "Generated 2 :  하지만 그는 바보가 되어야 합니다. 그러면 그는 더 이상 버틸 수 없을 것입니다. '\n",
      "Generated 3 :  하지만 그가 무례하고 싸우면 그는 떠날 것입니다. 그래서 나는 평화롭게 여기 있을 것입니다. \"\n",
      "\n",
      "Choose the sentence number : 3\n",
      "Selected sentence :  하지만 그가 무례하고 싸우면 그는 떠날 것입니다. 그래서 나는 평화롭게 여기 있을 것입니다. \"\n",
      "Length of encoded: 244\n",
      "Generated 1 :  어디서 찾을지 알아요.”\n",
      "Generated 2 :  내 일이니까요.”\n",
      "Generated 3 :  거기서 그는 스스로 자리를 찾을 것입니다.'\n",
      "\n",
      "Choose the sentence number : 2\n",
      "Selected sentence :  내 일이니까요.”\n",
      "Selected last sentence :  아이들은 조용히 웃었습니다.왜냐하면 그들은 그들이 알고 있었기 때문입니다\n"
     ]
    }
   ],
   "source": [
    "# select first & last from DB\n",
    "import random\n",
    "import numpy as np\n",
    "from sklearn.metrics.pairwise import cosine_similarity\n",
    "\n",
    "result = []\n",
    "\n",
    "first_sentence = random.choice(first_db)\n",
    "input_sentence = '' + first_sentenceㅣ\n",
    "first_sentence = translate_kakao(first_sentence, 'en', 'ku')  # papago : ko, kakao : kr\n",
    "print('First sentence : ', first_sentence)\n",
    "result.append(first_sentence)\n",
    "encoded = torch.LongTensor().to(device)\n",
    "\n",
    "for i in range(9):\n",
    "    encoded = torch.cat([encoded, torch.tensor(tokenizer.encode(input_sentence)).to(device)])\n",
    "    print('Length of encoded:', len(encoded))\n",
    "    generated = model.generate(encoded.unsqueeze(0), do_sample=True, use_cache=True, top_p=0.9, num_return_sequences=3, max_length=len(encoded)+100, min_length=len(encoded), temperature=0.6, pad_token_id=tokenizer.eos_token_id).to(device)  # length_penalty=10,\n",
    "    generated = [generated[i][len(encoded):] for i in range(3)]  # input 중복 제거\n",
    "    decoded = [tokenizer.decode(generated[i]) for i in range(3)]  # decode\n",
    "    output_eng = [sent_tokenize(decoded[i])[0] for i in range(3)]  # 첫 번째 문장 분리, kakao 번역이 문장 단위로 잘라주기 때문에 translate_kakao에 decodede 그대로 들어감. 얘는 그저 output_eng를 위함\n",
    "    output_kor = [translate_kakao(decoded[i], 'en', 'ku') for i in range(3)] # papgo : ko, kakao : ku (ku : 높임말 문체 in kakao)\n",
    "    output_kor = [spell_checker.check(output_kor[i]).checked for i in range(3)]  # 맞춤법 검사\n",
    "    for i in range(3):\n",
    "        if sum([f in output_kor[i] for f in filtering]):  # filter it and new generate\n",
    "            generated = model.generate(encoded.unsqueeze(0), do_sample=True, use_cache=True, top_p=0.9, num_return_sequences=1, max_length=len(encoded)+100, min_length=len(encoded), temperature=0.6, pad_token_id=tokenizer.eos_token_id).to(device)\n",
    "            generated = generated[0][len(encoded):]\n",
    "            decoded = tokenizer.decode(generated)\n",
    "            output_eng[i] = sent_tokenize(decoded)[0]\n",
    "            output_kor[i] = translate_kakao(output_eng[i], 'en', 'ku')\n",
    "            output_kor[i] = spell_checker.check(output_kor[i]).checked\n",
    "        print('Generated ' + str(i+1) + ' : ', output_kor[i])\n",
    "    next_idx = int(input('\\nChoose the sentence number : ')) - 1\n",
    "    print('Selected sentence : ', output_kor[next_idx])\n",
    "    result.append(output_kor[next_idx])\n",
    "    input_sentence = output_eng[next_idx]\n",
    "\n",
    "last_generated = embed(pd.Series(input_sentence))\n",
    "similarity = cosine_similarity(last_generated, last_embed)[0]\n",
    "last_sentence = last_db['last'][np.argmax(similarity)]\n",
    "last_sentence_kor = translate_kakao(last_sentence, 'en', 'ku')\n",
    "print('Selected last sentence : ', last_sentence_kor)"
   ]
  },
  {
   "cell_type": "markdown",
   "metadata": {
    "id": "YENegYbjfIob"
   },
   "source": [
    "## Etc"
   ]
  },
  {
   "cell_type": "code",
   "execution_count": null,
   "metadata": {
    "colab": {
     "base_uri": "https://localhost:8080/"
    },
    "executionInfo": {
     "elapsed": 1177,
     "status": "ok",
     "timestamp": 1637552946423,
     "user": {
      "displayName": "Seyeong Jung",
      "photoUrl": "https://lh3.googleusercontent.com/a/default-user=s64",
      "userId": "01913346087161822745"
     },
     "user_tz": -540
    },
    "id": "osYNjFpguOkP",
    "outputId": "52026a90-8d20-44dd-8628-4ff036b3057b"
   },
   "outputs": [
    {
     "data": {
      "text/plain": [
       "['그녀는 제가 본 것 중 가장 예쁜 사람이었습니다. 그녀는 너무 아름답고 부드러웠습니다.',\n",
       " '남편을 잃은 슬픔이 없고, 3개월 동안 매일 단식을 했습니다.',\n",
       " '먹을 음식이 없어서 매일 밤 불가사의한 물소 가죽 더미에 누워있었습니다.',\n",
       " '좋은 신이 그녀를 돕지 않았다면 그녀는 죽었을 것입니다.',\n",
       " \"숨진 날, 소녀는 이미 검은 옷을 입고 있었고, 관에 누워있을 때, 그녀는 '친애하는 신부, 두려워하지 마십시오.\",\n",
       " '당신을 해치지 않을 거예요.',\n",
       " \"당신과 함께 시골로 가서 안전하게 집으로 데려다 줄게요.'\",\n",
       " \"그리고 신부는 '브라이드, 나는 당신을 아버지 신에게 비난합니다. 당신은 악이나 선이든 누구든 해를 끼치 지 않을 것입니다.\",\n",
       " \"그럼 막대기를 모아서 불을 지르고 남편에게 데려오세요.'\",\n",
       " \"그래서 그녀는 숲으로 들어가서 불에 타면 '브라이드, 오늘 당신을 위해 좋은 식사를 하고 싶습니다.\",\n",
       " '옥수수 한 봉지를 가져오면 가져올게요.”',\n",
       " '그녀는 즉시 돌아와 옥수수 가방을 관 아래에 놓고 세게 흔들었습니다.',\n",
       " \"그것이 끝나자 그녀는 '이제 가서 다른 것을 가져와, 나를 위해'라고 말했습니다.\",\n",
       " '다음 순간, 관 밑에 또 다른 가방을 넣고 옥수수를 넣습니다.',\n",
       " '마녀가 도망쳤습니다. \"이제 가서 옥수수를 우리 집으로 가져갑니다.\"라고 그녀는 말했습니다.',\n",
       " '“이제 가서 남편을 데려와요.”',\n",
       " '그래서 소녀는 정오 전과 정오 같았고, 정오에는 또 다른 가방이 관 아래에 있었고 옥수수는 사라졌습니다.',\n",
       " \"마녀는 불을 지르고 '브라이드, '친애하는 신부, 두려워하지 마십시오.\",\n",
       " '나한테 해를 끼치지 않을 거예요. 당신과 함께 있을 거예요. 하지만 안심해요.',\n",
       " '하지만 해질 무렵에 당신은 우리 집에 가서 정부에게 제가 마녀, 사악한 마녀, 그리고 일년 내내 교활하고 사악하다고 말해야 합니다.',\n",
       " '그녀는 대답했고, 1년 동안, 그리고 하루도 채 안되었습니다.',\n",
       " '혼자 먹으면 제가 먹을게요.',\n",
       " '적게 먹으면 하루 더 자랄 거고, 그 밑에서 화를 낼 거야.',\n",
       " '분노를 겨냥하고 발톱을 깎아내리면. 하지만 분노로 발톱을 부러뜨리면, 당신을 낚아채겠습니다.',\n",
       " '물고 물리면 1년 더 불쌍해지겠지만, 하루까지 인내심을 가져야 합니다.',\n",
       " '한 번에 2년씩 먹으면 깔끔하게 해 주지만 한 번에.',\n",
       " '이제 다른 것을 갈망할 때까지 놓으세요.',\n",
       " \"하루의 끝 중 첫 번째를 먹으면 준비할 것입니다. '\",\n",
       " \"그 소녀는 남편의 집으로 돌아가서 그녀에게 다가온 모든 것을 말했고, 그는 '어쨌든 나는 당신과 함께있을 것입니다.\",\n",
       " '마녀의 집에 누워 있거나 다른 곳에 누워 있거나...',\n",
       " '해가 뜨자 그녀는 비번을 타고 일어나 여주인이 있는 곳으로갔습니다.',\n",
       " \"'이제 하루 종일 머물면서 여주인이 올 때까지 누워있었습니다.'\",\n",
       " '그녀는 옥수수 옆에 뻗어 불 옆에 누워서 잤습니다.',\n",
       " \"날이 밝자 덥고 영리한 느낌이 들었습니다. '브라이드, 그리고 3일 동안 준비되었습니다.\",\n",
       " '그녀는 사흘째까지 일어났습니다. 일이 끝나자 그녀는 반대편에 누워있었습니다.',\n",
       " '“이제 루비들, 빨리 가서 남편의 하녀들과 함께 누워요.” 마녀가 오고 있어요.',\n",
       " '그녀는 옥수수를 사서 세 번째 옥수수 가방 옆에 누워있었습니다.',\n",
       " \"마녀는 '이제 이 옥수수 가방을 가지고 달려가 마녀가 한 입 베어 물었을 때.\",\n",
       " \"'이제 가방 양쪽 뺨에 가방을 들고 뻗어 갑니다.\",\n",
       " \"'이제 거미줄을 이빨로 가져가라', '내가 가질게, 가방을 꽉 잡아라', 그녀는 꽉 쥐었습니다.\",\n",
       " \"'입에 꽉 찰 수 있어요.' 이제 가방 옆에 있는 입에 꽉 쥐어주세요. '입이 가득 차 있어요.\",\n",
       " '손가락으로 단단히 조여주세요. 끈을 닫고 닫으세요.',\n",
       " \"가방을 닫아요, '이제 한 입 먹어요.\",\n",
       " '가방 두 개를 닫아요. 가방이에요. 입 다물어.',\n",
       " '꽉 닫아요. 꽉 닫아요. 꽉 닫아요. 꽉 닫아요. 꽉 닫아요.',\n",
       " '입 닫아요. 닫아요. 닫아요. 닫아요. 닫아요. 닫아요.',\n",
       " '닫아요. 닫아요! 닫아요! 닫아요! 닫아요! 닫아요! 닫아요!']"
      ]
     },
     "execution_count": 17,
     "metadata": {},
     "output_type": "execute_result"
    }
   ],
   "source": [
    "input_sentence = input('Enter the first sentence : ')\n",
    "input_sentence = translate_kakao(input_sentence, 'kr', 'en')  # papago : ko, kakao : kr\n",
    "\n",
    "encoded = torch.tensor(tokenizer.encode(input_sentence)).to(device)\n",
    "generated = model.generate(encoded.unsqueeze(0), do_sample=True, use_cache=True, top_p=0.9, num_return_sequences=1, max_length=1000, min_length=1, temperature=0.6, pad_token_id=tokenizer.eos_token_id).to(device)  # length_penalty=10,\n",
    "generated = generated[0][len(encoded):]  # input 중복 제거\n",
    "decoded = tokenizer.decode(generated)  # decode\n",
    "output = translate_kakao(decoded, 'en', 'ku')\n",
    "output"
   ]
  },
  {
   "cell_type": "markdown",
   "metadata": {
    "id": "PWh6_9DytL2Z"
   },
   "source": [
    "1. papago api(유료만 높임말 가능) or kakao crawling/api(모두 높임말 가능)\n",
    "2. sentence split이 잘 안되는 것 같은게 sent_tokenize의 문제가 아니라 문장기호 번역이 잘 안되는듯\n",
    "3. 동화에 적합하지 않은 단어 필터링하는 사전 만들어야 할듯"
   ]
  },
  {
   "cell_type": "code",
   "execution_count": null,
   "metadata": {
    "colab": {
     "base_uri": "https://localhost:8080/",
     "height": 35
    },
    "executionInfo": {
     "elapsed": 727,
     "status": "ok",
     "timestamp": 1635938928157,
     "user": {
      "displayName": "Seyeong Jung",
      "photoUrl": "https://lh3.googleusercontent.com/a/default-user=s64",
      "userId": "01913346087161822745"
     },
     "user_tz": -540
    },
    "id": "1QTbM8JIjv6z",
    "outputId": "95ab63d7-1178-4db3-aea4-ed57c6663ad8"
   },
   "outputs": [
    {
     "data": {
      "application/vnd.google.colaboratory.intrinsic+json": {
       "type": "string"
      },
      "text/plain": [
       "'Now this girl had a hungered and thirsty daughter, and it came to her ears that there was a man living in the forest who would give her anything she wanted.'"
      ]
     },
     "execution_count": 128,
     "metadata": {},
     "output_type": "execute_result"
    }
   ],
   "source": [
    "output_eng[0]  # 번역 전 영어 문장"
   ]
  },
  {
   "cell_type": "code",
   "execution_count": null,
   "metadata": {
    "colab": {
     "base_uri": "https://localhost:8080/",
     "height": 35
    },
    "executionInfo": {
     "elapsed": 1167,
     "status": "ok",
     "timestamp": 1635938890757,
     "user": {
      "displayName": "Seyeong Jung",
      "photoUrl": "https://lh3.googleusercontent.com/a/default-user=s64",
      "userId": "01913346087161822745"
     },
     "user_tz": -540
    },
    "id": "9xIJtYE9i0uu",
    "outputId": "2e1cf53c-620e-4ddf-e2dc-3998634ee9a9"
   },
   "outputs": [
    {
     "data": {
      "application/vnd.google.colaboratory.intrinsic+json": {
       "type": "string"
      },
      "text/plain": [
       "'그런데 이 여자아이는 목이 말라 비틀거리는 딸을 낳았는데, 그 여자아이의 귀에 한 남자가 와서, 자기가 원하는 것은 무엇이든지 줄 수 있는 숲에 살고 있었다.'"
      ]
     },
     "execution_count": 126,
     "metadata": {},
     "output_type": "execute_result"
    }
   ],
   "source": [
    "translate_papago(output_eng[0], 'en', 'ko') # papago 무료 api (높임말 X)"
   ]
  },
  {
   "cell_type": "code",
   "execution_count": null,
   "metadata": {
    "colab": {
     "base_uri": "https://localhost:8080/",
     "height": 35
    },
    "executionInfo": {
     "elapsed": 2351,
     "status": "ok",
     "timestamp": 1635938910207,
     "user": {
      "displayName": "Seyeong Jung",
      "photoUrl": "https://lh3.googleusercontent.com/a/default-user=s64",
      "userId": "01913346087161822745"
     },
     "user_tz": -540
    },
    "id": "_SL9W_NljoNb",
    "outputId": "da0441a2-7e3e-49b8-f5f5-e787b7f2d944"
   },
   "outputs": [
    {
     "data": {
      "application/vnd.google.colaboratory.intrinsic+json": {
       "type": "string"
      },
      "text/plain": [
       "'이제 그녀는 굶주리고 목이 마르고 딸을 낳았고, 숲에 살고 있는 남자가 원하는 것을 줄 것이라는 것이 그녀의 귀에 나타났습니다.'"
      ]
     },
     "execution_count": 127,
     "metadata": {},
     "output_type": "execute_result"
    }
   ],
   "source": [
    "translate_kakao(output_eng[0], 'en', 'ku') # kakao crawling (높임말 O)"
   ]
  },
  {
   "cell_type": "code",
   "execution_count": null,
   "metadata": {
    "colab": {
     "base_uri": "https://localhost:8080/",
     "height": 35
    },
    "executionInfo": {
     "elapsed": 1234,
     "status": "ok",
     "timestamp": 1635938978208,
     "user": {
      "displayName": "Seyeong Jung",
      "photoUrl": "https://lh3.googleusercontent.com/a/default-user=s64",
      "userId": "01913346087161822745"
     },
     "user_tz": -540
    },
    "id": "9KuzbNW2j7bp",
    "outputId": "f180fb7f-a122-4123-88a1-dafb3d51b9b5"
   },
   "outputs": [
    {
     "data": {
      "application/vnd.google.colaboratory.intrinsic+json": {
       "type": "string"
      },
      "text/plain": [
       "'이제 이 소녀는 굶주리고 목마른 딸을 낳았고, 숲에 살고 있는 한 남자가 그녀에게 원하는 것은 무엇이든 줄 것이라는 것이 그녀의 귀에 떠올랐다.'"
      ]
     },
     "execution_count": 129,
     "metadata": {},
     "output_type": "execute_result"
    }
   ],
   "source": [
    "translate_kakao(output_eng[0], 'en', 'kr') # kakao crawling (높임말 X)"
   ]
  }
 ],
 "metadata": {
  "accelerator": "GPU",
  "colab": {
   "authorship_tag": "ABX9TyPa6ROBlzc1VhPIYiImHOLu",
   "collapsed_sections": [
    "zR5nxCgVc5AN",
    "YENegYbjfIob"
   ],
   "machine_shape": "hm",
   "name": "gpt0-0.ipynb",
   "provenance": []
  },
  "kernelspec": {
   "display_name": "Python 3 (ipykernel)",
   "language": "python",
   "name": "python3"
  },
  "language_info": {
   "codemirror_mode": {
    "name": "ipython",
    "version": 3
   },
   "file_extension": ".py",
   "mimetype": "text/x-python",
   "name": "python",
   "nbconvert_exporter": "python",
   "pygments_lexer": "ipython3",
   "version": "3.9.7"
  },
  "widgets": {
   "application/vnd.jupyter.widget-state+json": {
    "0056026cf9ea43c5805caac248151b1f": {
     "model_module": "@jupyter-widgets/controls",
     "model_module_version": "1.5.0",
     "model_name": "DescriptionStyleModel",
     "state": {
      "_model_module": "@jupyter-widgets/controls",
      "_model_module_version": "1.5.0",
      "_model_name": "DescriptionStyleModel",
      "_view_count": null,
      "_view_module": "@jupyter-widgets/base",
      "_view_module_version": "1.2.0",
      "_view_name": "StyleView",
      "description_width": ""
     }
    },
    "01ffc81a172146358fabb668f505d0d1": {
     "model_module": "@jupyter-widgets/controls",
     "model_module_version": "1.5.0",
     "model_name": "DescriptionStyleModel",
     "state": {
      "_model_module": "@jupyter-widgets/controls",
      "_model_module_version": "1.5.0",
      "_model_name": "DescriptionStyleModel",
      "_view_count": null,
      "_view_module": "@jupyter-widgets/base",
      "_view_module_version": "1.2.0",
      "_view_name": "StyleView",
      "description_width": ""
     }
    },
    "02b01b09c752443faebc7fb5d8045702": {
     "model_module": "@jupyter-widgets/controls",
     "model_module_version": "1.5.0",
     "model_name": "ProgressStyleModel",
     "state": {
      "_model_module": "@jupyter-widgets/controls",
      "_model_module_version": "1.5.0",
      "_model_name": "ProgressStyleModel",
      "_view_count": null,
      "_view_module": "@jupyter-widgets/base",
      "_view_module_version": "1.2.0",
      "_view_name": "StyleView",
      "bar_color": null,
      "description_width": ""
     }
    },
    "03da52f66ea64663a928102c81741a51": {
     "model_module": "@jupyter-widgets/controls",
     "model_module_version": "1.5.0",
     "model_name": "DescriptionStyleModel",
     "state": {
      "_model_module": "@jupyter-widgets/controls",
      "_model_module_version": "1.5.0",
      "_model_name": "DescriptionStyleModel",
      "_view_count": null,
      "_view_module": "@jupyter-widgets/base",
      "_view_module_version": "1.2.0",
      "_view_name": "StyleView",
      "description_width": ""
     }
    },
    "0517d2fc027748b9ac36e6893bad7e15": {
     "model_module": "@jupyter-widgets/controls",
     "model_module_version": "1.5.0",
     "model_name": "HTMLModel",
     "state": {
      "_dom_classes": [],
      "_model_module": "@jupyter-widgets/controls",
      "_model_module_version": "1.5.0",
      "_model_name": "HTMLModel",
      "_view_count": null,
      "_view_module": "@jupyter-widgets/controls",
      "_view_module_version": "1.5.0",
      "_view_name": "HTMLView",
      "description": "",
      "description_tooltip": null,
      "layout": "IPY_MODEL_5e28f5a3d29244ef996a2f170e2768e5",
      "placeholder": "​",
      "style": "IPY_MODEL_0ef63baa34c343e09659ca06a7ab3774",
      "value": "Downloading: 100%"
     }
    },
    "0a8593fcf86c4425a7ab72163b334ecb": {
     "model_module": "@jupyter-widgets/controls",
     "model_module_version": "1.5.0",
     "model_name": "ProgressStyleModel",
     "state": {
      "_model_module": "@jupyter-widgets/controls",
      "_model_module_version": "1.5.0",
      "_model_name": "ProgressStyleModel",
      "_view_count": null,
      "_view_module": "@jupyter-widgets/base",
      "_view_module_version": "1.2.0",
      "_view_name": "StyleView",
      "bar_color": null,
      "description_width": ""
     }
    },
    "0c4b9fe6200c4b8984ebc40330f74e7a": {
     "model_module": "@jupyter-widgets/controls",
     "model_module_version": "1.5.0",
     "model_name": "ProgressStyleModel",
     "state": {
      "_model_module": "@jupyter-widgets/controls",
      "_model_module_version": "1.5.0",
      "_model_name": "ProgressStyleModel",
      "_view_count": null,
      "_view_module": "@jupyter-widgets/base",
      "_view_module_version": "1.2.0",
      "_view_name": "StyleView",
      "bar_color": null,
      "description_width": ""
     }
    },
    "0dd3415c588f413b92513e6764608365": {
     "model_module": "@jupyter-widgets/base",
     "model_module_version": "1.2.0",
     "model_name": "LayoutModel",
     "state": {
      "_model_module": "@jupyter-widgets/base",
      "_model_module_version": "1.2.0",
      "_model_name": "LayoutModel",
      "_view_count": null,
      "_view_module": "@jupyter-widgets/base",
      "_view_module_version": "1.2.0",
      "_view_name": "LayoutView",
      "align_content": null,
      "align_items": null,
      "align_self": null,
      "border": null,
      "bottom": null,
      "display": null,
      "flex": null,
      "flex_flow": null,
      "grid_area": null,
      "grid_auto_columns": null,
      "grid_auto_flow": null,
      "grid_auto_rows": null,
      "grid_column": null,
      "grid_gap": null,
      "grid_row": null,
      "grid_template_areas": null,
      "grid_template_columns": null,
      "grid_template_rows": null,
      "height": null,
      "justify_content": null,
      "justify_items": null,
      "left": null,
      "margin": null,
      "max_height": null,
      "max_width": null,
      "min_height": null,
      "min_width": null,
      "object_fit": null,
      "object_position": null,
      "order": null,
      "overflow": null,
      "overflow_x": null,
      "overflow_y": null,
      "padding": null,
      "right": null,
      "top": null,
      "visibility": null,
      "width": null
     }
    },
    "0ef63baa34c343e09659ca06a7ab3774": {
     "model_module": "@jupyter-widgets/controls",
     "model_module_version": "1.5.0",
     "model_name": "DescriptionStyleModel",
     "state": {
      "_model_module": "@jupyter-widgets/controls",
      "_model_module_version": "1.5.0",
      "_model_name": "DescriptionStyleModel",
      "_view_count": null,
      "_view_module": "@jupyter-widgets/base",
      "_view_module_version": "1.2.0",
      "_view_name": "StyleView",
      "description_width": ""
     }
    },
    "0f771bafdb304b6da96dfbd76856a9c1": {
     "model_module": "@jupyter-widgets/controls",
     "model_module_version": "1.5.0",
     "model_name": "HTMLModel",
     "state": {
      "_dom_classes": [],
      "_model_module": "@jupyter-widgets/controls",
      "_model_module_version": "1.5.0",
      "_model_name": "HTMLModel",
      "_view_count": null,
      "_view_module": "@jupyter-widgets/controls",
      "_view_module_version": "1.5.0",
      "_view_name": "HTMLView",
      "description": "",
      "description_tooltip": null,
      "layout": "IPY_MODEL_96af54e5aeba41ab8dddd07ecdb6124e",
      "placeholder": "​",
      "style": "IPY_MODEL_2fca4bf14b7449099c846952e5b9539a",
      "value": "Downloading: 100%"
     }
    },
    "0fb9ad6d1585442cab2061dd490b4923": {
     "model_module": "@jupyter-widgets/controls",
     "model_module_version": "1.5.0",
     "model_name": "HBoxModel",
     "state": {
      "_dom_classes": [],
      "_model_module": "@jupyter-widgets/controls",
      "_model_module_version": "1.5.0",
      "_model_name": "HBoxModel",
      "_view_count": null,
      "_view_module": "@jupyter-widgets/controls",
      "_view_module_version": "1.5.0",
      "_view_name": "HBoxView",
      "box_style": "",
      "children": [
       "IPY_MODEL_87311568965a4280a19d19a29f8c5d80",
       "IPY_MODEL_8d6f41be3c6a45b1bffcf8e718389736",
       "IPY_MODEL_3d565264d89d4d0c9a96bd875024ad6d"
      ],
      "layout": "IPY_MODEL_4ba52bb3d5a640bd872731ced7e358c3"
     }
    },
    "1346c0f9413342f0b69cf1e98c8b9f9c": {
     "model_module": "@jupyter-widgets/base",
     "model_module_version": "1.2.0",
     "model_name": "LayoutModel",
     "state": {
      "_model_module": "@jupyter-widgets/base",
      "_model_module_version": "1.2.0",
      "_model_name": "LayoutModel",
      "_view_count": null,
      "_view_module": "@jupyter-widgets/base",
      "_view_module_version": "1.2.0",
      "_view_name": "LayoutView",
      "align_content": null,
      "align_items": null,
      "align_self": null,
      "border": null,
      "bottom": null,
      "display": null,
      "flex": null,
      "flex_flow": null,
      "grid_area": null,
      "grid_auto_columns": null,
      "grid_auto_flow": null,
      "grid_auto_rows": null,
      "grid_column": null,
      "grid_gap": null,
      "grid_row": null,
      "grid_template_areas": null,
      "grid_template_columns": null,
      "grid_template_rows": null,
      "height": null,
      "justify_content": null,
      "justify_items": null,
      "left": null,
      "margin": null,
      "max_height": null,
      "max_width": null,
      "min_height": null,
      "min_width": null,
      "object_fit": null,
      "object_position": null,
      "order": null,
      "overflow": null,
      "overflow_x": null,
      "overflow_y": null,
      "padding": null,
      "right": null,
      "top": null,
      "visibility": null,
      "width": null
     }
    },
    "13e3db331e5e4f02b8978e4008ec56ae": {
     "model_module": "@jupyter-widgets/controls",
     "model_module_version": "1.5.0",
     "model_name": "ProgressStyleModel",
     "state": {
      "_model_module": "@jupyter-widgets/controls",
      "_model_module_version": "1.5.0",
      "_model_name": "ProgressStyleModel",
      "_view_count": null,
      "_view_module": "@jupyter-widgets/base",
      "_view_module_version": "1.2.0",
      "_view_name": "StyleView",
      "bar_color": null,
      "description_width": ""
     }
    },
    "17ec5120c6b04fd6a6fa904d8ae8306b": {
     "model_module": "@jupyter-widgets/base",
     "model_module_version": "1.2.0",
     "model_name": "LayoutModel",
     "state": {
      "_model_module": "@jupyter-widgets/base",
      "_model_module_version": "1.2.0",
      "_model_name": "LayoutModel",
      "_view_count": null,
      "_view_module": "@jupyter-widgets/base",
      "_view_module_version": "1.2.0",
      "_view_name": "LayoutView",
      "align_content": null,
      "align_items": null,
      "align_self": null,
      "border": null,
      "bottom": null,
      "display": null,
      "flex": null,
      "flex_flow": null,
      "grid_area": null,
      "grid_auto_columns": null,
      "grid_auto_flow": null,
      "grid_auto_rows": null,
      "grid_column": null,
      "grid_gap": null,
      "grid_row": null,
      "grid_template_areas": null,
      "grid_template_columns": null,
      "grid_template_rows": null,
      "height": null,
      "justify_content": null,
      "justify_items": null,
      "left": null,
      "margin": null,
      "max_height": null,
      "max_width": null,
      "min_height": null,
      "min_width": null,
      "object_fit": null,
      "object_position": null,
      "order": null,
      "overflow": null,
      "overflow_x": null,
      "overflow_y": null,
      "padding": null,
      "right": null,
      "top": null,
      "visibility": null,
      "width": null
     }
    },
    "18554930c1274446acce84b4c6177012": {
     "model_module": "@jupyter-widgets/controls",
     "model_module_version": "1.5.0",
     "model_name": "FloatProgressModel",
     "state": {
      "_dom_classes": [],
      "_model_module": "@jupyter-widgets/controls",
      "_model_module_version": "1.5.0",
      "_model_name": "FloatProgressModel",
      "_view_count": null,
      "_view_module": "@jupyter-widgets/controls",
      "_view_module_version": "1.5.0",
      "_view_name": "ProgressView",
      "bar_style": "success",
      "description": "",
      "description_tooltip": null,
      "layout": "IPY_MODEL_4060998860344ff79cd15c410c4c61ce",
      "max": 3247202234,
      "min": 0,
      "orientation": "horizontal",
      "style": "IPY_MODEL_02b01b09c752443faebc7fb5d8045702",
      "value": 3247202234
     }
    },
    "1b0620994bd04203b526eb09e7c8fde0": {
     "model_module": "@jupyter-widgets/controls",
     "model_module_version": "1.5.0",
     "model_name": "HBoxModel",
     "state": {
      "_dom_classes": [],
      "_model_module": "@jupyter-widgets/controls",
      "_model_module_version": "1.5.0",
      "_model_name": "HBoxModel",
      "_view_count": null,
      "_view_module": "@jupyter-widgets/controls",
      "_view_module_version": "1.5.0",
      "_view_name": "HBoxView",
      "box_style": "",
      "children": [
       "IPY_MODEL_0f771bafdb304b6da96dfbd76856a9c1",
       "IPY_MODEL_36c4e554e03f451b883dba22ae249890",
       "IPY_MODEL_e02aa2ffef8f4c73866cd64d71ea8939"
      ],
      "layout": "IPY_MODEL_51ecf5d4746e4f53a2fd1ed368b0cb75"
     }
    },
    "1f4740e0e83b4c5aafdcec4fe55ad11a": {
     "model_module": "@jupyter-widgets/controls",
     "model_module_version": "1.5.0",
     "model_name": "DescriptionStyleModel",
     "state": {
      "_model_module": "@jupyter-widgets/controls",
      "_model_module_version": "1.5.0",
      "_model_name": "DescriptionStyleModel",
      "_view_count": null,
      "_view_module": "@jupyter-widgets/base",
      "_view_module_version": "1.2.0",
      "_view_name": "StyleView",
      "description_width": ""
     }
    },
    "2221ccb6183b47ccbadba6212dcf4422": {
     "model_module": "@jupyter-widgets/controls",
     "model_module_version": "1.5.0",
     "model_name": "HBoxModel",
     "state": {
      "_dom_classes": [],
      "_model_module": "@jupyter-widgets/controls",
      "_model_module_version": "1.5.0",
      "_model_name": "HBoxModel",
      "_view_count": null,
      "_view_module": "@jupyter-widgets/controls",
      "_view_module_version": "1.5.0",
      "_view_name": "HBoxView",
      "box_style": "",
      "children": [
       "IPY_MODEL_0517d2fc027748b9ac36e6893bad7e15",
       "IPY_MODEL_18554930c1274446acce84b4c6177012",
       "IPY_MODEL_743f062246994af5b8dfdc60b4b3066b"
      ],
      "layout": "IPY_MODEL_1346c0f9413342f0b69cf1e98c8b9f9c"
     }
    },
    "253ff59ad0b74bd78528943f75c95218": {
     "model_module": "@jupyter-widgets/controls",
     "model_module_version": "1.5.0",
     "model_name": "HTMLModel",
     "state": {
      "_dom_classes": [],
      "_model_module": "@jupyter-widgets/controls",
      "_model_module_version": "1.5.0",
      "_model_name": "HTMLModel",
      "_view_count": null,
      "_view_module": "@jupyter-widgets/controls",
      "_view_module_version": "1.5.0",
      "_view_name": "HTMLView",
      "description": "",
      "description_tooltip": null,
      "layout": "IPY_MODEL_9c57e898af6a4b8c973f4054f5d6b874",
      "placeholder": "​",
      "style": "IPY_MODEL_41488d666a3547978f853f5ac73afc94",
      "value": " 908/908 [00:00&lt;00:00, 36.4kB/s]"
     }
    },
    "26a5c6cd60704117b7ddce8a3ca3c92e": {
     "model_module": "@jupyter-widgets/controls",
     "model_module_version": "1.5.0",
     "model_name": "HTMLModel",
     "state": {
      "_dom_classes": [],
      "_model_module": "@jupyter-widgets/controls",
      "_model_module_version": "1.5.0",
      "_model_name": "HTMLModel",
      "_view_count": null,
      "_view_module": "@jupyter-widgets/controls",
      "_view_module_version": "1.5.0",
      "_view_name": "HTMLView",
      "description": "",
      "description_tooltip": null,
      "layout": "IPY_MODEL_a0a4e46283a949d4b5f19494e6f28f72",
      "placeholder": "​",
      "style": "IPY_MODEL_1f4740e0e83b4c5aafdcec4fe55ad11a",
      "value": " 357/357 [00:00&lt;00:00, 13.1kB/s]"
     }
    },
    "27506e45d86640ce840844673c1ab16d": {
     "model_module": "@jupyter-widgets/base",
     "model_module_version": "1.2.0",
     "model_name": "LayoutModel",
     "state": {
      "_model_module": "@jupyter-widgets/base",
      "_model_module_version": "1.2.0",
      "_model_name": "LayoutModel",
      "_view_count": null,
      "_view_module": "@jupyter-widgets/base",
      "_view_module_version": "1.2.0",
      "_view_name": "LayoutView",
      "align_content": null,
      "align_items": null,
      "align_self": null,
      "border": null,
      "bottom": null,
      "display": null,
      "flex": null,
      "flex_flow": null,
      "grid_area": null,
      "grid_auto_columns": null,
      "grid_auto_flow": null,
      "grid_auto_rows": null,
      "grid_column": null,
      "grid_gap": null,
      "grid_row": null,
      "grid_template_areas": null,
      "grid_template_columns": null,
      "grid_template_rows": null,
      "height": null,
      "justify_content": null,
      "justify_items": null,
      "left": null,
      "margin": null,
      "max_height": null,
      "max_width": null,
      "min_height": null,
      "min_width": null,
      "object_fit": null,
      "object_position": null,
      "order": null,
      "overflow": null,
      "overflow_x": null,
      "overflow_y": null,
      "padding": null,
      "right": null,
      "top": null,
      "visibility": null,
      "width": null
     }
    },
    "2ba487bc7f4c46c1a87a9146deb90047": {
     "model_module": "@jupyter-widgets/base",
     "model_module_version": "1.2.0",
     "model_name": "LayoutModel",
     "state": {
      "_model_module": "@jupyter-widgets/base",
      "_model_module_version": "1.2.0",
      "_model_name": "LayoutModel",
      "_view_count": null,
      "_view_module": "@jupyter-widgets/base",
      "_view_module_version": "1.2.0",
      "_view_name": "LayoutView",
      "align_content": null,
      "align_items": null,
      "align_self": null,
      "border": null,
      "bottom": null,
      "display": null,
      "flex": null,
      "flex_flow": null,
      "grid_area": null,
      "grid_auto_columns": null,
      "grid_auto_flow": null,
      "grid_auto_rows": null,
      "grid_column": null,
      "grid_gap": null,
      "grid_row": null,
      "grid_template_areas": null,
      "grid_template_columns": null,
      "grid_template_rows": null,
      "height": null,
      "justify_content": null,
      "justify_items": null,
      "left": null,
      "margin": null,
      "max_height": null,
      "max_width": null,
      "min_height": null,
      "min_width": null,
      "object_fit": null,
      "object_position": null,
      "order": null,
      "overflow": null,
      "overflow_x": null,
      "overflow_y": null,
      "padding": null,
      "right": null,
      "top": null,
      "visibility": null,
      "width": null
     }
    },
    "2fca4bf14b7449099c846952e5b9539a": {
     "model_module": "@jupyter-widgets/controls",
     "model_module_version": "1.5.0",
     "model_name": "DescriptionStyleModel",
     "state": {
      "_model_module": "@jupyter-widgets/controls",
      "_model_module_version": "1.5.0",
      "_model_name": "DescriptionStyleModel",
      "_view_count": null,
      "_view_module": "@jupyter-widgets/base",
      "_view_module_version": "1.2.0",
      "_view_name": "StyleView",
      "description_width": ""
     }
    },
    "30de6c1fa8e14a4393193c3b035ed906": {
     "model_module": "@jupyter-widgets/controls",
     "model_module_version": "1.5.0",
     "model_name": "ProgressStyleModel",
     "state": {
      "_model_module": "@jupyter-widgets/controls",
      "_model_module_version": "1.5.0",
      "_model_name": "ProgressStyleModel",
      "_view_count": null,
      "_view_module": "@jupyter-widgets/base",
      "_view_module_version": "1.2.0",
      "_view_name": "StyleView",
      "bar_color": null,
      "description_width": ""
     }
    },
    "31d7aabce0684a7dbc2d800d20d62b9e": {
     "model_module": "@jupyter-widgets/base",
     "model_module_version": "1.2.0",
     "model_name": "LayoutModel",
     "state": {
      "_model_module": "@jupyter-widgets/base",
      "_model_module_version": "1.2.0",
      "_model_name": "LayoutModel",
      "_view_count": null,
      "_view_module": "@jupyter-widgets/base",
      "_view_module_version": "1.2.0",
      "_view_name": "LayoutView",
      "align_content": null,
      "align_items": null,
      "align_self": null,
      "border": null,
      "bottom": null,
      "display": null,
      "flex": null,
      "flex_flow": null,
      "grid_area": null,
      "grid_auto_columns": null,
      "grid_auto_flow": null,
      "grid_auto_rows": null,
      "grid_column": null,
      "grid_gap": null,
      "grid_row": null,
      "grid_template_areas": null,
      "grid_template_columns": null,
      "grid_template_rows": null,
      "height": null,
      "justify_content": null,
      "justify_items": null,
      "left": null,
      "margin": null,
      "max_height": null,
      "max_width": null,
      "min_height": null,
      "min_width": null,
      "object_fit": null,
      "object_position": null,
      "order": null,
      "overflow": null,
      "overflow_x": null,
      "overflow_y": null,
      "padding": null,
      "right": null,
      "top": null,
      "visibility": null,
      "width": null
     }
    },
    "32c886bc0a8d439b9cd0813c8671f5f2": {
     "model_module": "@jupyter-widgets/controls",
     "model_module_version": "1.5.0",
     "model_name": "ProgressStyleModel",
     "state": {
      "_model_module": "@jupyter-widgets/controls",
      "_model_module_version": "1.5.0",
      "_model_name": "ProgressStyleModel",
      "_view_count": null,
      "_view_module": "@jupyter-widgets/base",
      "_view_module_version": "1.2.0",
      "_view_name": "StyleView",
      "bar_color": null,
      "description_width": ""
     }
    },
    "3504a99091ed47a29d32901af129a1ff": {
     "model_module": "@jupyter-widgets/controls",
     "model_module_version": "1.5.0",
     "model_name": "HBoxModel",
     "state": {
      "_dom_classes": [],
      "_model_module": "@jupyter-widgets/controls",
      "_model_module_version": "1.5.0",
      "_model_name": "HBoxModel",
      "_view_count": null,
      "_view_module": "@jupyter-widgets/controls",
      "_view_module_version": "1.5.0",
      "_view_name": "HBoxView",
      "box_style": "",
      "children": [
       "IPY_MODEL_9ac55c969f5c4d65a34c1fb6c336e1b6",
       "IPY_MODEL_369b799cf1954db0bc1f723726007d40",
       "IPY_MODEL_df881ba3b4b542649f9f8591fa79df47"
      ],
      "layout": "IPY_MODEL_71c7966a3d7c49b4b29b755d84c9797c"
     }
    },
    "369b799cf1954db0bc1f723726007d40": {
     "model_module": "@jupyter-widgets/controls",
     "model_module_version": "1.5.0",
     "model_name": "FloatProgressModel",
     "state": {
      "_dom_classes": [],
      "_model_module": "@jupyter-widgets/controls",
      "_model_module_version": "1.5.0",
      "_model_name": "FloatProgressModel",
      "_view_count": null,
      "_view_module": "@jupyter-widgets/controls",
      "_view_module_version": "1.5.0",
      "_view_name": "ProgressView",
      "bar_style": "success",
      "description": "",
      "description_tooltip": null,
      "layout": "IPY_MODEL_ebef29421c2949429a311bf0e814cae7",
      "max": 1355256,
      "min": 0,
      "orientation": "horizontal",
      "style": "IPY_MODEL_f9e5855e18d44ee99f165d111673b532",
      "value": 1355256
     }
    },
    "36c4e554e03f451b883dba22ae249890": {
     "model_module": "@jupyter-widgets/controls",
     "model_module_version": "1.5.0",
     "model_name": "FloatProgressModel",
     "state": {
      "_dom_classes": [],
      "_model_module": "@jupyter-widgets/controls",
      "_model_module_version": "1.5.0",
      "_model_name": "FloatProgressModel",
      "_view_count": null,
      "_view_module": "@jupyter-widgets/controls",
      "_view_module_version": "1.5.0",
      "_view_name": "ProgressView",
      "bar_style": "success",
      "description": "",
      "description_tooltip": null,
      "layout": "IPY_MODEL_669eb38745674272a58b915ce5cb2e70",
      "max": 666,
      "min": 0,
      "orientation": "horizontal",
      "style": "IPY_MODEL_30de6c1fa8e14a4393193c3b035ed906",
      "value": 666
     }
    },
    "373a926f495d426dafdbfbef31867b72": {
     "model_module": "@jupyter-widgets/controls",
     "model_module_version": "1.5.0",
     "model_name": "HTMLModel",
     "state": {
      "_dom_classes": [],
      "_model_module": "@jupyter-widgets/controls",
      "_model_module_version": "1.5.0",
      "_model_name": "HTMLModel",
      "_view_count": null,
      "_view_module": "@jupyter-widgets/controls",
      "_view_module_version": "1.5.0",
      "_view_name": "HTMLView",
      "description": "",
      "description_tooltip": null,
      "layout": "IPY_MODEL_ba0132e4f92d4f83a89f3e995d819f50",
      "placeholder": "​",
      "style": "IPY_MODEL_e0ba0c60d8934ec19218a72b7dc0940c",
      "value": " 446k/446k [00:00&lt;00:00, 899kB/s]"
     }
    },
    "377205b8e2514deea922f8ad3c15814a": {
     "model_module": "@jupyter-widgets/base",
     "model_module_version": "1.2.0",
     "model_name": "LayoutModel",
     "state": {
      "_model_module": "@jupyter-widgets/base",
      "_model_module_version": "1.2.0",
      "_model_name": "LayoutModel",
      "_view_count": null,
      "_view_module": "@jupyter-widgets/base",
      "_view_module_version": "1.2.0",
      "_view_name": "LayoutView",
      "align_content": null,
      "align_items": null,
      "align_self": null,
      "border": null,
      "bottom": null,
      "display": null,
      "flex": null,
      "flex_flow": null,
      "grid_area": null,
      "grid_auto_columns": null,
      "grid_auto_flow": null,
      "grid_auto_rows": null,
      "grid_column": null,
      "grid_gap": null,
      "grid_row": null,
      "grid_template_areas": null,
      "grid_template_columns": null,
      "grid_template_rows": null,
      "height": null,
      "justify_content": null,
      "justify_items": null,
      "left": null,
      "margin": null,
      "max_height": null,
      "max_width": null,
      "min_height": null,
      "min_width": null,
      "object_fit": null,
      "object_position": null,
      "order": null,
      "overflow": null,
      "overflow_x": null,
      "overflow_y": null,
      "padding": null,
      "right": null,
      "top": null,
      "visibility": null,
      "width": null
     }
    },
    "3d565264d89d4d0c9a96bd875024ad6d": {
     "model_module": "@jupyter-widgets/controls",
     "model_module_version": "1.5.0",
     "model_name": "HTMLModel",
     "state": {
      "_dom_classes": [],
      "_model_module": "@jupyter-widgets/controls",
      "_model_module_version": "1.5.0",
      "_model_name": "HTMLModel",
      "_view_count": null,
      "_view_module": "@jupyter-widgets/controls",
      "_view_module_version": "1.5.0",
      "_view_name": "HTMLView",
      "description": "",
      "description_tooltip": null,
      "layout": "IPY_MODEL_2ba487bc7f4c46c1a87a9146deb90047",
      "placeholder": "​",
      "style": "IPY_MODEL_d24c0a093d91434e85c08da0490fff4f",
      "value": " 446k/446k [00:00&lt;00:00, 971kB/s]"
     }
    },
    "4060998860344ff79cd15c410c4c61ce": {
     "model_module": "@jupyter-widgets/base",
     "model_module_version": "1.2.0",
     "model_name": "LayoutModel",
     "state": {
      "_model_module": "@jupyter-widgets/base",
      "_model_module_version": "1.2.0",
      "_model_name": "LayoutModel",
      "_view_count": null,
      "_view_module": "@jupyter-widgets/base",
      "_view_module_version": "1.2.0",
      "_view_name": "LayoutView",
      "align_content": null,
      "align_items": null,
      "align_self": null,
      "border": null,
      "bottom": null,
      "display": null,
      "flex": null,
      "flex_flow": null,
      "grid_area": null,
      "grid_auto_columns": null,
      "grid_auto_flow": null,
      "grid_auto_rows": null,
      "grid_column": null,
      "grid_gap": null,
      "grid_row": null,
      "grid_template_areas": null,
      "grid_template_columns": null,
      "grid_template_rows": null,
      "height": null,
      "justify_content": null,
      "justify_items": null,
      "left": null,
      "margin": null,
      "max_height": null,
      "max_width": null,
      "min_height": null,
      "min_width": null,
      "object_fit": null,
      "object_position": null,
      "order": null,
      "overflow": null,
      "overflow_x": null,
      "overflow_y": null,
      "padding": null,
      "right": null,
      "top": null,
      "visibility": null,
      "width": null
     }
    },
    "411144c9385a4fd6913c14cb5659a1e2": {
     "model_module": "@jupyter-widgets/base",
     "model_module_version": "1.2.0",
     "model_name": "LayoutModel",
     "state": {
      "_model_module": "@jupyter-widgets/base",
      "_model_module_version": "1.2.0",
      "_model_name": "LayoutModel",
      "_view_count": null,
      "_view_module": "@jupyter-widgets/base",
      "_view_module_version": "1.2.0",
      "_view_name": "LayoutView",
      "align_content": null,
      "align_items": null,
      "align_self": null,
      "border": null,
      "bottom": null,
      "display": null,
      "flex": null,
      "flex_flow": null,
      "grid_area": null,
      "grid_auto_columns": null,
      "grid_auto_flow": null,
      "grid_auto_rows": null,
      "grid_column": null,
      "grid_gap": null,
      "grid_row": null,
      "grid_template_areas": null,
      "grid_template_columns": null,
      "grid_template_rows": null,
      "height": null,
      "justify_content": null,
      "justify_items": null,
      "left": null,
      "margin": null,
      "max_height": null,
      "max_width": null,
      "min_height": null,
      "min_width": null,
      "object_fit": null,
      "object_position": null,
      "order": null,
      "overflow": null,
      "overflow_x": null,
      "overflow_y": null,
      "padding": null,
      "right": null,
      "top": null,
      "visibility": null,
      "width": null
     }
    },
    "41488d666a3547978f853f5ac73afc94": {
     "model_module": "@jupyter-widgets/controls",
     "model_module_version": "1.5.0",
     "model_name": "DescriptionStyleModel",
     "state": {
      "_model_module": "@jupyter-widgets/controls",
      "_model_module_version": "1.5.0",
      "_model_name": "DescriptionStyleModel",
      "_view_count": null,
      "_view_module": "@jupyter-widgets/base",
      "_view_module_version": "1.2.0",
      "_view_name": "StyleView",
      "description_width": ""
     }
    },
    "426c72ea95094efebba1b46935737b07": {
     "model_module": "@jupyter-widgets/base",
     "model_module_version": "1.2.0",
     "model_name": "LayoutModel",
     "state": {
      "_model_module": "@jupyter-widgets/base",
      "_model_module_version": "1.2.0",
      "_model_name": "LayoutModel",
      "_view_count": null,
      "_view_module": "@jupyter-widgets/base",
      "_view_module_version": "1.2.0",
      "_view_name": "LayoutView",
      "align_content": null,
      "align_items": null,
      "align_self": null,
      "border": null,
      "bottom": null,
      "display": null,
      "flex": null,
      "flex_flow": null,
      "grid_area": null,
      "grid_auto_columns": null,
      "grid_auto_flow": null,
      "grid_auto_rows": null,
      "grid_column": null,
      "grid_gap": null,
      "grid_row": null,
      "grid_template_areas": null,
      "grid_template_columns": null,
      "grid_template_rows": null,
      "height": null,
      "justify_content": null,
      "justify_items": null,
      "left": null,
      "margin": null,
      "max_height": null,
      "max_width": null,
      "min_height": null,
      "min_width": null,
      "object_fit": null,
      "object_position": null,
      "order": null,
      "overflow": null,
      "overflow_x": null,
      "overflow_y": null,
      "padding": null,
      "right": null,
      "top": null,
      "visibility": null,
      "width": null
     }
    },
    "432efcf83a8d4df6b3bb00259ca542d2": {
     "model_module": "@jupyter-widgets/base",
     "model_module_version": "1.2.0",
     "model_name": "LayoutModel",
     "state": {
      "_model_module": "@jupyter-widgets/base",
      "_model_module_version": "1.2.0",
      "_model_name": "LayoutModel",
      "_view_count": null,
      "_view_module": "@jupyter-widgets/base",
      "_view_module_version": "1.2.0",
      "_view_name": "LayoutView",
      "align_content": null,
      "align_items": null,
      "align_self": null,
      "border": null,
      "bottom": null,
      "display": null,
      "flex": null,
      "flex_flow": null,
      "grid_area": null,
      "grid_auto_columns": null,
      "grid_auto_flow": null,
      "grid_auto_rows": null,
      "grid_column": null,
      "grid_gap": null,
      "grid_row": null,
      "grid_template_areas": null,
      "grid_template_columns": null,
      "grid_template_rows": null,
      "height": null,
      "justify_content": null,
      "justify_items": null,
      "left": null,
      "margin": null,
      "max_height": null,
      "max_width": null,
      "min_height": null,
      "min_width": null,
      "object_fit": null,
      "object_position": null,
      "order": null,
      "overflow": null,
      "overflow_x": null,
      "overflow_y": null,
      "padding": null,
      "right": null,
      "top": null,
      "visibility": null,
      "width": null
     }
    },
    "4560bd3de4c741feaee642f8bd595253": {
     "model_module": "@jupyter-widgets/base",
     "model_module_version": "1.2.0",
     "model_name": "LayoutModel",
     "state": {
      "_model_module": "@jupyter-widgets/base",
      "_model_module_version": "1.2.0",
      "_model_name": "LayoutModel",
      "_view_count": null,
      "_view_module": "@jupyter-widgets/base",
      "_view_module_version": "1.2.0",
      "_view_name": "LayoutView",
      "align_content": null,
      "align_items": null,
      "align_self": null,
      "border": null,
      "bottom": null,
      "display": null,
      "flex": null,
      "flex_flow": null,
      "grid_area": null,
      "grid_auto_columns": null,
      "grid_auto_flow": null,
      "grid_auto_rows": null,
      "grid_column": null,
      "grid_gap": null,
      "grid_row": null,
      "grid_template_areas": null,
      "grid_template_columns": null,
      "grid_template_rows": null,
      "height": null,
      "justify_content": null,
      "justify_items": null,
      "left": null,
      "margin": null,
      "max_height": null,
      "max_width": null,
      "min_height": null,
      "min_width": null,
      "object_fit": null,
      "object_position": null,
      "order": null,
      "overflow": null,
      "overflow_x": null,
      "overflow_y": null,
      "padding": null,
      "right": null,
      "top": null,
      "visibility": null,
      "width": null
     }
    },
    "48932ccf80e14ec78c7b3c7b187191d8": {
     "model_module": "@jupyter-widgets/controls",
     "model_module_version": "1.5.0",
     "model_name": "DescriptionStyleModel",
     "state": {
      "_model_module": "@jupyter-widgets/controls",
      "_model_module_version": "1.5.0",
      "_model_name": "DescriptionStyleModel",
      "_view_count": null,
      "_view_module": "@jupyter-widgets/base",
      "_view_module_version": "1.2.0",
      "_view_name": "StyleView",
      "description_width": ""
     }
    },
    "4a18db6180ca4a5daee06ce64efbf550": {
     "model_module": "@jupyter-widgets/controls",
     "model_module_version": "1.5.0",
     "model_name": "HTMLModel",
     "state": {
      "_dom_classes": [],
      "_model_module": "@jupyter-widgets/controls",
      "_model_module_version": "1.5.0",
      "_model_name": "HTMLModel",
      "_view_count": null,
      "_view_module": "@jupyter-widgets/controls",
      "_view_module_version": "1.5.0",
      "_view_name": "HTMLView",
      "description": "",
      "description_tooltip": null,
      "layout": "IPY_MODEL_31d7aabce0684a7dbc2d800d20d62b9e",
      "placeholder": "​",
      "style": "IPY_MODEL_d7c23c5dc4b24b7c96ce70789fd42210",
      "value": "Downloading: 100%"
     }
    },
    "4ba52bb3d5a640bd872731ced7e358c3": {
     "model_module": "@jupyter-widgets/base",
     "model_module_version": "1.2.0",
     "model_name": "LayoutModel",
     "state": {
      "_model_module": "@jupyter-widgets/base",
      "_model_module_version": "1.2.0",
      "_model_name": "LayoutModel",
      "_view_count": null,
      "_view_module": "@jupyter-widgets/base",
      "_view_module_version": "1.2.0",
      "_view_name": "LayoutView",
      "align_content": null,
      "align_items": null,
      "align_self": null,
      "border": null,
      "bottom": null,
      "display": null,
      "flex": null,
      "flex_flow": null,
      "grid_area": null,
      "grid_auto_columns": null,
      "grid_auto_flow": null,
      "grid_auto_rows": null,
      "grid_column": null,
      "grid_gap": null,
      "grid_row": null,
      "grid_template_areas": null,
      "grid_template_columns": null,
      "grid_template_rows": null,
      "height": null,
      "justify_content": null,
      "justify_items": null,
      "left": null,
      "margin": null,
      "max_height": null,
      "max_width": null,
      "min_height": null,
      "min_width": null,
      "object_fit": null,
      "object_position": null,
      "order": null,
      "overflow": null,
      "overflow_x": null,
      "overflow_y": null,
      "padding": null,
      "right": null,
      "top": null,
      "visibility": null,
      "width": null
     }
    },
    "4f64fcf1113b41c9aa300199a0b36014": {
     "model_module": "@jupyter-widgets/controls",
     "model_module_version": "1.5.0",
     "model_name": "ProgressStyleModel",
     "state": {
      "_model_module": "@jupyter-widgets/controls",
      "_model_module_version": "1.5.0",
      "_model_name": "ProgressStyleModel",
      "_view_count": null,
      "_view_module": "@jupyter-widgets/base",
      "_view_module_version": "1.2.0",
      "_view_name": "StyleView",
      "bar_color": null,
      "description_width": ""
     }
    },
    "51dc8126690f4012b4f0cb9e0df19202": {
     "model_module": "@jupyter-widgets/controls",
     "model_module_version": "1.5.0",
     "model_name": "DescriptionStyleModel",
     "state": {
      "_model_module": "@jupyter-widgets/controls",
      "_model_module_version": "1.5.0",
      "_model_name": "DescriptionStyleModel",
      "_view_count": null,
      "_view_module": "@jupyter-widgets/base",
      "_view_module_version": "1.2.0",
      "_view_name": "StyleView",
      "description_width": ""
     }
    },
    "51ecf5d4746e4f53a2fd1ed368b0cb75": {
     "model_module": "@jupyter-widgets/base",
     "model_module_version": "1.2.0",
     "model_name": "LayoutModel",
     "state": {
      "_model_module": "@jupyter-widgets/base",
      "_model_module_version": "1.2.0",
      "_model_name": "LayoutModel",
      "_view_count": null,
      "_view_module": "@jupyter-widgets/base",
      "_view_module_version": "1.2.0",
      "_view_name": "LayoutView",
      "align_content": null,
      "align_items": null,
      "align_self": null,
      "border": null,
      "bottom": null,
      "display": null,
      "flex": null,
      "flex_flow": null,
      "grid_area": null,
      "grid_auto_columns": null,
      "grid_auto_flow": null,
      "grid_auto_rows": null,
      "grid_column": null,
      "grid_gap": null,
      "grid_row": null,
      "grid_template_areas": null,
      "grid_template_columns": null,
      "grid_template_rows": null,
      "height": null,
      "justify_content": null,
      "justify_items": null,
      "left": null,
      "margin": null,
      "max_height": null,
      "max_width": null,
      "min_height": null,
      "min_width": null,
      "object_fit": null,
      "object_position": null,
      "order": null,
      "overflow": null,
      "overflow_x": null,
      "overflow_y": null,
      "padding": null,
      "right": null,
      "top": null,
      "visibility": null,
      "width": null
     }
    },
    "52ef73832af1482faf3a3377752b7215": {
     "model_module": "@jupyter-widgets/base",
     "model_module_version": "1.2.0",
     "model_name": "LayoutModel",
     "state": {
      "_model_module": "@jupyter-widgets/base",
      "_model_module_version": "1.2.0",
      "_model_name": "LayoutModel",
      "_view_count": null,
      "_view_module": "@jupyter-widgets/base",
      "_view_module_version": "1.2.0",
      "_view_name": "LayoutView",
      "align_content": null,
      "align_items": null,
      "align_self": null,
      "border": null,
      "bottom": null,
      "display": null,
      "flex": null,
      "flex_flow": null,
      "grid_area": null,
      "grid_auto_columns": null,
      "grid_auto_flow": null,
      "grid_auto_rows": null,
      "grid_column": null,
      "grid_gap": null,
      "grid_row": null,
      "grid_template_areas": null,
      "grid_template_columns": null,
      "grid_template_rows": null,
      "height": null,
      "justify_content": null,
      "justify_items": null,
      "left": null,
      "margin": null,
      "max_height": null,
      "max_width": null,
      "min_height": null,
      "min_width": null,
      "object_fit": null,
      "object_position": null,
      "order": null,
      "overflow": null,
      "overflow_x": null,
      "overflow_y": null,
      "padding": null,
      "right": null,
      "top": null,
      "visibility": null,
      "width": null
     }
    },
    "55a45435f4b54402badb94dfc268889b": {
     "model_module": "@jupyter-widgets/base",
     "model_module_version": "1.2.0",
     "model_name": "LayoutModel",
     "state": {
      "_model_module": "@jupyter-widgets/base",
      "_model_module_version": "1.2.0",
      "_model_name": "LayoutModel",
      "_view_count": null,
      "_view_module": "@jupyter-widgets/base",
      "_view_module_version": "1.2.0",
      "_view_name": "LayoutView",
      "align_content": null,
      "align_items": null,
      "align_self": null,
      "border": null,
      "bottom": null,
      "display": null,
      "flex": null,
      "flex_flow": null,
      "grid_area": null,
      "grid_auto_columns": null,
      "grid_auto_flow": null,
      "grid_auto_rows": null,
      "grid_column": null,
      "grid_gap": null,
      "grid_row": null,
      "grid_template_areas": null,
      "grid_template_columns": null,
      "grid_template_rows": null,
      "height": null,
      "justify_content": null,
      "justify_items": null,
      "left": null,
      "margin": null,
      "max_height": null,
      "max_width": null,
      "min_height": null,
      "min_width": null,
      "object_fit": null,
      "object_position": null,
      "order": null,
      "overflow": null,
      "overflow_x": null,
      "overflow_y": null,
      "padding": null,
      "right": null,
      "top": null,
      "visibility": null,
      "width": null
     }
    },
    "5866f571a1fa460fae704d100ecebb35": {
     "model_module": "@jupyter-widgets/controls",
     "model_module_version": "1.5.0",
     "model_name": "HTMLModel",
     "state": {
      "_dom_classes": [],
      "_model_module": "@jupyter-widgets/controls",
      "_model_module_version": "1.5.0",
      "_model_name": "HTMLModel",
      "_view_count": null,
      "_view_module": "@jupyter-widgets/controls",
      "_view_module_version": "1.5.0",
      "_view_name": "HTMLView",
      "description": "",
      "description_tooltip": null,
      "layout": "IPY_MODEL_e96791ed54c644f0802714dad8a6322f",
      "placeholder": "​",
      "style": "IPY_MODEL_cb42ec78624d4b2e818f823f000d27e0",
      "value": "Downloading: 100%"
     }
    },
    "592951e6bee845a599762197ae71b5c6": {
     "model_module": "@jupyter-widgets/controls",
     "model_module_version": "1.5.0",
     "model_name": "HTMLModel",
     "state": {
      "_dom_classes": [],
      "_model_module": "@jupyter-widgets/controls",
      "_model_module_version": "1.5.0",
      "_model_name": "HTMLModel",
      "_view_count": null,
      "_view_module": "@jupyter-widgets/controls",
      "_view_module_version": "1.5.0",
      "_view_name": "HTMLView",
      "description": "",
      "description_tooltip": null,
      "layout": "IPY_MODEL_426c72ea95094efebba1b46935737b07",
      "placeholder": "​",
      "style": "IPY_MODEL_51dc8126690f4012b4f0cb9e0df19202",
      "value": "Downloading: 100%"
     }
    },
    "5bd1d89e4a104f478533193fd79664b8": {
     "model_module": "@jupyter-widgets/base",
     "model_module_version": "1.2.0",
     "model_name": "LayoutModel",
     "state": {
      "_model_module": "@jupyter-widgets/base",
      "_model_module_version": "1.2.0",
      "_model_name": "LayoutModel",
      "_view_count": null,
      "_view_module": "@jupyter-widgets/base",
      "_view_module_version": "1.2.0",
      "_view_name": "LayoutView",
      "align_content": null,
      "align_items": null,
      "align_self": null,
      "border": null,
      "bottom": null,
      "display": null,
      "flex": null,
      "flex_flow": null,
      "grid_area": null,
      "grid_auto_columns": null,
      "grid_auto_flow": null,
      "grid_auto_rows": null,
      "grid_column": null,
      "grid_gap": null,
      "grid_row": null,
      "grid_template_areas": null,
      "grid_template_columns": null,
      "grid_template_rows": null,
      "height": null,
      "justify_content": null,
      "justify_items": null,
      "left": null,
      "margin": null,
      "max_height": null,
      "max_width": null,
      "min_height": null,
      "min_width": null,
      "object_fit": null,
      "object_position": null,
      "order": null,
      "overflow": null,
      "overflow_x": null,
      "overflow_y": null,
      "padding": null,
      "right": null,
      "top": null,
      "visibility": null,
      "width": null
     }
    },
    "5e28f5a3d29244ef996a2f170e2768e5": {
     "model_module": "@jupyter-widgets/base",
     "model_module_version": "1.2.0",
     "model_name": "LayoutModel",
     "state": {
      "_model_module": "@jupyter-widgets/base",
      "_model_module_version": "1.2.0",
      "_model_name": "LayoutModel",
      "_view_count": null,
      "_view_module": "@jupyter-widgets/base",
      "_view_module_version": "1.2.0",
      "_view_name": "LayoutView",
      "align_content": null,
      "align_items": null,
      "align_self": null,
      "border": null,
      "bottom": null,
      "display": null,
      "flex": null,
      "flex_flow": null,
      "grid_area": null,
      "grid_auto_columns": null,
      "grid_auto_flow": null,
      "grid_auto_rows": null,
      "grid_column": null,
      "grid_gap": null,
      "grid_row": null,
      "grid_template_areas": null,
      "grid_template_columns": null,
      "grid_template_rows": null,
      "height": null,
      "justify_content": null,
      "justify_items": null,
      "left": null,
      "margin": null,
      "max_height": null,
      "max_width": null,
      "min_height": null,
      "min_width": null,
      "object_fit": null,
      "object_position": null,
      "order": null,
      "overflow": null,
      "overflow_x": null,
      "overflow_y": null,
      "padding": null,
      "right": null,
      "top": null,
      "visibility": null,
      "width": null
     }
    },
    "60847f5e5b0f4be29d3bb5056732c410": {
     "model_module": "@jupyter-widgets/base",
     "model_module_version": "1.2.0",
     "model_name": "LayoutModel",
     "state": {
      "_model_module": "@jupyter-widgets/base",
      "_model_module_version": "1.2.0",
      "_model_name": "LayoutModel",
      "_view_count": null,
      "_view_module": "@jupyter-widgets/base",
      "_view_module_version": "1.2.0",
      "_view_name": "LayoutView",
      "align_content": null,
      "align_items": null,
      "align_self": null,
      "border": null,
      "bottom": null,
      "display": null,
      "flex": null,
      "flex_flow": null,
      "grid_area": null,
      "grid_auto_columns": null,
      "grid_auto_flow": null,
      "grid_auto_rows": null,
      "grid_column": null,
      "grid_gap": null,
      "grid_row": null,
      "grid_template_areas": null,
      "grid_template_columns": null,
      "grid_template_rows": null,
      "height": null,
      "justify_content": null,
      "justify_items": null,
      "left": null,
      "margin": null,
      "max_height": null,
      "max_width": null,
      "min_height": null,
      "min_width": null,
      "object_fit": null,
      "object_position": null,
      "order": null,
      "overflow": null,
      "overflow_x": null,
      "overflow_y": null,
      "padding": null,
      "right": null,
      "top": null,
      "visibility": null,
      "width": null
     }
    },
    "64c35792ab214b22b689d8c852d87f76": {
     "model_module": "@jupyter-widgets/controls",
     "model_module_version": "1.5.0",
     "model_name": "FloatProgressModel",
     "state": {
      "_dom_classes": [],
      "_model_module": "@jupyter-widgets/controls",
      "_model_module_version": "1.5.0",
      "_model_name": "FloatProgressModel",
      "_view_count": null,
      "_view_module": "@jupyter-widgets/controls",
      "_view_module_version": "1.5.0",
      "_view_name": "ProgressView",
      "bar_style": "success",
      "description": "",
      "description_tooltip": null,
      "layout": "IPY_MODEL_8a8ddf724fd74afe84ff44a6dd677369",
      "max": 898669,
      "min": 0,
      "orientation": "horizontal",
      "style": "IPY_MODEL_0a8593fcf86c4425a7ab72163b334ecb",
      "value": 898669
     }
    },
    "669eb38745674272a58b915ce5cb2e70": {
     "model_module": "@jupyter-widgets/base",
     "model_module_version": "1.2.0",
     "model_name": "LayoutModel",
     "state": {
      "_model_module": "@jupyter-widgets/base",
      "_model_module_version": "1.2.0",
      "_model_name": "LayoutModel",
      "_view_count": null,
      "_view_module": "@jupyter-widgets/base",
      "_view_module_version": "1.2.0",
      "_view_name": "LayoutView",
      "align_content": null,
      "align_items": null,
      "align_self": null,
      "border": null,
      "bottom": null,
      "display": null,
      "flex": null,
      "flex_flow": null,
      "grid_area": null,
      "grid_auto_columns": null,
      "grid_auto_flow": null,
      "grid_auto_rows": null,
      "grid_column": null,
      "grid_gap": null,
      "grid_row": null,
      "grid_template_areas": null,
      "grid_template_columns": null,
      "grid_template_rows": null,
      "height": null,
      "justify_content": null,
      "justify_items": null,
      "left": null,
      "margin": null,
      "max_height": null,
      "max_width": null,
      "min_height": null,
      "min_width": null,
      "object_fit": null,
      "object_position": null,
      "order": null,
      "overflow": null,
      "overflow_x": null,
      "overflow_y": null,
      "padding": null,
      "right": null,
      "top": null,
      "visibility": null,
      "width": null
     }
    },
    "6712733036ba46cb8c6b818e3c3b87e9": {
     "model_module": "@jupyter-widgets/controls",
     "model_module_version": "1.5.0",
     "model_name": "FloatProgressModel",
     "state": {
      "_dom_classes": [],
      "_model_module": "@jupyter-widgets/controls",
      "_model_module_version": "1.5.0",
      "_model_name": "FloatProgressModel",
      "_view_count": null,
      "_view_module": "@jupyter-widgets/controls",
      "_view_module_version": "1.5.0",
      "_view_name": "ProgressView",
      "bar_style": "success",
      "description": "",
      "description_tooltip": null,
      "layout": "IPY_MODEL_27506e45d86640ce840844673c1ab16d",
      "max": 456318,
      "min": 0,
      "orientation": "horizontal",
      "style": "IPY_MODEL_cba1c86b4bf844a99f956aa6a959ce70",
      "value": 456318
     }
    },
    "6755c6199b714d8384fb6a281d3ac0c3": {
     "model_module": "@jupyter-widgets/base",
     "model_module_version": "1.2.0",
     "model_name": "LayoutModel",
     "state": {
      "_model_module": "@jupyter-widgets/base",
      "_model_module_version": "1.2.0",
      "_model_name": "LayoutModel",
      "_view_count": null,
      "_view_module": "@jupyter-widgets/base",
      "_view_module_version": "1.2.0",
      "_view_name": "LayoutView",
      "align_content": null,
      "align_items": null,
      "align_self": null,
      "border": null,
      "bottom": null,
      "display": null,
      "flex": null,
      "flex_flow": null,
      "grid_area": null,
      "grid_auto_columns": null,
      "grid_auto_flow": null,
      "grid_auto_rows": null,
      "grid_column": null,
      "grid_gap": null,
      "grid_row": null,
      "grid_template_areas": null,
      "grid_template_columns": null,
      "grid_template_rows": null,
      "height": null,
      "justify_content": null,
      "justify_items": null,
      "left": null,
      "margin": null,
      "max_height": null,
      "max_width": null,
      "min_height": null,
      "min_width": null,
      "object_fit": null,
      "object_position": null,
      "order": null,
      "overflow": null,
      "overflow_x": null,
      "overflow_y": null,
      "padding": null,
      "right": null,
      "top": null,
      "visibility": null,
      "width": null
     }
    },
    "6a4dacc1bab44b2880b2a4bdc211b25e": {
     "model_module": "@jupyter-widgets/controls",
     "model_module_version": "1.5.0",
     "model_name": "HBoxModel",
     "state": {
      "_dom_classes": [],
      "_model_module": "@jupyter-widgets/controls",
      "_model_module_version": "1.5.0",
      "_model_name": "HBoxModel",
      "_view_count": null,
      "_view_module": "@jupyter-widgets/controls",
      "_view_module_version": "1.5.0",
      "_view_name": "HBoxView",
      "box_style": "",
      "children": [
       "IPY_MODEL_592951e6bee845a599762197ae71b5c6",
       "IPY_MODEL_fd179c2dfc0e429e8a89b3e36f4b3eb8",
       "IPY_MODEL_e475d7b946c646c09831421cbd7cbf33"
      ],
      "layout": "IPY_MODEL_afc63edc8a714df2a5d14d12762d92b6"
     }
    },
    "6c90a3e158734cc582b4877c6884f4a8": {
     "model_module": "@jupyter-widgets/base",
     "model_module_version": "1.2.0",
     "model_name": "LayoutModel",
     "state": {
      "_model_module": "@jupyter-widgets/base",
      "_model_module_version": "1.2.0",
      "_model_name": "LayoutModel",
      "_view_count": null,
      "_view_module": "@jupyter-widgets/base",
      "_view_module_version": "1.2.0",
      "_view_name": "LayoutView",
      "align_content": null,
      "align_items": null,
      "align_self": null,
      "border": null,
      "bottom": null,
      "display": null,
      "flex": null,
      "flex_flow": null,
      "grid_area": null,
      "grid_auto_columns": null,
      "grid_auto_flow": null,
      "grid_auto_rows": null,
      "grid_column": null,
      "grid_gap": null,
      "grid_row": null,
      "grid_template_areas": null,
      "grid_template_columns": null,
      "grid_template_rows": null,
      "height": null,
      "justify_content": null,
      "justify_items": null,
      "left": null,
      "margin": null,
      "max_height": null,
      "max_width": null,
      "min_height": null,
      "min_width": null,
      "object_fit": null,
      "object_position": null,
      "order": null,
      "overflow": null,
      "overflow_x": null,
      "overflow_y": null,
      "padding": null,
      "right": null,
      "top": null,
      "visibility": null,
      "width": null
     }
    },
    "6eb6034f345b470cb2a8a25df209f557": {
     "model_module": "@jupyter-widgets/controls",
     "model_module_version": "1.5.0",
     "model_name": "HTMLModel",
     "state": {
      "_dom_classes": [],
      "_model_module": "@jupyter-widgets/controls",
      "_model_module_version": "1.5.0",
      "_model_name": "HTMLModel",
      "_view_count": null,
      "_view_module": "@jupyter-widgets/controls",
      "_view_module_version": "1.5.0",
      "_view_name": "HTMLView",
      "description": "",
      "description_tooltip": null,
      "layout": "IPY_MODEL_6c90a3e158734cc582b4877c6884f4a8",
      "placeholder": "​",
      "style": "IPY_MODEL_9cd221d469d349ee82853037c1b2ac76",
      "value": "Downloading: 100%"
     }
    },
    "71c7966a3d7c49b4b29b755d84c9797c": {
     "model_module": "@jupyter-widgets/base",
     "model_module_version": "1.2.0",
     "model_name": "LayoutModel",
     "state": {
      "_model_module": "@jupyter-widgets/base",
      "_model_module_version": "1.2.0",
      "_model_name": "LayoutModel",
      "_view_count": null,
      "_view_module": "@jupyter-widgets/base",
      "_view_module_version": "1.2.0",
      "_view_name": "LayoutView",
      "align_content": null,
      "align_items": null,
      "align_self": null,
      "border": null,
      "bottom": null,
      "display": null,
      "flex": null,
      "flex_flow": null,
      "grid_area": null,
      "grid_auto_columns": null,
      "grid_auto_flow": null,
      "grid_auto_rows": null,
      "grid_column": null,
      "grid_gap": null,
      "grid_row": null,
      "grid_template_areas": null,
      "grid_template_columns": null,
      "grid_template_rows": null,
      "height": null,
      "justify_content": null,
      "justify_items": null,
      "left": null,
      "margin": null,
      "max_height": null,
      "max_width": null,
      "min_height": null,
      "min_width": null,
      "object_fit": null,
      "object_position": null,
      "order": null,
      "overflow": null,
      "overflow_x": null,
      "overflow_y": null,
      "padding": null,
      "right": null,
      "top": null,
      "visibility": null,
      "width": null
     }
    },
    "743f062246994af5b8dfdc60b4b3066b": {
     "model_module": "@jupyter-widgets/controls",
     "model_module_version": "1.5.0",
     "model_name": "HTMLModel",
     "state": {
      "_dom_classes": [],
      "_model_module": "@jupyter-widgets/controls",
      "_model_module_version": "1.5.0",
      "_model_name": "HTMLModel",
      "_view_count": null,
      "_view_module": "@jupyter-widgets/controls",
      "_view_module_version": "1.5.0",
      "_view_name": "HTMLView",
      "description": "",
      "description_tooltip": null,
      "layout": "IPY_MODEL_60847f5e5b0f4be29d3bb5056732c410",
      "placeholder": "​",
      "style": "IPY_MODEL_03da52f66ea64663a928102c81741a51",
      "value": " 3.02G/3.02G [01:34&lt;00:00, 32.8MB/s]"
     }
    },
    "7507a8af425b47deb16d965d67b3e0fc": {
     "model_module": "@jupyter-widgets/controls",
     "model_module_version": "1.5.0",
     "model_name": "HTMLModel",
     "state": {
      "_dom_classes": [],
      "_model_module": "@jupyter-widgets/controls",
      "_model_module_version": "1.5.0",
      "_model_name": "HTMLModel",
      "_view_count": null,
      "_view_module": "@jupyter-widgets/controls",
      "_view_module_version": "1.5.0",
      "_view_name": "HTMLView",
      "description": "",
      "description_tooltip": null,
      "layout": "IPY_MODEL_411144c9385a4fd6913c14cb5659a1e2",
      "placeholder": "​",
      "style": "IPY_MODEL_ede25f035a2a43488e1f6b36c8e2303d",
      "value": " 878k/878k [00:00&lt;00:00, 2.70MB/s]"
     }
    },
    "7917cf6a4f644317973fa08459605d9e": {
     "model_module": "@jupyter-widgets/base",
     "model_module_version": "1.2.0",
     "model_name": "LayoutModel",
     "state": {
      "_model_module": "@jupyter-widgets/base",
      "_model_module_version": "1.2.0",
      "_model_name": "LayoutModel",
      "_view_count": null,
      "_view_module": "@jupyter-widgets/base",
      "_view_module_version": "1.2.0",
      "_view_name": "LayoutView",
      "align_content": null,
      "align_items": null,
      "align_self": null,
      "border": null,
      "bottom": null,
      "display": null,
      "flex": null,
      "flex_flow": null,
      "grid_area": null,
      "grid_auto_columns": null,
      "grid_auto_flow": null,
      "grid_auto_rows": null,
      "grid_column": null,
      "grid_gap": null,
      "grid_row": null,
      "grid_template_areas": null,
      "grid_template_columns": null,
      "grid_template_rows": null,
      "height": null,
      "justify_content": null,
      "justify_items": null,
      "left": null,
      "margin": null,
      "max_height": null,
      "max_width": null,
      "min_height": null,
      "min_width": null,
      "object_fit": null,
      "object_position": null,
      "order": null,
      "overflow": null,
      "overflow_x": null,
      "overflow_y": null,
      "padding": null,
      "right": null,
      "top": null,
      "visibility": null,
      "width": null
     }
    },
    "79624e13f06249f799bf880865b79a50": {
     "model_module": "@jupyter-widgets/controls",
     "model_module_version": "1.5.0",
     "model_name": "DescriptionStyleModel",
     "state": {
      "_model_module": "@jupyter-widgets/controls",
      "_model_module_version": "1.5.0",
      "_model_name": "DescriptionStyleModel",
      "_view_count": null,
      "_view_module": "@jupyter-widgets/base",
      "_view_module_version": "1.2.0",
      "_view_name": "StyleView",
      "description_width": ""
     }
    },
    "87311568965a4280a19d19a29f8c5d80": {
     "model_module": "@jupyter-widgets/controls",
     "model_module_version": "1.5.0",
     "model_name": "HTMLModel",
     "state": {
      "_dom_classes": [],
      "_model_module": "@jupyter-widgets/controls",
      "_model_module_version": "1.5.0",
      "_model_name": "HTMLModel",
      "_view_count": null,
      "_view_module": "@jupyter-widgets/controls",
      "_view_module_version": "1.5.0",
      "_view_name": "HTMLView",
      "description": "",
      "description_tooltip": null,
      "layout": "IPY_MODEL_377205b8e2514deea922f8ad3c15814a",
      "placeholder": "​",
      "style": "IPY_MODEL_0056026cf9ea43c5805caac248151b1f",
      "value": "Downloading: 100%"
     }
    },
    "878cfc41806e44219b260ab8b27a5162": {
     "model_module": "@jupyter-widgets/controls",
     "model_module_version": "1.5.0",
     "model_name": "HBoxModel",
     "state": {
      "_dom_classes": [],
      "_model_module": "@jupyter-widgets/controls",
      "_model_module_version": "1.5.0",
      "_model_name": "HBoxModel",
      "_view_count": null,
      "_view_module": "@jupyter-widgets/controls",
      "_view_module_version": "1.5.0",
      "_view_name": "HBoxView",
      "box_style": "",
      "children": [
       "IPY_MODEL_e31e1335e9dd4782bd2fb9a17177334e",
       "IPY_MODEL_f9938e25d11447c09e6319602a00e65d",
       "IPY_MODEL_a62330c4f8b643e1b53ac8edcc6bf51d"
      ],
      "layout": "IPY_MODEL_0dd3415c588f413b92513e6764608365"
     }
    },
    "8a8ddf724fd74afe84ff44a6dd677369": {
     "model_module": "@jupyter-widgets/base",
     "model_module_version": "1.2.0",
     "model_name": "LayoutModel",
     "state": {
      "_model_module": "@jupyter-widgets/base",
      "_model_module_version": "1.2.0",
      "_model_name": "LayoutModel",
      "_view_count": null,
      "_view_module": "@jupyter-widgets/base",
      "_view_module_version": "1.2.0",
      "_view_name": "LayoutView",
      "align_content": null,
      "align_items": null,
      "align_self": null,
      "border": null,
      "bottom": null,
      "display": null,
      "flex": null,
      "flex_flow": null,
      "grid_area": null,
      "grid_auto_columns": null,
      "grid_auto_flow": null,
      "grid_auto_rows": null,
      "grid_column": null,
      "grid_gap": null,
      "grid_row": null,
      "grid_template_areas": null,
      "grid_template_columns": null,
      "grid_template_rows": null,
      "height": null,
      "justify_content": null,
      "justify_items": null,
      "left": null,
      "margin": null,
      "max_height": null,
      "max_width": null,
      "min_height": null,
      "min_width": null,
      "object_fit": null,
      "object_position": null,
      "order": null,
      "overflow": null,
      "overflow_x": null,
      "overflow_y": null,
      "padding": null,
      "right": null,
      "top": null,
      "visibility": null,
      "width": null
     }
    },
    "8cbcfd33acb044cfabc80f94d8649163": {
     "model_module": "@jupyter-widgets/base",
     "model_module_version": "1.2.0",
     "model_name": "LayoutModel",
     "state": {
      "_model_module": "@jupyter-widgets/base",
      "_model_module_version": "1.2.0",
      "_model_name": "LayoutModel",
      "_view_count": null,
      "_view_module": "@jupyter-widgets/base",
      "_view_module_version": "1.2.0",
      "_view_name": "LayoutView",
      "align_content": null,
      "align_items": null,
      "align_self": null,
      "border": null,
      "bottom": null,
      "display": null,
      "flex": null,
      "flex_flow": null,
      "grid_area": null,
      "grid_auto_columns": null,
      "grid_auto_flow": null,
      "grid_auto_rows": null,
      "grid_column": null,
      "grid_gap": null,
      "grid_row": null,
      "grid_template_areas": null,
      "grid_template_columns": null,
      "grid_template_rows": null,
      "height": null,
      "justify_content": null,
      "justify_items": null,
      "left": null,
      "margin": null,
      "max_height": null,
      "max_width": null,
      "min_height": null,
      "min_width": null,
      "object_fit": null,
      "object_position": null,
      "order": null,
      "overflow": null,
      "overflow_x": null,
      "overflow_y": null,
      "padding": null,
      "right": null,
      "top": null,
      "visibility": null,
      "width": null
     }
    },
    "8d6f41be3c6a45b1bffcf8e718389736": {
     "model_module": "@jupyter-widgets/controls",
     "model_module_version": "1.5.0",
     "model_name": "FloatProgressModel",
     "state": {
      "_dom_classes": [],
      "_model_module": "@jupyter-widgets/controls",
      "_model_module_version": "1.5.0",
      "_model_name": "FloatProgressModel",
      "_view_count": null,
      "_view_module": "@jupyter-widgets/controls",
      "_view_module_version": "1.5.0",
      "_view_name": "ProgressView",
      "bar_style": "success",
      "description": "",
      "description_tooltip": null,
      "layout": "IPY_MODEL_4560bd3de4c741feaee642f8bd595253",
      "max": 456318,
      "min": 0,
      "orientation": "horizontal",
      "style": "IPY_MODEL_a67cfe45cd5f43deabfb8d570e09e74a",
      "value": 456318
     }
    },
    "915b3329fa4a43eea936b43b902f1a81": {
     "model_module": "@jupyter-widgets/controls",
     "model_module_version": "1.5.0",
     "model_name": "FloatProgressModel",
     "state": {
      "_dom_classes": [],
      "_model_module": "@jupyter-widgets/controls",
      "_model_module_version": "1.5.0",
      "_model_name": "FloatProgressModel",
      "_view_count": null,
      "_view_module": "@jupyter-widgets/controls",
      "_view_module_version": "1.5.0",
      "_view_name": "ProgressView",
      "bar_style": "success",
      "description": "",
      "description_tooltip": null,
      "layout": "IPY_MODEL_fc72d9ef425c4f05b536e545cb1950fe",
      "max": 908,
      "min": 0,
      "orientation": "horizontal",
      "style": "IPY_MODEL_32c886bc0a8d439b9cd0813c8671f5f2",
      "value": 908
     }
    },
    "9193a96710ac40f2a10b379c5d6781f8": {
     "model_module": "@jupyter-widgets/base",
     "model_module_version": "1.2.0",
     "model_name": "LayoutModel",
     "state": {
      "_model_module": "@jupyter-widgets/base",
      "_model_module_version": "1.2.0",
      "_model_name": "LayoutModel",
      "_view_count": null,
      "_view_module": "@jupyter-widgets/base",
      "_view_module_version": "1.2.0",
      "_view_name": "LayoutView",
      "align_content": null,
      "align_items": null,
      "align_self": null,
      "border": null,
      "bottom": null,
      "display": null,
      "flex": null,
      "flex_flow": null,
      "grid_area": null,
      "grid_auto_columns": null,
      "grid_auto_flow": null,
      "grid_auto_rows": null,
      "grid_column": null,
      "grid_gap": null,
      "grid_row": null,
      "grid_template_areas": null,
      "grid_template_columns": null,
      "grid_template_rows": null,
      "height": null,
      "justify_content": null,
      "justify_items": null,
      "left": null,
      "margin": null,
      "max_height": null,
      "max_width": null,
      "min_height": null,
      "min_width": null,
      "object_fit": null,
      "object_position": null,
      "order": null,
      "overflow": null,
      "overflow_x": null,
      "overflow_y": null,
      "padding": null,
      "right": null,
      "top": null,
      "visibility": null,
      "width": null
     }
    },
    "91b58c65eed042168f044ad49f2bdb39": {
     "model_module": "@jupyter-widgets/controls",
     "model_module_version": "1.5.0",
     "model_name": "HTMLModel",
     "state": {
      "_dom_classes": [],
      "_model_module": "@jupyter-widgets/controls",
      "_model_module_version": "1.5.0",
      "_model_name": "HTMLModel",
      "_view_count": null,
      "_view_module": "@jupyter-widgets/controls",
      "_view_module_version": "1.5.0",
      "_view_name": "HTMLView",
      "description": "",
      "description_tooltip": null,
      "layout": "IPY_MODEL_55a45435f4b54402badb94dfc268889b",
      "placeholder": "​",
      "style": "IPY_MODEL_adb2eb5c7a1e48c394d366e227cb2d15",
      "value": "Downloading: 100%"
     }
    },
    "969524c69bbf4a688cae2397da9b5000": {
     "model_module": "@jupyter-widgets/base",
     "model_module_version": "1.2.0",
     "model_name": "LayoutModel",
     "state": {
      "_model_module": "@jupyter-widgets/base",
      "_model_module_version": "1.2.0",
      "_model_name": "LayoutModel",
      "_view_count": null,
      "_view_module": "@jupyter-widgets/base",
      "_view_module_version": "1.2.0",
      "_view_name": "LayoutView",
      "align_content": null,
      "align_items": null,
      "align_self": null,
      "border": null,
      "bottom": null,
      "display": null,
      "flex": null,
      "flex_flow": null,
      "grid_area": null,
      "grid_auto_columns": null,
      "grid_auto_flow": null,
      "grid_auto_rows": null,
      "grid_column": null,
      "grid_gap": null,
      "grid_row": null,
      "grid_template_areas": null,
      "grid_template_columns": null,
      "grid_template_rows": null,
      "height": null,
      "justify_content": null,
      "justify_items": null,
      "left": null,
      "margin": null,
      "max_height": null,
      "max_width": null,
      "min_height": null,
      "min_width": null,
      "object_fit": null,
      "object_position": null,
      "order": null,
      "overflow": null,
      "overflow_x": null,
      "overflow_y": null,
      "padding": null,
      "right": null,
      "top": null,
      "visibility": null,
      "width": null
     }
    },
    "96af54e5aeba41ab8dddd07ecdb6124e": {
     "model_module": "@jupyter-widgets/base",
     "model_module_version": "1.2.0",
     "model_name": "LayoutModel",
     "state": {
      "_model_module": "@jupyter-widgets/base",
      "_model_module_version": "1.2.0",
      "_model_name": "LayoutModel",
      "_view_count": null,
      "_view_module": "@jupyter-widgets/base",
      "_view_module_version": "1.2.0",
      "_view_name": "LayoutView",
      "align_content": null,
      "align_items": null,
      "align_self": null,
      "border": null,
      "bottom": null,
      "display": null,
      "flex": null,
      "flex_flow": null,
      "grid_area": null,
      "grid_auto_columns": null,
      "grid_auto_flow": null,
      "grid_auto_rows": null,
      "grid_column": null,
      "grid_gap": null,
      "grid_row": null,
      "grid_template_areas": null,
      "grid_template_columns": null,
      "grid_template_rows": null,
      "height": null,
      "justify_content": null,
      "justify_items": null,
      "left": null,
      "margin": null,
      "max_height": null,
      "max_width": null,
      "min_height": null,
      "min_width": null,
      "object_fit": null,
      "object_position": null,
      "order": null,
      "overflow": null,
      "overflow_x": null,
      "overflow_y": null,
      "padding": null,
      "right": null,
      "top": null,
      "visibility": null,
      "width": null
     }
    },
    "9929303401bb4f6c9d09f5595ebabf2a": {
     "model_module": "@jupyter-widgets/base",
     "model_module_version": "1.2.0",
     "model_name": "LayoutModel",
     "state": {
      "_model_module": "@jupyter-widgets/base",
      "_model_module_version": "1.2.0",
      "_model_name": "LayoutModel",
      "_view_count": null,
      "_view_module": "@jupyter-widgets/base",
      "_view_module_version": "1.2.0",
      "_view_name": "LayoutView",
      "align_content": null,
      "align_items": null,
      "align_self": null,
      "border": null,
      "bottom": null,
      "display": null,
      "flex": null,
      "flex_flow": null,
      "grid_area": null,
      "grid_auto_columns": null,
      "grid_auto_flow": null,
      "grid_auto_rows": null,
      "grid_column": null,
      "grid_gap": null,
      "grid_row": null,
      "grid_template_areas": null,
      "grid_template_columns": null,
      "grid_template_rows": null,
      "height": null,
      "justify_content": null,
      "justify_items": null,
      "left": null,
      "margin": null,
      "max_height": null,
      "max_width": null,
      "min_height": null,
      "min_width": null,
      "object_fit": null,
      "object_position": null,
      "order": null,
      "overflow": null,
      "overflow_x": null,
      "overflow_y": null,
      "padding": null,
      "right": null,
      "top": null,
      "visibility": null,
      "width": null
     }
    },
    "9ac55c969f5c4d65a34c1fb6c336e1b6": {
     "model_module": "@jupyter-widgets/controls",
     "model_module_version": "1.5.0",
     "model_name": "HTMLModel",
     "state": {
      "_dom_classes": [],
      "_model_module": "@jupyter-widgets/controls",
      "_model_module_version": "1.5.0",
      "_model_name": "HTMLModel",
      "_view_count": null,
      "_view_module": "@jupyter-widgets/controls",
      "_view_module_version": "1.5.0",
      "_view_name": "HTMLView",
      "description": "",
      "description_tooltip": null,
      "layout": "IPY_MODEL_e167535b84894df594bc49fe42769898",
      "placeholder": "​",
      "style": "IPY_MODEL_79624e13f06249f799bf880865b79a50",
      "value": "Downloading: 100%"
     }
    },
    "9c57e898af6a4b8c973f4054f5d6b874": {
     "model_module": "@jupyter-widgets/base",
     "model_module_version": "1.2.0",
     "model_name": "LayoutModel",
     "state": {
      "_model_module": "@jupyter-widgets/base",
      "_model_module_version": "1.2.0",
      "_model_name": "LayoutModel",
      "_view_count": null,
      "_view_module": "@jupyter-widgets/base",
      "_view_module_version": "1.2.0",
      "_view_name": "LayoutView",
      "align_content": null,
      "align_items": null,
      "align_self": null,
      "border": null,
      "bottom": null,
      "display": null,
      "flex": null,
      "flex_flow": null,
      "grid_area": null,
      "grid_auto_columns": null,
      "grid_auto_flow": null,
      "grid_auto_rows": null,
      "grid_column": null,
      "grid_gap": null,
      "grid_row": null,
      "grid_template_areas": null,
      "grid_template_columns": null,
      "grid_template_rows": null,
      "height": null,
      "justify_content": null,
      "justify_items": null,
      "left": null,
      "margin": null,
      "max_height": null,
      "max_width": null,
      "min_height": null,
      "min_width": null,
      "object_fit": null,
      "object_position": null,
      "order": null,
      "overflow": null,
      "overflow_x": null,
      "overflow_y": null,
      "padding": null,
      "right": null,
      "top": null,
      "visibility": null,
      "width": null
     }
    },
    "9cd221d469d349ee82853037c1b2ac76": {
     "model_module": "@jupyter-widgets/controls",
     "model_module_version": "1.5.0",
     "model_name": "DescriptionStyleModel",
     "state": {
      "_model_module": "@jupyter-widgets/controls",
      "_model_module_version": "1.5.0",
      "_model_name": "DescriptionStyleModel",
      "_view_count": null,
      "_view_module": "@jupyter-widgets/base",
      "_view_module_version": "1.2.0",
      "_view_name": "StyleView",
      "description_width": ""
     }
    },
    "a0a4e46283a949d4b5f19494e6f28f72": {
     "model_module": "@jupyter-widgets/base",
     "model_module_version": "1.2.0",
     "model_name": "LayoutModel",
     "state": {
      "_model_module": "@jupyter-widgets/base",
      "_model_module_version": "1.2.0",
      "_model_name": "LayoutModel",
      "_view_count": null,
      "_view_module": "@jupyter-widgets/base",
      "_view_module_version": "1.2.0",
      "_view_name": "LayoutView",
      "align_content": null,
      "align_items": null,
      "align_self": null,
      "border": null,
      "bottom": null,
      "display": null,
      "flex": null,
      "flex_flow": null,
      "grid_area": null,
      "grid_auto_columns": null,
      "grid_auto_flow": null,
      "grid_auto_rows": null,
      "grid_column": null,
      "grid_gap": null,
      "grid_row": null,
      "grid_template_areas": null,
      "grid_template_columns": null,
      "grid_template_rows": null,
      "height": null,
      "justify_content": null,
      "justify_items": null,
      "left": null,
      "margin": null,
      "max_height": null,
      "max_width": null,
      "min_height": null,
      "min_width": null,
      "object_fit": null,
      "object_position": null,
      "order": null,
      "overflow": null,
      "overflow_x": null,
      "overflow_y": null,
      "padding": null,
      "right": null,
      "top": null,
      "visibility": null,
      "width": null
     }
    },
    "a62330c4f8b643e1b53ac8edcc6bf51d": {
     "model_module": "@jupyter-widgets/controls",
     "model_module_version": "1.5.0",
     "model_name": "HTMLModel",
     "state": {
      "_dom_classes": [],
      "_model_module": "@jupyter-widgets/controls",
      "_model_module_version": "1.5.0",
      "_model_name": "HTMLModel",
      "_view_count": null,
      "_view_module": "@jupyter-widgets/controls",
      "_view_module_version": "1.5.0",
      "_view_name": "HTMLView",
      "description": "",
      "description_tooltip": null,
      "layout": "IPY_MODEL_17ec5120c6b04fd6a6fa904d8ae8306b",
      "placeholder": "​",
      "style": "IPY_MODEL_ab647c9ba8894bdcaec8c3c0be19b328",
      "value": " 2.92G/2.92G [01:40&lt;00:00, 17.3MB/s]"
     }
    },
    "a67cfe45cd5f43deabfb8d570e09e74a": {
     "model_module": "@jupyter-widgets/controls",
     "model_module_version": "1.5.0",
     "model_name": "ProgressStyleModel",
     "state": {
      "_model_module": "@jupyter-widgets/controls",
      "_model_module_version": "1.5.0",
      "_model_name": "ProgressStyleModel",
      "_view_count": null,
      "_view_module": "@jupyter-widgets/base",
      "_view_module_version": "1.2.0",
      "_view_name": "StyleView",
      "bar_color": null,
      "description_width": ""
     }
    },
    "a841014336944d3db21449ad82c6d6fd": {
     "model_module": "@jupyter-widgets/controls",
     "model_module_version": "1.5.0",
     "model_name": "FloatProgressModel",
     "state": {
      "_dom_classes": [],
      "_model_module": "@jupyter-widgets/controls",
      "_model_module_version": "1.5.0",
      "_model_name": "FloatProgressModel",
      "_view_count": null,
      "_view_module": "@jupyter-widgets/controls",
      "_view_module_version": "1.5.0",
      "_view_name": "ProgressView",
      "bar_style": "success",
      "description": "",
      "description_tooltip": null,
      "layout": "IPY_MODEL_9929303401bb4f6c9d09f5595ebabf2a",
      "max": 357,
      "min": 0,
      "orientation": "horizontal",
      "style": "IPY_MODEL_e04beeed51a643fbab1fb0d1ccec5f9f",
      "value": 357
     }
    },
    "aa14a1c2337e4108a1ac1cca7ab15dc5": {
     "model_module": "@jupyter-widgets/controls",
     "model_module_version": "1.5.0",
     "model_name": "HBoxModel",
     "state": {
      "_dom_classes": [],
      "_model_module": "@jupyter-widgets/controls",
      "_model_module_version": "1.5.0",
      "_model_name": "HBoxModel",
      "_view_count": null,
      "_view_module": "@jupyter-widgets/controls",
      "_view_module_version": "1.5.0",
      "_view_name": "HBoxView",
      "box_style": "",
      "children": [
       "IPY_MODEL_5866f571a1fa460fae704d100ecebb35",
       "IPY_MODEL_c63cb7955e7147999335f2a1f1a95c63",
       "IPY_MODEL_f9ed745a1f1e4178b6623e48f8769bc0"
      ],
      "layout": "IPY_MODEL_ed25c59bb90e4e15ab664a168e41f289"
     }
    },
    "ab647c9ba8894bdcaec8c3c0be19b328": {
     "model_module": "@jupyter-widgets/controls",
     "model_module_version": "1.5.0",
     "model_name": "DescriptionStyleModel",
     "state": {
      "_model_module": "@jupyter-widgets/controls",
      "_model_module_version": "1.5.0",
      "_model_name": "DescriptionStyleModel",
      "_view_count": null,
      "_view_module": "@jupyter-widgets/base",
      "_view_module_version": "1.2.0",
      "_view_name": "StyleView",
      "description_width": ""
     }
    },
    "adb2eb5c7a1e48c394d366e227cb2d15": {
     "model_module": "@jupyter-widgets/controls",
     "model_module_version": "1.5.0",
     "model_name": "DescriptionStyleModel",
     "state": {
      "_model_module": "@jupyter-widgets/controls",
      "_model_module_version": "1.5.0",
      "_model_name": "DescriptionStyleModel",
      "_view_count": null,
      "_view_module": "@jupyter-widgets/base",
      "_view_module_version": "1.2.0",
      "_view_name": "StyleView",
      "description_width": ""
     }
    },
    "adb6c35270154ac4ac7999e6334999f8": {
     "model_module": "@jupyter-widgets/controls",
     "model_module_version": "1.5.0",
     "model_name": "HBoxModel",
     "state": {
      "_dom_classes": [],
      "_model_module": "@jupyter-widgets/controls",
      "_model_module_version": "1.5.0",
      "_model_name": "HBoxModel",
      "_view_count": null,
      "_view_module": "@jupyter-widgets/controls",
      "_view_module_version": "1.5.0",
      "_view_name": "HBoxView",
      "box_style": "",
      "children": [
       "IPY_MODEL_91b58c65eed042168f044ad49f2bdb39",
       "IPY_MODEL_915b3329fa4a43eea936b43b902f1a81",
       "IPY_MODEL_253ff59ad0b74bd78528943f75c95218"
      ],
      "layout": "IPY_MODEL_9193a96710ac40f2a10b379c5d6781f8"
     }
    },
    "afc63edc8a714df2a5d14d12762d92b6": {
     "model_module": "@jupyter-widgets/base",
     "model_module_version": "1.2.0",
     "model_name": "LayoutModel",
     "state": {
      "_model_module": "@jupyter-widgets/base",
      "_model_module_version": "1.2.0",
      "_model_name": "LayoutModel",
      "_view_count": null,
      "_view_module": "@jupyter-widgets/base",
      "_view_module_version": "1.2.0",
      "_view_name": "LayoutView",
      "align_content": null,
      "align_items": null,
      "align_self": null,
      "border": null,
      "bottom": null,
      "display": null,
      "flex": null,
      "flex_flow": null,
      "grid_area": null,
      "grid_auto_columns": null,
      "grid_auto_flow": null,
      "grid_auto_rows": null,
      "grid_column": null,
      "grid_gap": null,
      "grid_row": null,
      "grid_template_areas": null,
      "grid_template_columns": null,
      "grid_template_rows": null,
      "height": null,
      "justify_content": null,
      "justify_items": null,
      "left": null,
      "margin": null,
      "max_height": null,
      "max_width": null,
      "min_height": null,
      "min_width": null,
      "object_fit": null,
      "object_position": null,
      "order": null,
      "overflow": null,
      "overflow_x": null,
      "overflow_y": null,
      "padding": null,
      "right": null,
      "top": null,
      "visibility": null,
      "width": null
     }
    },
    "b7b1314c2f924b0dbdd7bb82543d9c02": {
     "model_module": "@jupyter-widgets/controls",
     "model_module_version": "1.5.0",
     "model_name": "HBoxModel",
     "state": {
      "_dom_classes": [],
      "_model_module": "@jupyter-widgets/controls",
      "_model_module_version": "1.5.0",
      "_model_name": "HBoxModel",
      "_view_count": null,
      "_view_module": "@jupyter-widgets/controls",
      "_view_module_version": "1.5.0",
      "_view_name": "HBoxView",
      "box_style": "",
      "children": [
       "IPY_MODEL_4a18db6180ca4a5daee06ce64efbf550",
       "IPY_MODEL_6712733036ba46cb8c6b818e3c3b87e9",
       "IPY_MODEL_373a926f495d426dafdbfbef31867b72"
      ],
      "layout": "IPY_MODEL_d76936d954864f4a8887a4e2679b13bd"
     }
    },
    "ba0132e4f92d4f83a89f3e995d819f50": {
     "model_module": "@jupyter-widgets/base",
     "model_module_version": "1.2.0",
     "model_name": "LayoutModel",
     "state": {
      "_model_module": "@jupyter-widgets/base",
      "_model_module_version": "1.2.0",
      "_model_name": "LayoutModel",
      "_view_count": null,
      "_view_module": "@jupyter-widgets/base",
      "_view_module_version": "1.2.0",
      "_view_name": "LayoutView",
      "align_content": null,
      "align_items": null,
      "align_self": null,
      "border": null,
      "bottom": null,
      "display": null,
      "flex": null,
      "flex_flow": null,
      "grid_area": null,
      "grid_auto_columns": null,
      "grid_auto_flow": null,
      "grid_auto_rows": null,
      "grid_column": null,
      "grid_gap": null,
      "grid_row": null,
      "grid_template_areas": null,
      "grid_template_columns": null,
      "grid_template_rows": null,
      "height": null,
      "justify_content": null,
      "justify_items": null,
      "left": null,
      "margin": null,
      "max_height": null,
      "max_width": null,
      "min_height": null,
      "min_width": null,
      "object_fit": null,
      "object_position": null,
      "order": null,
      "overflow": null,
      "overflow_x": null,
      "overflow_y": null,
      "padding": null,
      "right": null,
      "top": null,
      "visibility": null,
      "width": null
     }
    },
    "bc949ebd834a47f580b5b1ddd774f1da": {
     "model_module": "@jupyter-widgets/base",
     "model_module_version": "1.2.0",
     "model_name": "LayoutModel",
     "state": {
      "_model_module": "@jupyter-widgets/base",
      "_model_module_version": "1.2.0",
      "_model_name": "LayoutModel",
      "_view_count": null,
      "_view_module": "@jupyter-widgets/base",
      "_view_module_version": "1.2.0",
      "_view_name": "LayoutView",
      "align_content": null,
      "align_items": null,
      "align_self": null,
      "border": null,
      "bottom": null,
      "display": null,
      "flex": null,
      "flex_flow": null,
      "grid_area": null,
      "grid_auto_columns": null,
      "grid_auto_flow": null,
      "grid_auto_rows": null,
      "grid_column": null,
      "grid_gap": null,
      "grid_row": null,
      "grid_template_areas": null,
      "grid_template_columns": null,
      "grid_template_rows": null,
      "height": null,
      "justify_content": null,
      "justify_items": null,
      "left": null,
      "margin": null,
      "max_height": null,
      "max_width": null,
      "min_height": null,
      "min_width": null,
      "object_fit": null,
      "object_position": null,
      "order": null,
      "overflow": null,
      "overflow_x": null,
      "overflow_y": null,
      "padding": null,
      "right": null,
      "top": null,
      "visibility": null,
      "width": null
     }
    },
    "beee0d9556854aebaa314ee9bf4acec3": {
     "model_module": "@jupyter-widgets/base",
     "model_module_version": "1.2.0",
     "model_name": "LayoutModel",
     "state": {
      "_model_module": "@jupyter-widgets/base",
      "_model_module_version": "1.2.0",
      "_model_name": "LayoutModel",
      "_view_count": null,
      "_view_module": "@jupyter-widgets/base",
      "_view_module_version": "1.2.0",
      "_view_name": "LayoutView",
      "align_content": null,
      "align_items": null,
      "align_self": null,
      "border": null,
      "bottom": null,
      "display": null,
      "flex": null,
      "flex_flow": null,
      "grid_area": null,
      "grid_auto_columns": null,
      "grid_auto_flow": null,
      "grid_auto_rows": null,
      "grid_column": null,
      "grid_gap": null,
      "grid_row": null,
      "grid_template_areas": null,
      "grid_template_columns": null,
      "grid_template_rows": null,
      "height": null,
      "justify_content": null,
      "justify_items": null,
      "left": null,
      "margin": null,
      "max_height": null,
      "max_width": null,
      "min_height": null,
      "min_width": null,
      "object_fit": null,
      "object_position": null,
      "order": null,
      "overflow": null,
      "overflow_x": null,
      "overflow_y": null,
      "padding": null,
      "right": null,
      "top": null,
      "visibility": null,
      "width": null
     }
    },
    "c3c58e91374740d5ad3dfb76a41e3c71": {
     "model_module": "@jupyter-widgets/controls",
     "model_module_version": "1.5.0",
     "model_name": "DescriptionStyleModel",
     "state": {
      "_model_module": "@jupyter-widgets/controls",
      "_model_module_version": "1.5.0",
      "_model_name": "DescriptionStyleModel",
      "_view_count": null,
      "_view_module": "@jupyter-widgets/base",
      "_view_module_version": "1.2.0",
      "_view_name": "StyleView",
      "description_width": ""
     }
    },
    "c63cb7955e7147999335f2a1f1a95c63": {
     "model_module": "@jupyter-widgets/controls",
     "model_module_version": "1.5.0",
     "model_name": "FloatProgressModel",
     "state": {
      "_dom_classes": [],
      "_model_module": "@jupyter-widgets/controls",
      "_model_module_version": "1.5.0",
      "_model_name": "FloatProgressModel",
      "_view_count": null,
      "_view_module": "@jupyter-widgets/controls",
      "_view_module_version": "1.5.0",
      "_view_name": "ProgressView",
      "bar_style": "success",
      "description": "",
      "description_tooltip": null,
      "layout": "IPY_MODEL_969524c69bbf4a688cae2397da9b5000",
      "max": 1042301,
      "min": 0,
      "orientation": "horizontal",
      "style": "IPY_MODEL_0c4b9fe6200c4b8984ebc40330f74e7a",
      "value": 1042301
     }
    },
    "cb42ec78624d4b2e818f823f000d27e0": {
     "model_module": "@jupyter-widgets/controls",
     "model_module_version": "1.5.0",
     "model_name": "DescriptionStyleModel",
     "state": {
      "_model_module": "@jupyter-widgets/controls",
      "_model_module_version": "1.5.0",
      "_model_name": "DescriptionStyleModel",
      "_view_count": null,
      "_view_module": "@jupyter-widgets/base",
      "_view_module_version": "1.2.0",
      "_view_name": "StyleView",
      "description_width": ""
     }
    },
    "cba1c86b4bf844a99f956aa6a959ce70": {
     "model_module": "@jupyter-widgets/controls",
     "model_module_version": "1.5.0",
     "model_name": "ProgressStyleModel",
     "state": {
      "_model_module": "@jupyter-widgets/controls",
      "_model_module_version": "1.5.0",
      "_model_name": "ProgressStyleModel",
      "_view_count": null,
      "_view_module": "@jupyter-widgets/base",
      "_view_module_version": "1.2.0",
      "_view_name": "StyleView",
      "bar_color": null,
      "description_width": ""
     }
    },
    "ccf6028391f94fc3981651363483091d": {
     "model_module": "@jupyter-widgets/controls",
     "model_module_version": "1.5.0",
     "model_name": "HTMLModel",
     "state": {
      "_dom_classes": [],
      "_model_module": "@jupyter-widgets/controls",
      "_model_module_version": "1.5.0",
      "_model_name": "HTMLModel",
      "_view_count": null,
      "_view_module": "@jupyter-widgets/controls",
      "_view_module_version": "1.5.0",
      "_view_name": "HTMLView",
      "description": "",
      "description_tooltip": null,
      "layout": "IPY_MODEL_d31fe70a0cda4aefa50bde2bab45ed07",
      "placeholder": "​",
      "style": "IPY_MODEL_01ffc81a172146358fabb668f505d0d1",
      "value": "Downloading: 100%"
     }
    },
    "d24c0a093d91434e85c08da0490fff4f": {
     "model_module": "@jupyter-widgets/controls",
     "model_module_version": "1.5.0",
     "model_name": "DescriptionStyleModel",
     "state": {
      "_model_module": "@jupyter-widgets/controls",
      "_model_module_version": "1.5.0",
      "_model_name": "DescriptionStyleModel",
      "_view_count": null,
      "_view_module": "@jupyter-widgets/base",
      "_view_module_version": "1.2.0",
      "_view_name": "StyleView",
      "description_width": ""
     }
    },
    "d31fe70a0cda4aefa50bde2bab45ed07": {
     "model_module": "@jupyter-widgets/base",
     "model_module_version": "1.2.0",
     "model_name": "LayoutModel",
     "state": {
      "_model_module": "@jupyter-widgets/base",
      "_model_module_version": "1.2.0",
      "_model_name": "LayoutModel",
      "_view_count": null,
      "_view_module": "@jupyter-widgets/base",
      "_view_module_version": "1.2.0",
      "_view_name": "LayoutView",
      "align_content": null,
      "align_items": null,
      "align_self": null,
      "border": null,
      "bottom": null,
      "display": null,
      "flex": null,
      "flex_flow": null,
      "grid_area": null,
      "grid_auto_columns": null,
      "grid_auto_flow": null,
      "grid_auto_rows": null,
      "grid_column": null,
      "grid_gap": null,
      "grid_row": null,
      "grid_template_areas": null,
      "grid_template_columns": null,
      "grid_template_rows": null,
      "height": null,
      "justify_content": null,
      "justify_items": null,
      "left": null,
      "margin": null,
      "max_height": null,
      "max_width": null,
      "min_height": null,
      "min_width": null,
      "object_fit": null,
      "object_position": null,
      "order": null,
      "overflow": null,
      "overflow_x": null,
      "overflow_y": null,
      "padding": null,
      "right": null,
      "top": null,
      "visibility": null,
      "width": null
     }
    },
    "d3c48d7a4e5446b59a2068f80bc18819": {
     "model_module": "@jupyter-widgets/controls",
     "model_module_version": "1.5.0",
     "model_name": "HBoxModel",
     "state": {
      "_dom_classes": [],
      "_model_module": "@jupyter-widgets/controls",
      "_model_module_version": "1.5.0",
      "_model_name": "HBoxModel",
      "_view_count": null,
      "_view_module": "@jupyter-widgets/controls",
      "_view_module_version": "1.5.0",
      "_view_name": "HBoxView",
      "box_style": "",
      "children": [
       "IPY_MODEL_ccf6028391f94fc3981651363483091d",
       "IPY_MODEL_64c35792ab214b22b689d8c852d87f76",
       "IPY_MODEL_7507a8af425b47deb16d965d67b3e0fc"
      ],
      "layout": "IPY_MODEL_d6b298ca57a249d4800ae56beee5d16e"
     }
    },
    "d6b298ca57a249d4800ae56beee5d16e": {
     "model_module": "@jupyter-widgets/base",
     "model_module_version": "1.2.0",
     "model_name": "LayoutModel",
     "state": {
      "_model_module": "@jupyter-widgets/base",
      "_model_module_version": "1.2.0",
      "_model_name": "LayoutModel",
      "_view_count": null,
      "_view_module": "@jupyter-widgets/base",
      "_view_module_version": "1.2.0",
      "_view_name": "LayoutView",
      "align_content": null,
      "align_items": null,
      "align_self": null,
      "border": null,
      "bottom": null,
      "display": null,
      "flex": null,
      "flex_flow": null,
      "grid_area": null,
      "grid_auto_columns": null,
      "grid_auto_flow": null,
      "grid_auto_rows": null,
      "grid_column": null,
      "grid_gap": null,
      "grid_row": null,
      "grid_template_areas": null,
      "grid_template_columns": null,
      "grid_template_rows": null,
      "height": null,
      "justify_content": null,
      "justify_items": null,
      "left": null,
      "margin": null,
      "max_height": null,
      "max_width": null,
      "min_height": null,
      "min_width": null,
      "object_fit": null,
      "object_position": null,
      "order": null,
      "overflow": null,
      "overflow_x": null,
      "overflow_y": null,
      "padding": null,
      "right": null,
      "top": null,
      "visibility": null,
      "width": null
     }
    },
    "d76936d954864f4a8887a4e2679b13bd": {
     "model_module": "@jupyter-widgets/base",
     "model_module_version": "1.2.0",
     "model_name": "LayoutModel",
     "state": {
      "_model_module": "@jupyter-widgets/base",
      "_model_module_version": "1.2.0",
      "_model_name": "LayoutModel",
      "_view_count": null,
      "_view_module": "@jupyter-widgets/base",
      "_view_module_version": "1.2.0",
      "_view_name": "LayoutView",
      "align_content": null,
      "align_items": null,
      "align_self": null,
      "border": null,
      "bottom": null,
      "display": null,
      "flex": null,
      "flex_flow": null,
      "grid_area": null,
      "grid_auto_columns": null,
      "grid_auto_flow": null,
      "grid_auto_rows": null,
      "grid_column": null,
      "grid_gap": null,
      "grid_row": null,
      "grid_template_areas": null,
      "grid_template_columns": null,
      "grid_template_rows": null,
      "height": null,
      "justify_content": null,
      "justify_items": null,
      "left": null,
      "margin": null,
      "max_height": null,
      "max_width": null,
      "min_height": null,
      "min_width": null,
      "object_fit": null,
      "object_position": null,
      "order": null,
      "overflow": null,
      "overflow_x": null,
      "overflow_y": null,
      "padding": null,
      "right": null,
      "top": null,
      "visibility": null,
      "width": null
     }
    },
    "d7c23c5dc4b24b7c96ce70789fd42210": {
     "model_module": "@jupyter-widgets/controls",
     "model_module_version": "1.5.0",
     "model_name": "DescriptionStyleModel",
     "state": {
      "_model_module": "@jupyter-widgets/controls",
      "_model_module_version": "1.5.0",
      "_model_name": "DescriptionStyleModel",
      "_view_count": null,
      "_view_module": "@jupyter-widgets/base",
      "_view_module_version": "1.2.0",
      "_view_name": "StyleView",
      "description_width": ""
     }
    },
    "d8618871297d4376b67e1905f33bd838": {
     "model_module": "@jupyter-widgets/controls",
     "model_module_version": "1.5.0",
     "model_name": "HBoxModel",
     "state": {
      "_dom_classes": [],
      "_model_module": "@jupyter-widgets/controls",
      "_model_module_version": "1.5.0",
      "_model_name": "HBoxModel",
      "_view_count": null,
      "_view_module": "@jupyter-widgets/controls",
      "_view_module_version": "1.5.0",
      "_view_name": "HBoxView",
      "box_style": "",
      "children": [
       "IPY_MODEL_6eb6034f345b470cb2a8a25df209f557",
       "IPY_MODEL_a841014336944d3db21449ad82c6d6fd",
       "IPY_MODEL_26a5c6cd60704117b7ddce8a3ca3c92e"
      ],
      "layout": "IPY_MODEL_beee0d9556854aebaa314ee9bf4acec3"
     }
    },
    "dccdd23791514c019b2954bdfdbd09ea": {
     "model_module": "@jupyter-widgets/controls",
     "model_module_version": "1.5.0",
     "model_name": "DescriptionStyleModel",
     "state": {
      "_model_module": "@jupyter-widgets/controls",
      "_model_module_version": "1.5.0",
      "_model_name": "DescriptionStyleModel",
      "_view_count": null,
      "_view_module": "@jupyter-widgets/base",
      "_view_module_version": "1.2.0",
      "_view_name": "StyleView",
      "description_width": ""
     }
    },
    "df881ba3b4b542649f9f8591fa79df47": {
     "model_module": "@jupyter-widgets/controls",
     "model_module_version": "1.5.0",
     "model_name": "HTMLModel",
     "state": {
      "_dom_classes": [],
      "_model_module": "@jupyter-widgets/controls",
      "_model_module_version": "1.5.0",
      "_model_name": "HTMLModel",
      "_view_count": null,
      "_view_module": "@jupyter-widgets/controls",
      "_view_module_version": "1.5.0",
      "_view_name": "HTMLView",
      "description": "",
      "description_tooltip": null,
      "layout": "IPY_MODEL_8cbcfd33acb044cfabc80f94d8649163",
      "placeholder": "​",
      "style": "IPY_MODEL_dccdd23791514c019b2954bdfdbd09ea",
      "value": " 1.29M/1.29M [00:00&lt;00:00, 4.36MB/s]"
     }
    },
    "e02aa2ffef8f4c73866cd64d71ea8939": {
     "model_module": "@jupyter-widgets/controls",
     "model_module_version": "1.5.0",
     "model_name": "HTMLModel",
     "state": {
      "_dom_classes": [],
      "_model_module": "@jupyter-widgets/controls",
      "_model_module_version": "1.5.0",
      "_model_name": "HTMLModel",
      "_view_count": null,
      "_view_module": "@jupyter-widgets/controls",
      "_view_module_version": "1.5.0",
      "_view_name": "HTMLView",
      "description": "",
      "description_tooltip": null,
      "layout": "IPY_MODEL_5bd1d89e4a104f478533193fd79664b8",
      "placeholder": "​",
      "style": "IPY_MODEL_48932ccf80e14ec78c7b3c7b187191d8",
      "value": " 666/666 [00:00&lt;00:00, 20.7kB/s]"
     }
    },
    "e04beeed51a643fbab1fb0d1ccec5f9f": {
     "model_module": "@jupyter-widgets/controls",
     "model_module_version": "1.5.0",
     "model_name": "ProgressStyleModel",
     "state": {
      "_model_module": "@jupyter-widgets/controls",
      "_model_module_version": "1.5.0",
      "_model_name": "ProgressStyleModel",
      "_view_count": null,
      "_view_module": "@jupyter-widgets/base",
      "_view_module_version": "1.2.0",
      "_view_name": "StyleView",
      "bar_color": null,
      "description_width": ""
     }
    },
    "e0ba0c60d8934ec19218a72b7dc0940c": {
     "model_module": "@jupyter-widgets/controls",
     "model_module_version": "1.5.0",
     "model_name": "DescriptionStyleModel",
     "state": {
      "_model_module": "@jupyter-widgets/controls",
      "_model_module_version": "1.5.0",
      "_model_name": "DescriptionStyleModel",
      "_view_count": null,
      "_view_module": "@jupyter-widgets/base",
      "_view_module_version": "1.2.0",
      "_view_name": "StyleView",
      "description_width": ""
     }
    },
    "e167535b84894df594bc49fe42769898": {
     "model_module": "@jupyter-widgets/base",
     "model_module_version": "1.2.0",
     "model_name": "LayoutModel",
     "state": {
      "_model_module": "@jupyter-widgets/base",
      "_model_module_version": "1.2.0",
      "_model_name": "LayoutModel",
      "_view_count": null,
      "_view_module": "@jupyter-widgets/base",
      "_view_module_version": "1.2.0",
      "_view_name": "LayoutView",
      "align_content": null,
      "align_items": null,
      "align_self": null,
      "border": null,
      "bottom": null,
      "display": null,
      "flex": null,
      "flex_flow": null,
      "grid_area": null,
      "grid_auto_columns": null,
      "grid_auto_flow": null,
      "grid_auto_rows": null,
      "grid_column": null,
      "grid_gap": null,
      "grid_row": null,
      "grid_template_areas": null,
      "grid_template_columns": null,
      "grid_template_rows": null,
      "height": null,
      "justify_content": null,
      "justify_items": null,
      "left": null,
      "margin": null,
      "max_height": null,
      "max_width": null,
      "min_height": null,
      "min_width": null,
      "object_fit": null,
      "object_position": null,
      "order": null,
      "overflow": null,
      "overflow_x": null,
      "overflow_y": null,
      "padding": null,
      "right": null,
      "top": null,
      "visibility": null,
      "width": null
     }
    },
    "e31e1335e9dd4782bd2fb9a17177334e": {
     "model_module": "@jupyter-widgets/controls",
     "model_module_version": "1.5.0",
     "model_name": "HTMLModel",
     "state": {
      "_dom_classes": [],
      "_model_module": "@jupyter-widgets/controls",
      "_model_module_version": "1.5.0",
      "_model_name": "HTMLModel",
      "_view_count": null,
      "_view_module": "@jupyter-widgets/controls",
      "_view_module_version": "1.5.0",
      "_view_name": "HTMLView",
      "description": "",
      "description_tooltip": null,
      "layout": "IPY_MODEL_6755c6199b714d8384fb6a281d3ac0c3",
      "placeholder": "​",
      "style": "IPY_MODEL_c3c58e91374740d5ad3dfb76a41e3c71",
      "value": "Downloading: 100%"
     }
    },
    "e475d7b946c646c09831421cbd7cbf33": {
     "model_module": "@jupyter-widgets/controls",
     "model_module_version": "1.5.0",
     "model_name": "HTMLModel",
     "state": {
      "_dom_classes": [],
      "_model_module": "@jupyter-widgets/controls",
      "_model_module_version": "1.5.0",
      "_model_name": "HTMLModel",
      "_view_count": null,
      "_view_module": "@jupyter-widgets/controls",
      "_view_module_version": "1.5.0",
      "_view_name": "HTMLView",
      "description": "",
      "description_tooltip": null,
      "layout": "IPY_MODEL_7917cf6a4f644317973fa08459605d9e",
      "placeholder": "​",
      "style": "IPY_MODEL_e7edbd2cfc7f4ec1b220fa7aff3acadf",
      "value": " 533/533 [00:00&lt;00:00, 19.9kB/s]"
     }
    },
    "e6e991ef781f43b787c1f95b2cb08a87": {
     "model_module": "@jupyter-widgets/controls",
     "model_module_version": "1.5.0",
     "model_name": "DescriptionStyleModel",
     "state": {
      "_model_module": "@jupyter-widgets/controls",
      "_model_module_version": "1.5.0",
      "_model_name": "DescriptionStyleModel",
      "_view_count": null,
      "_view_module": "@jupyter-widgets/base",
      "_view_module_version": "1.2.0",
      "_view_name": "StyleView",
      "description_width": ""
     }
    },
    "e7edbd2cfc7f4ec1b220fa7aff3acadf": {
     "model_module": "@jupyter-widgets/controls",
     "model_module_version": "1.5.0",
     "model_name": "DescriptionStyleModel",
     "state": {
      "_model_module": "@jupyter-widgets/controls",
      "_model_module_version": "1.5.0",
      "_model_name": "DescriptionStyleModel",
      "_view_count": null,
      "_view_module": "@jupyter-widgets/base",
      "_view_module_version": "1.2.0",
      "_view_name": "StyleView",
      "description_width": ""
     }
    },
    "e96791ed54c644f0802714dad8a6322f": {
     "model_module": "@jupyter-widgets/base",
     "model_module_version": "1.2.0",
     "model_name": "LayoutModel",
     "state": {
      "_model_module": "@jupyter-widgets/base",
      "_model_module_version": "1.2.0",
      "_model_name": "LayoutModel",
      "_view_count": null,
      "_view_module": "@jupyter-widgets/base",
      "_view_module_version": "1.2.0",
      "_view_name": "LayoutView",
      "align_content": null,
      "align_items": null,
      "align_self": null,
      "border": null,
      "bottom": null,
      "display": null,
      "flex": null,
      "flex_flow": null,
      "grid_area": null,
      "grid_auto_columns": null,
      "grid_auto_flow": null,
      "grid_auto_rows": null,
      "grid_column": null,
      "grid_gap": null,
      "grid_row": null,
      "grid_template_areas": null,
      "grid_template_columns": null,
      "grid_template_rows": null,
      "height": null,
      "justify_content": null,
      "justify_items": null,
      "left": null,
      "margin": null,
      "max_height": null,
      "max_width": null,
      "min_height": null,
      "min_width": null,
      "object_fit": null,
      "object_position": null,
      "order": null,
      "overflow": null,
      "overflow_x": null,
      "overflow_y": null,
      "padding": null,
      "right": null,
      "top": null,
      "visibility": null,
      "width": null
     }
    },
    "ebef29421c2949429a311bf0e814cae7": {
     "model_module": "@jupyter-widgets/base",
     "model_module_version": "1.2.0",
     "model_name": "LayoutModel",
     "state": {
      "_model_module": "@jupyter-widgets/base",
      "_model_module_version": "1.2.0",
      "_model_name": "LayoutModel",
      "_view_count": null,
      "_view_module": "@jupyter-widgets/base",
      "_view_module_version": "1.2.0",
      "_view_name": "LayoutView",
      "align_content": null,
      "align_items": null,
      "align_self": null,
      "border": null,
      "bottom": null,
      "display": null,
      "flex": null,
      "flex_flow": null,
      "grid_area": null,
      "grid_auto_columns": null,
      "grid_auto_flow": null,
      "grid_auto_rows": null,
      "grid_column": null,
      "grid_gap": null,
      "grid_row": null,
      "grid_template_areas": null,
      "grid_template_columns": null,
      "grid_template_rows": null,
      "height": null,
      "justify_content": null,
      "justify_items": null,
      "left": null,
      "margin": null,
      "max_height": null,
      "max_width": null,
      "min_height": null,
      "min_width": null,
      "object_fit": null,
      "object_position": null,
      "order": null,
      "overflow": null,
      "overflow_x": null,
      "overflow_y": null,
      "padding": null,
      "right": null,
      "top": null,
      "visibility": null,
      "width": null
     }
    },
    "ed25c59bb90e4e15ab664a168e41f289": {
     "model_module": "@jupyter-widgets/base",
     "model_module_version": "1.2.0",
     "model_name": "LayoutModel",
     "state": {
      "_model_module": "@jupyter-widgets/base",
      "_model_module_version": "1.2.0",
      "_model_name": "LayoutModel",
      "_view_count": null,
      "_view_module": "@jupyter-widgets/base",
      "_view_module_version": "1.2.0",
      "_view_name": "LayoutView",
      "align_content": null,
      "align_items": null,
      "align_self": null,
      "border": null,
      "bottom": null,
      "display": null,
      "flex": null,
      "flex_flow": null,
      "grid_area": null,
      "grid_auto_columns": null,
      "grid_auto_flow": null,
      "grid_auto_rows": null,
      "grid_column": null,
      "grid_gap": null,
      "grid_row": null,
      "grid_template_areas": null,
      "grid_template_columns": null,
      "grid_template_rows": null,
      "height": null,
      "justify_content": null,
      "justify_items": null,
      "left": null,
      "margin": null,
      "max_height": null,
      "max_width": null,
      "min_height": null,
      "min_width": null,
      "object_fit": null,
      "object_position": null,
      "order": null,
      "overflow": null,
      "overflow_x": null,
      "overflow_y": null,
      "padding": null,
      "right": null,
      "top": null,
      "visibility": null,
      "width": null
     }
    },
    "ede25f035a2a43488e1f6b36c8e2303d": {
     "model_module": "@jupyter-widgets/controls",
     "model_module_version": "1.5.0",
     "model_name": "DescriptionStyleModel",
     "state": {
      "_model_module": "@jupyter-widgets/controls",
      "_model_module_version": "1.5.0",
      "_model_name": "DescriptionStyleModel",
      "_view_count": null,
      "_view_module": "@jupyter-widgets/base",
      "_view_module_version": "1.2.0",
      "_view_name": "StyleView",
      "description_width": ""
     }
    },
    "f9938e25d11447c09e6319602a00e65d": {
     "model_module": "@jupyter-widgets/controls",
     "model_module_version": "1.5.0",
     "model_name": "FloatProgressModel",
     "state": {
      "_dom_classes": [],
      "_model_module": "@jupyter-widgets/controls",
      "_model_module_version": "1.5.0",
      "_model_name": "FloatProgressModel",
      "_view_count": null,
      "_view_module": "@jupyter-widgets/controls",
      "_view_module_version": "1.5.0",
      "_view_name": "ProgressView",
      "bar_style": "success",
      "description": "",
      "description_tooltip": null,
      "layout": "IPY_MODEL_52ef73832af1482faf3a3377752b7215",
      "max": 3134064907,
      "min": 0,
      "orientation": "horizontal",
      "style": "IPY_MODEL_4f64fcf1113b41c9aa300199a0b36014",
      "value": 3134064907
     }
    },
    "f9e5855e18d44ee99f165d111673b532": {
     "model_module": "@jupyter-widgets/controls",
     "model_module_version": "1.5.0",
     "model_name": "ProgressStyleModel",
     "state": {
      "_model_module": "@jupyter-widgets/controls",
      "_model_module_version": "1.5.0",
      "_model_name": "ProgressStyleModel",
      "_view_count": null,
      "_view_module": "@jupyter-widgets/base",
      "_view_module_version": "1.2.0",
      "_view_name": "StyleView",
      "bar_color": null,
      "description_width": ""
     }
    },
    "f9ed745a1f1e4178b6623e48f8769bc0": {
     "model_module": "@jupyter-widgets/controls",
     "model_module_version": "1.5.0",
     "model_name": "HTMLModel",
     "state": {
      "_dom_classes": [],
      "_model_module": "@jupyter-widgets/controls",
      "_model_module_version": "1.5.0",
      "_model_name": "HTMLModel",
      "_view_count": null,
      "_view_module": "@jupyter-widgets/controls",
      "_view_module_version": "1.5.0",
      "_view_name": "HTMLView",
      "description": "",
      "description_tooltip": null,
      "layout": "IPY_MODEL_432efcf83a8d4df6b3bb00259ca542d2",
      "placeholder": "​",
      "style": "IPY_MODEL_e6e991ef781f43b787c1f95b2cb08a87",
      "value": " 0.99M/0.99M [00:00&lt;00:00, 2.88MB/s]"
     }
    },
    "fc72d9ef425c4f05b536e545cb1950fe": {
     "model_module": "@jupyter-widgets/base",
     "model_module_version": "1.2.0",
     "model_name": "LayoutModel",
     "state": {
      "_model_module": "@jupyter-widgets/base",
      "_model_module_version": "1.2.0",
      "_model_name": "LayoutModel",
      "_view_count": null,
      "_view_module": "@jupyter-widgets/base",
      "_view_module_version": "1.2.0",
      "_view_name": "LayoutView",
      "align_content": null,
      "align_items": null,
      "align_self": null,
      "border": null,
      "bottom": null,
      "display": null,
      "flex": null,
      "flex_flow": null,
      "grid_area": null,
      "grid_auto_columns": null,
      "grid_auto_flow": null,
      "grid_auto_rows": null,
      "grid_column": null,
      "grid_gap": null,
      "grid_row": null,
      "grid_template_areas": null,
      "grid_template_columns": null,
      "grid_template_rows": null,
      "height": null,
      "justify_content": null,
      "justify_items": null,
      "left": null,
      "margin": null,
      "max_height": null,
      "max_width": null,
      "min_height": null,
      "min_width": null,
      "object_fit": null,
      "object_position": null,
      "order": null,
      "overflow": null,
      "overflow_x": null,
      "overflow_y": null,
      "padding": null,
      "right": null,
      "top": null,
      "visibility": null,
      "width": null
     }
    },
    "fd179c2dfc0e429e8a89b3e36f4b3eb8": {
     "model_module": "@jupyter-widgets/controls",
     "model_module_version": "1.5.0",
     "model_name": "FloatProgressModel",
     "state": {
      "_dom_classes": [],
      "_model_module": "@jupyter-widgets/controls",
      "_model_module_version": "1.5.0",
      "_model_name": "FloatProgressModel",
      "_view_count": null,
      "_view_module": "@jupyter-widgets/controls",
      "_view_module_version": "1.5.0",
      "_view_name": "ProgressView",
      "bar_style": "success",
      "description": "",
      "description_tooltip": null,
      "layout": "IPY_MODEL_bc949ebd834a47f580b5b1ddd774f1da",
      "max": 533,
      "min": 0,
      "orientation": "horizontal",
      "style": "IPY_MODEL_13e3db331e5e4f02b8978e4008ec56ae",
      "value": 533
     }
    }
   }
  }
 },
 "nbformat": 4,
 "nbformat_minor": 1
}
