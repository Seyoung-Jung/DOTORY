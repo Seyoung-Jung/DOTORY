{
 "cells": [
  {
   "cell_type": "markdown",
   "metadata": {
    "id": "4i9mp3N4csK5"
   },
   "source": [
    "# 데이터 재구성\n",
    "\n",
    "- kogpt2 + 한국어 데이터\n",
    "\n",
    "- 정제된 동화 데이터 최소 5000~10000개 필요 → 데이터 불리기, 장르는 라벨링\n",
    "\n",
    "- 기승전결 문단으로 데이터 재구성하여 학습 (문장 개수 단위, 장르는 라벨링 후에 prefix로 붙일 예정)"
   ]
  },
  {
   "cell_type": "markdown",
   "metadata": {
    "id": "cwG0zpQlTxB7"
   },
   "source": [
    "## EDA"
   ]
  },
  {
   "cell_type": "code",
   "execution_count": 1,
   "metadata": {
    "colab": {
     "base_uri": "https://localhost:8080/"
    },
    "executionInfo": {
     "elapsed": 336,
     "status": "ok",
     "timestamp": 1639538928214,
     "user": {
      "displayName": "Seyeong Jung",
      "photoUrl": "https://lh3.googleusercontent.com/a/default-user=s64",
      "userId": "01913346087161822745"
     },
     "user_tz": -540
    },
    "id": "b4KvUlLpnnq2",
    "outputId": "9e16bbf0-8896-477b-98eb-969008cb8b9d"
   },
   "outputs": [
    {
     "data": {
      "text/plain": [
       "55211"
      ]
     },
     "execution_count": 1,
     "metadata": {},
     "output_type": "execute_result"
    }
   ],
   "source": [
    "df1 = open('동화_본문_합본/동화본문_211223수정.txt', 'r').read()\n",
    "df2 = open('tale.txt', 'r').read()\n",
    "df = []\n",
    "except_idx = []\n",
    "title = []\n",
    "for i, sentence in enumerate(df1.split('\\n\\n\\n')):\n",
    "    try:\n",
    "        story = sentence.split('\\n\\n')[1].split('\\n')\n",
    "        title.append([i+1, sentence.split('\\n\\n')[0]])\n",
    "    except:\n",
    "        except_idx.append(i)\n",
    "        story = sentence.split('\\n')[2:]\n",
    "        title.append([i+1, sentence.split('\\n')[1]])\n",
    "    df.extend(story)\n",
    "for i in df2.split('\\n\\n'):\n",
    "    story = i.split('\\n')\n",
    "    df.extend(story)\n",
    "len(df)  # 한국어 동화 데이터 문장 개수"
   ]
  },
  {
   "cell_type": "code",
   "execution_count": 184,
   "metadata": {},
   "outputs": [
    {
     "name": "stdout",
     "output_type": "stream",
     "text": [
      "1,2차 합본 동화 개수 : 822\n",
      "tale 동화 개수 : 227\n"
     ]
    }
   ],
   "source": [
    "print('1,2차 합본 동화 개수 :', len(df1.split('\\n\\n\\n')))\n",
    "print('tale 동화 개수 :', len(df2.split('\\n\\n')))"
   ]
  },
  {
   "cell_type": "code",
   "execution_count": 187,
   "metadata": {
    "colab": {
     "base_uri": "https://localhost:8080/"
    },
    "executionInfo": {
     "elapsed": 306,
     "status": "ok",
     "timestamp": 1639538880015,
     "user": {
      "displayName": "Seyeong Jung",
      "photoUrl": "https://lh3.googleusercontent.com/a/default-user=s64",
      "userId": "01913346087161822745"
     },
     "user_tz": -540
    },
    "id": "M3JbB9y5H5E6",
    "outputId": "dab761bb-ad6b-44f0-d105-263b11777620",
    "scrolled": true
   },
   "outputs": [
    {
     "data": {
      "text/plain": [
       "[41, 44, 47, 90]"
      ]
     },
     "execution_count": 187,
     "metadata": {},
     "output_type": "execute_result"
    }
   ],
   "source": [
    "except_idx"
   ]
  },
  {
   "cell_type": "code",
   "execution_count": 156,
   "metadata": {},
   "outputs": [
    {
     "data": {
      "text/html": [
       "<div>\n",
       "<style scoped>\n",
       "    .dataframe tbody tr th:only-of-type {\n",
       "        vertical-align: middle;\n",
       "    }\n",
       "\n",
       "    .dataframe tbody tr th {\n",
       "        vertical-align: top;\n",
       "    }\n",
       "\n",
       "    .dataframe thead th {\n",
       "        text-align: right;\n",
       "    }\n",
       "</style>\n",
       "<table border=\"1\" class=\"dataframe\">\n",
       "  <thead>\n",
       "    <tr style=\"text-align: right;\">\n",
       "      <th></th>\n",
       "      <th>ID</th>\n",
       "      <th>코딩 소제목</th>\n",
       "    </tr>\n",
       "  </thead>\n",
       "  <tbody>\n",
       "    <tr>\n",
       "      <th>0</th>\n",
       "      <td>1</td>\n",
       "      <td>방귀 대장은 누구?</td>\n",
       "    </tr>\n",
       "    <tr>\n",
       "      <th>1</th>\n",
       "      <td>2</td>\n",
       "      <td>송아지와 바꾼 무</td>\n",
       "    </tr>\n",
       "    <tr>\n",
       "      <th>2</th>\n",
       "      <td>3</td>\n",
       "      <td>낫 놓고 기역 자도 모르는 양반</td>\n",
       "    </tr>\n",
       "    <tr>\n",
       "      <th>3</th>\n",
       "      <td>4</td>\n",
       "      <td>내기 장기</td>\n",
       "    </tr>\n",
       "    <tr>\n",
       "      <th>4</th>\n",
       "      <td>5</td>\n",
       "      <td>꿀 똥 싸는 강아지</td>\n",
       "    </tr>\n",
       "    <tr>\n",
       "      <th>...</th>\n",
       "      <td>...</td>\n",
       "      <td>...</td>\n",
       "    </tr>\n",
       "    <tr>\n",
       "      <th>817</th>\n",
       "      <td>818</td>\n",
       "      <td>수다 부인</td>\n",
       "    </tr>\n",
       "    <tr>\n",
       "      <th>818</th>\n",
       "      <td>819</td>\n",
       "      <td>나라를 세운 단군</td>\n",
       "    </tr>\n",
       "    <tr>\n",
       "      <th>819</th>\n",
       "      <td>820</td>\n",
       "      <td>알에서 태어난 주몽</td>\n",
       "    </tr>\n",
       "    <tr>\n",
       "      <th>820</th>\n",
       "      <td>821</td>\n",
       "      <td>호랑이 잡는 기왓장</td>\n",
       "    </tr>\n",
       "    <tr>\n",
       "      <th>821</th>\n",
       "      <td>822</td>\n",
       "      <td>발표 안 하면 안될까?</td>\n",
       "    </tr>\n",
       "  </tbody>\n",
       "</table>\n",
       "<p>822 rows × 2 columns</p>\n",
       "</div>"
      ],
      "text/plain": [
       "      ID             코딩 소제목\n",
       "0      1         방귀 대장은 누구?\n",
       "1      2          송아지와 바꾼 무\n",
       "2      3  낫 놓고 기역 자도 모르는 양반\n",
       "3      4              내기 장기\n",
       "4      5         꿀 똥 싸는 강아지\n",
       "..   ...                ...\n",
       "817  818              수다 부인\n",
       "818  819          나라를 세운 단군\n",
       "819  820         알에서 태어난 주몽\n",
       "820  821         호랑이 잡는 기왓장\n",
       "821  822       발표 안 하면 안될까?\n",
       "\n",
       "[822 rows x 2 columns]"
      ]
     },
     "execution_count": 156,
     "metadata": {},
     "output_type": "execute_result"
    }
   ],
   "source": [
    "import pandas as pd\n",
    "\n",
    "title_txt = pd.DataFrame(title, columns=['ID', '코딩 소제목'])\n",
    "title_txt['코딩 소제목'] = title_txt['코딩 소제목'].str.lstrip('\\n')\n",
    "title_txt"
   ]
  },
  {
   "cell_type": "code",
   "execution_count": 157,
   "metadata": {},
   "outputs": [
    {
     "data": {
      "text/html": [
       "<div>\n",
       "<style scoped>\n",
       "    .dataframe tbody tr th:only-of-type {\n",
       "        vertical-align: middle;\n",
       "    }\n",
       "\n",
       "    .dataframe tbody tr th {\n",
       "        vertical-align: top;\n",
       "    }\n",
       "\n",
       "    .dataframe thead th {\n",
       "        text-align: right;\n",
       "    }\n",
       "</style>\n",
       "<table border=\"1\" class=\"dataframe\">\n",
       "  <thead>\n",
       "    <tr style=\"text-align: right;\">\n",
       "      <th></th>\n",
       "      <th>ID</th>\n",
       "      <th>코딩 소제목</th>\n",
       "    </tr>\n",
       "  </thead>\n",
       "  <tbody>\n",
       "    <tr>\n",
       "      <th>0</th>\n",
       "      <td>1</td>\n",
       "      <td>방귀 대장은 누구?</td>\n",
       "    </tr>\n",
       "    <tr>\n",
       "      <th>1</th>\n",
       "      <td>2</td>\n",
       "      <td>송아지와 바꾼 무</td>\n",
       "    </tr>\n",
       "    <tr>\n",
       "      <th>2</th>\n",
       "      <td>3</td>\n",
       "      <td>낫 놓고 기역 자도 모르는 양반</td>\n",
       "    </tr>\n",
       "    <tr>\n",
       "      <th>3</th>\n",
       "      <td>4</td>\n",
       "      <td>내기 장기</td>\n",
       "    </tr>\n",
       "    <tr>\n",
       "      <th>4</th>\n",
       "      <td>5</td>\n",
       "      <td>꿀 똥 싸는 강아지</td>\n",
       "    </tr>\n",
       "    <tr>\n",
       "      <th>...</th>\n",
       "      <td>...</td>\n",
       "      <td>...</td>\n",
       "    </tr>\n",
       "    <tr>\n",
       "      <th>819</th>\n",
       "      <td>820</td>\n",
       "      <td>수다 부인</td>\n",
       "    </tr>\n",
       "    <tr>\n",
       "      <th>820</th>\n",
       "      <td>821</td>\n",
       "      <td>나라를 세운 단군</td>\n",
       "    </tr>\n",
       "    <tr>\n",
       "      <th>821</th>\n",
       "      <td>822</td>\n",
       "      <td>알에서 태어난 주몽</td>\n",
       "    </tr>\n",
       "    <tr>\n",
       "      <th>822</th>\n",
       "      <td>823</td>\n",
       "      <td>호랑이 잡는 기왓장</td>\n",
       "    </tr>\n",
       "    <tr>\n",
       "      <th>823</th>\n",
       "      <td>824</td>\n",
       "      <td>발표 안 하면 안될까?</td>\n",
       "    </tr>\n",
       "  </tbody>\n",
       "</table>\n",
       "<p>824 rows × 2 columns</p>\n",
       "</div>"
      ],
      "text/plain": [
       "      ID             코딩 소제목\n",
       "0      1         방귀 대장은 누구?\n",
       "1      2          송아지와 바꾼 무\n",
       "2      3  낫 놓고 기역 자도 모르는 양반\n",
       "3      4              내기 장기\n",
       "4      5         꿀 똥 싸는 강아지\n",
       "..   ...                ...\n",
       "819  820              수다 부인\n",
       "820  821          나라를 세운 단군\n",
       "821  822         알에서 태어난 주몽\n",
       "822  823         호랑이 잡는 기왓장\n",
       "823  824       발표 안 하면 안될까?\n",
       "\n",
       "[824 rows x 2 columns]"
      ]
     },
     "execution_count": 157,
     "metadata": {},
     "output_type": "execute_result"
    }
   ],
   "source": [
    "title_xlsx = pd.read_excel('동화_본문_합본/동화제목_211223수정.xlsx').iloc[:824,:2]\n",
    "title_xlsx"
   ]
  },
  {
   "cell_type": "code",
   "execution_count": 158,
   "metadata": {},
   "outputs": [
    {
     "data": {
      "text/plain": [
       "{'내 친구 개', '내가 도와줄게!', '밤의 소리를 들어 봐', '호랑이와 밤송이 형님'}"
      ]
     },
     "execution_count": 158,
     "metadata": {},
     "output_type": "execute_result"
    }
   ],
   "source": [
    "set(title_xlsx['코딩 소제목']) - set(title_txt['코딩 소제목'])"
   ]
  },
  {
   "cell_type": "code",
   "execution_count": 178,
   "metadata": {},
   "outputs": [
    {
     "data": {
      "text/plain": [
       "{'김만중', '쌀이 나오는 바가지'}"
      ]
     },
     "execution_count": 178,
     "metadata": {},
     "output_type": "execute_result"
    }
   ],
   "source": [
    "set(title_txt['코딩 소제목']) - set(title_xlsx['코딩 소제목'])"
   ]
  },
  {
   "cell_type": "markdown",
   "metadata": {},
   "source": [
    "## Preprocessing"
   ]
  },
  {
   "cell_type": "markdown",
   "metadata": {},
   "source": [
    "10 sentence per input (성별 switch)"
   ]
  },
  {
   "cell_type": "code",
   "execution_count": 140,
   "metadata": {
    "id": "P-FSLIgkI03y"
   },
   "outputs": [
    {
     "data": {
      "text/plain": [
       "10415"
      ]
     },
     "execution_count": 140,
     "metadata": {},
     "output_type": "execute_result"
    }
   ],
   "source": [
    "# 문장 10개당 하나의 string으로, 5문장씩 겹쳐서 구성\n",
    "df1 = open('동화_본문_합본/동화본문_211223수정.txt', 'r').read()\n",
    "df2 = open('tale.txt', 'r').read()\n",
    "df = []\n",
    "sentence_num = 10\n",
    "shift_num = 5\n",
    "\n",
    "for i, sentence in enumerate(df1.split('\\n\\n\\n')):\n",
    "    story = sentence.split('\\n\\n')[1].split('\\n')\n",
    "    while len(story) > 10:\n",
    "        df.append(\" \".join(story[:sentence_num]))\n",
    "        story = story[shift_num:]\n",
    "    if story:\n",
    "        df.append(\" \".join(story[:sentence_num]))\n",
    "for i in df2.split('\\n\\n'):\n",
    "    story = i.split('\\n')\n",
    "    while len(story) > 10:\n",
    "        df.append(\" \".join(story[:sentence_num]))\n",
    "        story = story[shift_num:]\n",
    "    if story:\n",
    "        df.append(\" \".join(story[:sentence_num]))\n",
    "len(df)"
   ]
  },
  {
   "cell_type": "code",
   "execution_count": 142,
   "metadata": {},
   "outputs": [
    {
     "data": {
      "text/plain": [
       "5694"
      ]
     },
     "execution_count": 142,
     "metadata": {},
     "output_type": "execute_result"
    }
   ],
   "source": [
    "# df 문장별로 대명사 성별만 바꾸는 정도로 불려주기\n",
    "import re\n",
    "from itertools import combinations\n",
    "\n",
    "new_df = []\n",
    "switch = {\n",
    "    '소녀':'소년',\n",
    "    '소년':'소녀',\n",
    "    '할머니':'할아버지',\n",
    "    '할아버지':'할머니',\n",
    "    '여자':'남자',\n",
    "    '남자':'여자',\n",
    "    '아주머니':'아저씨',\n",
    "    '아저씨':'아주머니',\n",
    "    '공주':'왕자',\n",
    "    '왕자':'공주'\n",
    "}\n",
    "pattern = re.compile(\"|\".join(switch.keys()))\n",
    "\n",
    "for sentence in df:\n",
    "    key_list = [key for key in switch.keys() if key in sentence]\n",
    "    key_combi = sum([list(combinations(key_list, i+1)) for i in range(len(key_list))], [])  # 1개만 바꾸는 것도 포함\n",
    "    for combi in key_combi:\n",
    "        switch_tmp = {tmp:switch[tmp] for tmp in combi}\n",
    "        pattern_tmp = re.compile(\"|\".join(switch_tmp.keys()))\n",
    "        new_df.append(pattern_tmp.sub(lambda m: switch_tmp[re.escape(m.group(0))], sentence))                 \n",
    "len(new_df)"
   ]
  },
  {
   "cell_type": "code",
   "execution_count": 17,
   "metadata": {},
   "outputs": [],
   "source": [
    "with open('./10sentence_df_gender.txt', 'w') as f:\n",
    "    for sentence in df:\n",
    "        f.write(sentence + '\\n')\n",
    "    for sentence in new_df:\n",
    "        f.write(sentence + '\\n')\n",
    "f.close()"
   ]
  },
  {
   "cell_type": "code",
   "execution_count": 18,
   "metadata": {},
   "outputs": [
    {
     "data": {
      "text/plain": [
       "16109"
      ]
     },
     "execution_count": 18,
     "metadata": {},
     "output_type": "execute_result"
    }
   ],
   "source": [
    "with open('./10sentence_df_gender.txt', encoding=\"utf-8\") as f:\n",
    "    lines = [line for line in f.read().splitlines() if (len(line) > 0 and not line.isspace())]\n",
    "len(lines)"
   ]
  },
  {
   "cell_type": "markdown",
   "metadata": {},
   "source": [
    "5 sentence per input (성별 switch)"
   ]
  },
  {
   "cell_type": "code",
   "execution_count": 144,
   "metadata": {},
   "outputs": [
    {
     "data": {
      "text/plain": [
       "18075"
      ]
     },
     "execution_count": 144,
     "metadata": {},
     "output_type": "execute_result"
    }
   ],
   "source": [
    "# 문장 5개당 하나의 string으로, 2문장씩 겹쳐서 구성\n",
    "df1 = open('동화_본문_합본/동화본문_211223수정.txt', 'r').read()\n",
    "df2 = open('tale.txt', 'r').read()\n",
    "df = []\n",
    "sentence_num = 5\n",
    "shift_num = 3\n",
    "\n",
    "for i, sentence in enumerate(df1.split('\\n\\n\\n')):\n",
    "    story = sentence.split('\\n\\n')[1].split('\\n')\n",
    "    while len(story) > 5:\n",
    "        df.append(\" \".join(story[:sentence_num]))\n",
    "        story = story[shift_num:]\n",
    "    if story:\n",
    "        df.append(\" \".join(story[:sentence_num]))\n",
    "for i in df2.split('\\n\\n'):\n",
    "    story = i.split('\\n')\n",
    "    while len(story) > 5:\n",
    "        df.append(\" \".join(story[:sentence_num]))\n",
    "        story = story[shift_num:]\n",
    "    if story:\n",
    "        df.append(\" \".join(story[:sentence_num]))\n",
    "len(df)"
   ]
  },
  {
   "cell_type": "code",
   "execution_count": 145,
   "metadata": {},
   "outputs": [
    {
     "data": {
      "text/plain": [
       "6481"
      ]
     },
     "execution_count": 145,
     "metadata": {},
     "output_type": "execute_result"
    }
   ],
   "source": [
    "# df 문장별로 대명사 성별만 바꾸는 정도로 불려주기\n",
    "import re\n",
    "from itertools import combinations\n",
    "\n",
    "new_df = []\n",
    "switch = {\n",
    "    '소녀':'소년',\n",
    "    '소년':'소녀',\n",
    "    '할머니':'할아버지',\n",
    "    '할아버지':'할머니',\n",
    "    '여자':'남자',\n",
    "    '남자':'여자',\n",
    "    '아주머니':'아저씨',\n",
    "    '아저씨':'아주머니',\n",
    "    '공주':'왕자',\n",
    "    '왕자':'공주'\n",
    "}\n",
    "pattern = re.compile(\"|\".join(switch.keys()))\n",
    "\n",
    "for sentence in df:\n",
    "    key_list = [key for key in switch.keys() if key in sentence]\n",
    "    key_combi = sum([list(combinations(key_list, i+1)) for i in range(len(key_list))], [])  # 1개만 바꾸는 것도 포함\n",
    "    for combi in key_combi:\n",
    "        switch_tmp = {tmp:switch[tmp] for tmp in combi}\n",
    "        pattern_tmp = re.compile(\"|\".join(switch_tmp.keys()))\n",
    "        new_df.append(pattern_tmp.sub(lambda m: switch_tmp[re.escape(m.group(0))], sentence))                 \n",
    "len(new_df)"
   ]
  },
  {
   "cell_type": "code",
   "execution_count": 21,
   "metadata": {},
   "outputs": [],
   "source": [
    "with open('./5sentence_df_gender.txt', 'w') as f:\n",
    "    for sentence in df:\n",
    "        f.write(sentence + '\\n')\n",
    "    for sentence in new_df:\n",
    "        f.write(sentence + '\\n')\n",
    "f.close()"
   ]
  },
  {
   "cell_type": "code",
   "execution_count": 22,
   "metadata": {},
   "outputs": [
    {
     "data": {
      "text/plain": [
       "24556"
      ]
     },
     "execution_count": 22,
     "metadata": {},
     "output_type": "execute_result"
    }
   ],
   "source": [
    "with open('./5sentence_df_gender.txt', encoding=\"utf-8\") as f:\n",
    "    lines = [line for line in f.read().splitlines() if (len(line) > 0 and not line.isspace())]\n",
    "len(lines)"
   ]
  },
  {
   "cell_type": "markdown",
   "metadata": {},
   "source": [
    "NER 시도"
   ]
  },
  {
   "cell_type": "code",
   "execution_count": 1,
   "metadata": {},
   "outputs": [],
   "source": [
    "# from nltk import word_tokenize, pos_tag, ne_chunk\n",
    "# # import nltk\n",
    "\n",
    "# # nltk.download('averaged_perceptron_tagger')\n",
    "# # nltk.download('maxent_ne_chunker')\n",
    "# # nltk.download('words')\n",
    "\n",
    "# ner_list = []\n",
    "# for sentence in df:\n",
    "#     tok = pos_tag(word_tokenize(sentence))\n",
    "#     ner = ne_chunk(tok)\n",
    "#     ner_list.append(ner)\n",
    "# ner_list"
   ]
  },
  {
   "cell_type": "code",
   "execution_count": 2,
   "metadata": {
    "scrolled": true
   },
   "outputs": [],
   "source": [
    "# !pip install spacy\n",
    "# !python -m spacy download en_core_web_sm\n",
    "\n",
    "# import spacy\n",
    "# from collections import Counter\n",
    "# import en_core_web_sm \n",
    "\n",
    "# nlp = en_core_web_sm.load()\n",
    "\n",
    "# for sentence in df:\n",
    "#     doc = nlp(sentence)\n",
    "#     for entity in doc.ents:\n",
    "#         print(f'{entity.text:12} \\t {entity.label_}')"
   ]
  },
  {
   "cell_type": "markdown",
   "metadata": {},
   "source": [
    "색깔 스위칭 애매한 line hand-write\n",
    "\n",
    "**'붉은'** : 17/60 (입술처럼 붉은, 열이 많이 나는구나. 얼굴이 온통 붉은 걸 보니, 붉은 노을 | 얼굴에 붉은 기, 붉은 포도주, 피처럼 붉은, 혈색이 붉은, 붉은 피) : **ok** \\\n",
    "'푸른' : 44/88 (푸른 바다, 푸른 나뭇잎, 바다는 마치 하늘처럼 푸른색, 푸른 풀, 서슬 퍼런, ...) : can't \\\n",
    "**'노란'** : 4/108 (노란 단풍, 노란 달빛, 노란 은행잎 | ) : **ok** \\\n",
    "**'빨간'** : 16/266 (새빨간, 빨간 단풍, 볼이 빨간, 털이 빨간 거야. 그래서 이름도 빨강이야 | 새빨간, 새빨간 피, 빨간 사과) : **ok** \\\n",
    "'파란' : 24/62 (새파란, 파란 강물, 파란 하늘, 파란 잔디, 파란 바다, 파란 새싹, 파란 풀잎, ) : can't \\\n",
    "'누런' : 6/10 (누런 금덩어리, 싯누런 흙탕물, 누런 황소) : can't \\\n",
    "'하얀' : 75/196 (까만 건 글자요, 하얀 건 종이, 하얀 눈, 새하얀 종이, 하얀 쌀알, 하얀 눈, 새하얀 구름, 하얀 초승달, 하얀 백조, ...) : can't \\\n",
    "\n",
    "**'빨강'** : 3/116 (해님이 분홍 빛에서 빨강 빛으로 변하면서, 털이 빨간 거야. 그래서 이름도 빨강이야 | 빨강 뭔가가 튀어나와 뭔지 보니 어머나 이건 진짜 잘 익은 딸기) **ok** \\\n",
    "**'파랑'** : 9/76 (파랑새 | 파랑새) **ok** \\\n",
    "**'노랑'** : 0/50 ( | ) **ok** \\\n",
    "'초록' : 23/212 (초록색 풀, 산이 온통 초록색, 초록색 풀, 초록색 이끼, 초록빛 풀밭, 초록색 나뭇잎, 초록 숲, 초록색 잎사귀 | 상추가 너무도 싱싱하고 초록색, 초록색 이파리, 초록색 잎, 초록의 잡목 숲, 초록색 양배추, 초록색 잎사귀) **적지만 can't** \\\n",
    "**'주황'** : /32 ( | ) **ok**\n",
    "\n",
    "\n",
    "※ 스위칭 대상 : '붉은', '노란', '빨간' | '빨강', '파랑', '노랑', '주황' \\\n",
    "※ '색깔들의 숨은 이야기' : 스위칭X"
   ]
  },
  {
   "cell_type": "markdown",
   "metadata": {},
   "source": [
    "10 sentence per input (성별 + 색깔 switch)"
   ]
  },
  {
   "cell_type": "code",
   "execution_count": 78,
   "metadata": {
    "id": "P-FSLIgkI03y"
   },
   "outputs": [
    {
     "data": {
      "text/plain": [
       "10391"
      ]
     },
     "execution_count": 78,
     "metadata": {},
     "output_type": "execute_result"
    }
   ],
   "source": [
    "# 문장 10개당 하나의 string으로, 5문장씩 겹쳐서 구성\n",
    "df1 = open('동화_본문_합본/동화본문_211223수정.txt', 'r').read()\n",
    "df2 = open('tale.txt', 'r').read()\n",
    "df = []\n",
    "sentence_num = 10\n",
    "shift_num = 5\n",
    "non_switch_title = ['\\n색깔들의 숨은 이야기']\n",
    "non_switch_df = []\n",
    "\n",
    "for i, sentence in enumerate(df1.split('\\n\\n\\n')):\n",
    "    if sentence.split('\\n\\n')[0] in non_switch_title:\n",
    "        story = sentence.split('\\n\\n')[1].split('\\n')\n",
    "        while len(story) > 10:\n",
    "            non_switch_df.append(\" \".join(story[:sentence_num]))\n",
    "            story = story[shift_num:]\n",
    "        if story:\n",
    "            non_switch_df.append(\" \".join(story[:sentence_num]))\n",
    "        continue\n",
    "    story = sentence.split('\\n\\n')[1].split('\\n')\n",
    "    while len(story) > 10:\n",
    "        df.append(\" \".join(story[:sentence_num]))\n",
    "        story = story[shift_num:]\n",
    "    if story:\n",
    "        df.append(\" \".join(story[:sentence_num]))\n",
    "for i in df2.split('\\n\\n'):\n",
    "    story = i.split('\\n')\n",
    "    while len(story) > 10:\n",
    "        df.append(\" \".join(story[:sentence_num]))\n",
    "        story = story[shift_num:]\n",
    "    if story:\n",
    "        df.append(\" \".join(story[:sentence_num]))\n",
    "len(df)"
   ]
  },
  {
   "cell_type": "code",
   "execution_count": 79,
   "metadata": {},
   "outputs": [
    {
     "data": {
      "text/plain": [
       "24"
      ]
     },
     "execution_count": 79,
     "metadata": {},
     "output_type": "execute_result"
    }
   ],
   "source": [
    "len(non_switch_df)"
   ]
  },
  {
   "cell_type": "code",
   "execution_count": 80,
   "metadata": {},
   "outputs": [
    {
     "data": {
      "text/plain": [
       "19766"
      ]
     },
     "execution_count": 80,
     "metadata": {},
     "output_type": "execute_result"
    }
   ],
   "source": [
    "# df 문장별로 대명사 성별, 색깔 바꿔서 불려주기\n",
    "import re\n",
    "from itertools import combinations, product\n",
    "\n",
    "new_df = []\n",
    "switch_keys = ['소녀', '소년', '할머니', '할아버지', '여자', '남자','아주머니', '아저씨', '공주', '왕자',\n",
    "               '붉은', '노란', '빨간', '빨강', '파랑', '노랑', '주황']\n",
    "# genders = ['소녀', '소년', '할머니', '할아버지', '여자', '남자','아주머니', '아저씨', '공주', '왕자']\n",
    "colors = {\n",
    "    '붉은':['노란','빨간'],\n",
    "    '노란':['붉은','빨간'],\n",
    "    '빨간':['붉은','노란'],\n",
    "    '빨강':['파랑','노랑','주황'],\n",
    "    '파랑':['빨강','노랑','주황'],\n",
    "    '노랑':['빨강','파랑','주황'],\n",
    "    '주황':['빨강','파랑','노랑']\n",
    "}\n",
    "colors_combi = list(product(colors['붉은'], colors['노란'], colors['빨간'],\n",
    "                            colors['빨강'], colors['파랑'], colors['노랑'], colors['주황']))\n",
    "\n",
    "for sentence in df:\n",
    "    key_list = [key for key in switch_keys if key in sentence]\n",
    "    key_combi = sum([list(combinations(key_list, i+1)) for i in range(2,len(key_list),1)], [])  # 3개 이상 변경만 포함\n",
    "    new_sentence = sentence[:]\n",
    "    for combi in key_combi:\n",
    "        for color in colors_combi:\n",
    "            switch = {\n",
    "                '소녀':'소년',\n",
    "                '소년':'소녀',\n",
    "                '할머니':'할아버지',\n",
    "                '할아버지':'할머니',\n",
    "                '여자':'남자',\n",
    "                '남자':'여자',\n",
    "                '아주머니':'아저씨',\n",
    "                '아저씨':'아주머니',\n",
    "                '공주':'왕자',\n",
    "                '왕자':'공주',\n",
    "\n",
    "                '붉은':color[0],\n",
    "                '노란':color[1],\n",
    "                '빨간':color[2],\n",
    "                '빨강':color[3],\n",
    "                '파랑':color[4],\n",
    "                '노랑':color[5],\n",
    "                '주황':color[6]\n",
    "            }\n",
    "            switch_tmp = {tmp:switch[tmp] for tmp in combi}\n",
    "            pattern_tmp = re.compile(\"|\".join(switch_tmp.keys()))\n",
    "#             if not all(i in genders for i in combi):\n",
    "            if new_sentence != pattern_tmp.sub(lambda m: switch_tmp[re.escape(m.group(0))], sentence):\n",
    "                new_sentence = pattern_tmp.sub(lambda m: switch_tmp[re.escape(m.group(0))], sentence)\n",
    "                new_df.append(new_sentence)\n",
    "len(new_df)"
   ]
  },
  {
   "cell_type": "code",
   "execution_count": 82,
   "metadata": {},
   "outputs": [],
   "source": [
    "new_df.extend(non_switch_df)"
   ]
  },
  {
   "cell_type": "code",
   "execution_count": 83,
   "metadata": {},
   "outputs": [
    {
     "data": {
      "text/plain": [
       "19790"
      ]
     },
     "execution_count": 83,
     "metadata": {},
     "output_type": "execute_result"
    }
   ],
   "source": [
    "len(new_df)"
   ]
  },
  {
   "cell_type": "code",
   "execution_count": 76,
   "metadata": {},
   "outputs": [],
   "source": [
    "with open('./10sentence_df_gender+color.txt', 'w') as f:\n",
    "    for sentence in df:\n",
    "        f.write(sentence + '\\n')\n",
    "    for sentence in new_df:\n",
    "        f.write(sentence + '\\n')\n",
    "f.close()"
   ]
  },
  {
   "cell_type": "code",
   "execution_count": 84,
   "metadata": {},
   "outputs": [
    {
     "data": {
      "text/plain": [
       "30181"
      ]
     },
     "execution_count": 84,
     "metadata": {},
     "output_type": "execute_result"
    }
   ],
   "source": [
    "with open('./10sentence_df_gender+color.txt', encoding=\"utf-8\") as f:\n",
    "    lines = [line for line in f.read().splitlines() if (len(line) > 0 and not line.isspace())]\n",
    "len(lines)"
   ]
  },
  {
   "cell_type": "code",
   "execution_count": null,
   "metadata": {},
   "outputs": [],
   "source": []
  }
 ],
 "metadata": {
  "accelerator": "GPU",
  "colab": {
   "authorship_tag": "ABX9TyN2KcvLxuT3W0OHkI4TulIF",
   "collapsed_sections": [],
   "machine_shape": "hm",
   "name": "kogpt1-0.ipynb",
   "provenance": []
  },
  "kernelspec": {
   "display_name": "Python 3 (ipykernel)",
   "language": "python",
   "name": "python3"
  },
  "language_info": {
   "codemirror_mode": {
    "name": "ipython",
    "version": 3
   },
   "file_extension": ".py",
   "mimetype": "text/x-python",
   "name": "python",
   "nbconvert_exporter": "python",
   "pygments_lexer": "ipython3",
   "version": "3.9.7"
  },
  "widgets": {
   "application/vnd.jupyter.widget-state+json": {
    "0056026cf9ea43c5805caac248151b1f": {
     "model_module": "@jupyter-widgets/controls",
     "model_module_version": "1.5.0",
     "model_name": "DescriptionStyleModel",
     "state": {
      "_model_module": "@jupyter-widgets/controls",
      "_model_module_version": "1.5.0",
      "_model_name": "DescriptionStyleModel",
      "_view_count": null,
      "_view_module": "@jupyter-widgets/base",
      "_view_module_version": "1.2.0",
      "_view_name": "StyleView",
      "description_width": ""
     }
    },
    "02b01b09c752443faebc7fb5d8045702": {
     "model_module": "@jupyter-widgets/controls",
     "model_module_version": "1.5.0",
     "model_name": "ProgressStyleModel",
     "state": {
      "_model_module": "@jupyter-widgets/controls",
      "_model_module_version": "1.5.0",
      "_model_name": "ProgressStyleModel",
      "_view_count": null,
      "_view_module": "@jupyter-widgets/base",
      "_view_module_version": "1.2.0",
      "_view_name": "StyleView",
      "bar_color": null,
      "description_width": ""
     }
    },
    "03da52f66ea64663a928102c81741a51": {
     "model_module": "@jupyter-widgets/controls",
     "model_module_version": "1.5.0",
     "model_name": "DescriptionStyleModel",
     "state": {
      "_model_module": "@jupyter-widgets/controls",
      "_model_module_version": "1.5.0",
      "_model_name": "DescriptionStyleModel",
      "_view_count": null,
      "_view_module": "@jupyter-widgets/base",
      "_view_module_version": "1.2.0",
      "_view_name": "StyleView",
      "description_width": ""
     }
    },
    "0517d2fc027748b9ac36e6893bad7e15": {
     "model_module": "@jupyter-widgets/controls",
     "model_module_version": "1.5.0",
     "model_name": "HTMLModel",
     "state": {
      "_dom_classes": [],
      "_model_module": "@jupyter-widgets/controls",
      "_model_module_version": "1.5.0",
      "_model_name": "HTMLModel",
      "_view_count": null,
      "_view_module": "@jupyter-widgets/controls",
      "_view_module_version": "1.5.0",
      "_view_name": "HTMLView",
      "description": "",
      "description_tooltip": null,
      "layout": "IPY_MODEL_5e28f5a3d29244ef996a2f170e2768e5",
      "placeholder": "​",
      "style": "IPY_MODEL_0ef63baa34c343e09659ca06a7ab3774",
      "value": "Downloading: 100%"
     }
    },
    "0c4b9fe6200c4b8984ebc40330f74e7a": {
     "model_module": "@jupyter-widgets/controls",
     "model_module_version": "1.5.0",
     "model_name": "ProgressStyleModel",
     "state": {
      "_model_module": "@jupyter-widgets/controls",
      "_model_module_version": "1.5.0",
      "_model_name": "ProgressStyleModel",
      "_view_count": null,
      "_view_module": "@jupyter-widgets/base",
      "_view_module_version": "1.2.0",
      "_view_name": "StyleView",
      "bar_color": null,
      "description_width": ""
     }
    },
    "0ef63baa34c343e09659ca06a7ab3774": {
     "model_module": "@jupyter-widgets/controls",
     "model_module_version": "1.5.0",
     "model_name": "DescriptionStyleModel",
     "state": {
      "_model_module": "@jupyter-widgets/controls",
      "_model_module_version": "1.5.0",
      "_model_name": "DescriptionStyleModel",
      "_view_count": null,
      "_view_module": "@jupyter-widgets/base",
      "_view_module_version": "1.2.0",
      "_view_name": "StyleView",
      "description_width": ""
     }
    },
    "0f771bafdb304b6da96dfbd76856a9c1": {
     "model_module": "@jupyter-widgets/controls",
     "model_module_version": "1.5.0",
     "model_name": "HTMLModel",
     "state": {
      "_dom_classes": [],
      "_model_module": "@jupyter-widgets/controls",
      "_model_module_version": "1.5.0",
      "_model_name": "HTMLModel",
      "_view_count": null,
      "_view_module": "@jupyter-widgets/controls",
      "_view_module_version": "1.5.0",
      "_view_name": "HTMLView",
      "description": "",
      "description_tooltip": null,
      "layout": "IPY_MODEL_96af54e5aeba41ab8dddd07ecdb6124e",
      "placeholder": "​",
      "style": "IPY_MODEL_2fca4bf14b7449099c846952e5b9539a",
      "value": "Downloading: 100%"
     }
    },
    "0fb9ad6d1585442cab2061dd490b4923": {
     "model_module": "@jupyter-widgets/controls",
     "model_module_version": "1.5.0",
     "model_name": "HBoxModel",
     "state": {
      "_dom_classes": [],
      "_model_module": "@jupyter-widgets/controls",
      "_model_module_version": "1.5.0",
      "_model_name": "HBoxModel",
      "_view_count": null,
      "_view_module": "@jupyter-widgets/controls",
      "_view_module_version": "1.5.0",
      "_view_name": "HBoxView",
      "box_style": "",
      "children": [
       "IPY_MODEL_87311568965a4280a19d19a29f8c5d80",
       "IPY_MODEL_8d6f41be3c6a45b1bffcf8e718389736",
       "IPY_MODEL_3d565264d89d4d0c9a96bd875024ad6d"
      ],
      "layout": "IPY_MODEL_4ba52bb3d5a640bd872731ced7e358c3"
     }
    },
    "1346c0f9413342f0b69cf1e98c8b9f9c": {
     "model_module": "@jupyter-widgets/base",
     "model_module_version": "1.2.0",
     "model_name": "LayoutModel",
     "state": {
      "_model_module": "@jupyter-widgets/base",
      "_model_module_version": "1.2.0",
      "_model_name": "LayoutModel",
      "_view_count": null,
      "_view_module": "@jupyter-widgets/base",
      "_view_module_version": "1.2.0",
      "_view_name": "LayoutView",
      "align_content": null,
      "align_items": null,
      "align_self": null,
      "border": null,
      "bottom": null,
      "display": null,
      "flex": null,
      "flex_flow": null,
      "grid_area": null,
      "grid_auto_columns": null,
      "grid_auto_flow": null,
      "grid_auto_rows": null,
      "grid_column": null,
      "grid_gap": null,
      "grid_row": null,
      "grid_template_areas": null,
      "grid_template_columns": null,
      "grid_template_rows": null,
      "height": null,
      "justify_content": null,
      "justify_items": null,
      "left": null,
      "margin": null,
      "max_height": null,
      "max_width": null,
      "min_height": null,
      "min_width": null,
      "object_fit": null,
      "object_position": null,
      "order": null,
      "overflow": null,
      "overflow_x": null,
      "overflow_y": null,
      "padding": null,
      "right": null,
      "top": null,
      "visibility": null,
      "width": null
     }
    },
    "18554930c1274446acce84b4c6177012": {
     "model_module": "@jupyter-widgets/controls",
     "model_module_version": "1.5.0",
     "model_name": "FloatProgressModel",
     "state": {
      "_dom_classes": [],
      "_model_module": "@jupyter-widgets/controls",
      "_model_module_version": "1.5.0",
      "_model_name": "FloatProgressModel",
      "_view_count": null,
      "_view_module": "@jupyter-widgets/controls",
      "_view_module_version": "1.5.0",
      "_view_name": "ProgressView",
      "bar_style": "success",
      "description": "",
      "description_tooltip": null,
      "layout": "IPY_MODEL_4060998860344ff79cd15c410c4c61ce",
      "max": 3247202234,
      "min": 0,
      "orientation": "horizontal",
      "style": "IPY_MODEL_02b01b09c752443faebc7fb5d8045702",
      "value": 3247202234
     }
    },
    "1b0620994bd04203b526eb09e7c8fde0": {
     "model_module": "@jupyter-widgets/controls",
     "model_module_version": "1.5.0",
     "model_name": "HBoxModel",
     "state": {
      "_dom_classes": [],
      "_model_module": "@jupyter-widgets/controls",
      "_model_module_version": "1.5.0",
      "_model_name": "HBoxModel",
      "_view_count": null,
      "_view_module": "@jupyter-widgets/controls",
      "_view_module_version": "1.5.0",
      "_view_name": "HBoxView",
      "box_style": "",
      "children": [
       "IPY_MODEL_0f771bafdb304b6da96dfbd76856a9c1",
       "IPY_MODEL_36c4e554e03f451b883dba22ae249890",
       "IPY_MODEL_e02aa2ffef8f4c73866cd64d71ea8939"
      ],
      "layout": "IPY_MODEL_51ecf5d4746e4f53a2fd1ed368b0cb75"
     }
    },
    "2221ccb6183b47ccbadba6212dcf4422": {
     "model_module": "@jupyter-widgets/controls",
     "model_module_version": "1.5.0",
     "model_name": "HBoxModel",
     "state": {
      "_dom_classes": [],
      "_model_module": "@jupyter-widgets/controls",
      "_model_module_version": "1.5.0",
      "_model_name": "HBoxModel",
      "_view_count": null,
      "_view_module": "@jupyter-widgets/controls",
      "_view_module_version": "1.5.0",
      "_view_name": "HBoxView",
      "box_style": "",
      "children": [
       "IPY_MODEL_0517d2fc027748b9ac36e6893bad7e15",
       "IPY_MODEL_18554930c1274446acce84b4c6177012",
       "IPY_MODEL_743f062246994af5b8dfdc60b4b3066b"
      ],
      "layout": "IPY_MODEL_1346c0f9413342f0b69cf1e98c8b9f9c"
     }
    },
    "2ba487bc7f4c46c1a87a9146deb90047": {
     "model_module": "@jupyter-widgets/base",
     "model_module_version": "1.2.0",
     "model_name": "LayoutModel",
     "state": {
      "_model_module": "@jupyter-widgets/base",
      "_model_module_version": "1.2.0",
      "_model_name": "LayoutModel",
      "_view_count": null,
      "_view_module": "@jupyter-widgets/base",
      "_view_module_version": "1.2.0",
      "_view_name": "LayoutView",
      "align_content": null,
      "align_items": null,
      "align_self": null,
      "border": null,
      "bottom": null,
      "display": null,
      "flex": null,
      "flex_flow": null,
      "grid_area": null,
      "grid_auto_columns": null,
      "grid_auto_flow": null,
      "grid_auto_rows": null,
      "grid_column": null,
      "grid_gap": null,
      "grid_row": null,
      "grid_template_areas": null,
      "grid_template_columns": null,
      "grid_template_rows": null,
      "height": null,
      "justify_content": null,
      "justify_items": null,
      "left": null,
      "margin": null,
      "max_height": null,
      "max_width": null,
      "min_height": null,
      "min_width": null,
      "object_fit": null,
      "object_position": null,
      "order": null,
      "overflow": null,
      "overflow_x": null,
      "overflow_y": null,
      "padding": null,
      "right": null,
      "top": null,
      "visibility": null,
      "width": null
     }
    },
    "2fca4bf14b7449099c846952e5b9539a": {
     "model_module": "@jupyter-widgets/controls",
     "model_module_version": "1.5.0",
     "model_name": "DescriptionStyleModel",
     "state": {
      "_model_module": "@jupyter-widgets/controls",
      "_model_module_version": "1.5.0",
      "_model_name": "DescriptionStyleModel",
      "_view_count": null,
      "_view_module": "@jupyter-widgets/base",
      "_view_module_version": "1.2.0",
      "_view_name": "StyleView",
      "description_width": ""
     }
    },
    "30de6c1fa8e14a4393193c3b035ed906": {
     "model_module": "@jupyter-widgets/controls",
     "model_module_version": "1.5.0",
     "model_name": "ProgressStyleModel",
     "state": {
      "_model_module": "@jupyter-widgets/controls",
      "_model_module_version": "1.5.0",
      "_model_name": "ProgressStyleModel",
      "_view_count": null,
      "_view_module": "@jupyter-widgets/base",
      "_view_module_version": "1.2.0",
      "_view_name": "StyleView",
      "bar_color": null,
      "description_width": ""
     }
    },
    "3504a99091ed47a29d32901af129a1ff": {
     "model_module": "@jupyter-widgets/controls",
     "model_module_version": "1.5.0",
     "model_name": "HBoxModel",
     "state": {
      "_dom_classes": [],
      "_model_module": "@jupyter-widgets/controls",
      "_model_module_version": "1.5.0",
      "_model_name": "HBoxModel",
      "_view_count": null,
      "_view_module": "@jupyter-widgets/controls",
      "_view_module_version": "1.5.0",
      "_view_name": "HBoxView",
      "box_style": "",
      "children": [
       "IPY_MODEL_9ac55c969f5c4d65a34c1fb6c336e1b6",
       "IPY_MODEL_369b799cf1954db0bc1f723726007d40",
       "IPY_MODEL_df881ba3b4b542649f9f8591fa79df47"
      ],
      "layout": "IPY_MODEL_71c7966a3d7c49b4b29b755d84c9797c"
     }
    },
    "369b799cf1954db0bc1f723726007d40": {
     "model_module": "@jupyter-widgets/controls",
     "model_module_version": "1.5.0",
     "model_name": "FloatProgressModel",
     "state": {
      "_dom_classes": [],
      "_model_module": "@jupyter-widgets/controls",
      "_model_module_version": "1.5.0",
      "_model_name": "FloatProgressModel",
      "_view_count": null,
      "_view_module": "@jupyter-widgets/controls",
      "_view_module_version": "1.5.0",
      "_view_name": "ProgressView",
      "bar_style": "success",
      "description": "",
      "description_tooltip": null,
      "layout": "IPY_MODEL_ebef29421c2949429a311bf0e814cae7",
      "max": 1355256,
      "min": 0,
      "orientation": "horizontal",
      "style": "IPY_MODEL_f9e5855e18d44ee99f165d111673b532",
      "value": 1355256
     }
    },
    "36c4e554e03f451b883dba22ae249890": {
     "model_module": "@jupyter-widgets/controls",
     "model_module_version": "1.5.0",
     "model_name": "FloatProgressModel",
     "state": {
      "_dom_classes": [],
      "_model_module": "@jupyter-widgets/controls",
      "_model_module_version": "1.5.0",
      "_model_name": "FloatProgressModel",
      "_view_count": null,
      "_view_module": "@jupyter-widgets/controls",
      "_view_module_version": "1.5.0",
      "_view_name": "ProgressView",
      "bar_style": "success",
      "description": "",
      "description_tooltip": null,
      "layout": "IPY_MODEL_669eb38745674272a58b915ce5cb2e70",
      "max": 666,
      "min": 0,
      "orientation": "horizontal",
      "style": "IPY_MODEL_30de6c1fa8e14a4393193c3b035ed906",
      "value": 666
     }
    },
    "377205b8e2514deea922f8ad3c15814a": {
     "model_module": "@jupyter-widgets/base",
     "model_module_version": "1.2.0",
     "model_name": "LayoutModel",
     "state": {
      "_model_module": "@jupyter-widgets/base",
      "_model_module_version": "1.2.0",
      "_model_name": "LayoutModel",
      "_view_count": null,
      "_view_module": "@jupyter-widgets/base",
      "_view_module_version": "1.2.0",
      "_view_name": "LayoutView",
      "align_content": null,
      "align_items": null,
      "align_self": null,
      "border": null,
      "bottom": null,
      "display": null,
      "flex": null,
      "flex_flow": null,
      "grid_area": null,
      "grid_auto_columns": null,
      "grid_auto_flow": null,
      "grid_auto_rows": null,
      "grid_column": null,
      "grid_gap": null,
      "grid_row": null,
      "grid_template_areas": null,
      "grid_template_columns": null,
      "grid_template_rows": null,
      "height": null,
      "justify_content": null,
      "justify_items": null,
      "left": null,
      "margin": null,
      "max_height": null,
      "max_width": null,
      "min_height": null,
      "min_width": null,
      "object_fit": null,
      "object_position": null,
      "order": null,
      "overflow": null,
      "overflow_x": null,
      "overflow_y": null,
      "padding": null,
      "right": null,
      "top": null,
      "visibility": null,
      "width": null
     }
    },
    "3d565264d89d4d0c9a96bd875024ad6d": {
     "model_module": "@jupyter-widgets/controls",
     "model_module_version": "1.5.0",
     "model_name": "HTMLModel",
     "state": {
      "_dom_classes": [],
      "_model_module": "@jupyter-widgets/controls",
      "_model_module_version": "1.5.0",
      "_model_name": "HTMLModel",
      "_view_count": null,
      "_view_module": "@jupyter-widgets/controls",
      "_view_module_version": "1.5.0",
      "_view_name": "HTMLView",
      "description": "",
      "description_tooltip": null,
      "layout": "IPY_MODEL_2ba487bc7f4c46c1a87a9146deb90047",
      "placeholder": "​",
      "style": "IPY_MODEL_d24c0a093d91434e85c08da0490fff4f",
      "value": " 446k/446k [00:00&lt;00:00, 971kB/s]"
     }
    },
    "4060998860344ff79cd15c410c4c61ce": {
     "model_module": "@jupyter-widgets/base",
     "model_module_version": "1.2.0",
     "model_name": "LayoutModel",
     "state": {
      "_model_module": "@jupyter-widgets/base",
      "_model_module_version": "1.2.0",
      "_model_name": "LayoutModel",
      "_view_count": null,
      "_view_module": "@jupyter-widgets/base",
      "_view_module_version": "1.2.0",
      "_view_name": "LayoutView",
      "align_content": null,
      "align_items": null,
      "align_self": null,
      "border": null,
      "bottom": null,
      "display": null,
      "flex": null,
      "flex_flow": null,
      "grid_area": null,
      "grid_auto_columns": null,
      "grid_auto_flow": null,
      "grid_auto_rows": null,
      "grid_column": null,
      "grid_gap": null,
      "grid_row": null,
      "grid_template_areas": null,
      "grid_template_columns": null,
      "grid_template_rows": null,
      "height": null,
      "justify_content": null,
      "justify_items": null,
      "left": null,
      "margin": null,
      "max_height": null,
      "max_width": null,
      "min_height": null,
      "min_width": null,
      "object_fit": null,
      "object_position": null,
      "order": null,
      "overflow": null,
      "overflow_x": null,
      "overflow_y": null,
      "padding": null,
      "right": null,
      "top": null,
      "visibility": null,
      "width": null
     }
    },
    "432efcf83a8d4df6b3bb00259ca542d2": {
     "model_module": "@jupyter-widgets/base",
     "model_module_version": "1.2.0",
     "model_name": "LayoutModel",
     "state": {
      "_model_module": "@jupyter-widgets/base",
      "_model_module_version": "1.2.0",
      "_model_name": "LayoutModel",
      "_view_count": null,
      "_view_module": "@jupyter-widgets/base",
      "_view_module_version": "1.2.0",
      "_view_name": "LayoutView",
      "align_content": null,
      "align_items": null,
      "align_self": null,
      "border": null,
      "bottom": null,
      "display": null,
      "flex": null,
      "flex_flow": null,
      "grid_area": null,
      "grid_auto_columns": null,
      "grid_auto_flow": null,
      "grid_auto_rows": null,
      "grid_column": null,
      "grid_gap": null,
      "grid_row": null,
      "grid_template_areas": null,
      "grid_template_columns": null,
      "grid_template_rows": null,
      "height": null,
      "justify_content": null,
      "justify_items": null,
      "left": null,
      "margin": null,
      "max_height": null,
      "max_width": null,
      "min_height": null,
      "min_width": null,
      "object_fit": null,
      "object_position": null,
      "order": null,
      "overflow": null,
      "overflow_x": null,
      "overflow_y": null,
      "padding": null,
      "right": null,
      "top": null,
      "visibility": null,
      "width": null
     }
    },
    "4560bd3de4c741feaee642f8bd595253": {
     "model_module": "@jupyter-widgets/base",
     "model_module_version": "1.2.0",
     "model_name": "LayoutModel",
     "state": {
      "_model_module": "@jupyter-widgets/base",
      "_model_module_version": "1.2.0",
      "_model_name": "LayoutModel",
      "_view_count": null,
      "_view_module": "@jupyter-widgets/base",
      "_view_module_version": "1.2.0",
      "_view_name": "LayoutView",
      "align_content": null,
      "align_items": null,
      "align_self": null,
      "border": null,
      "bottom": null,
      "display": null,
      "flex": null,
      "flex_flow": null,
      "grid_area": null,
      "grid_auto_columns": null,
      "grid_auto_flow": null,
      "grid_auto_rows": null,
      "grid_column": null,
      "grid_gap": null,
      "grid_row": null,
      "grid_template_areas": null,
      "grid_template_columns": null,
      "grid_template_rows": null,
      "height": null,
      "justify_content": null,
      "justify_items": null,
      "left": null,
      "margin": null,
      "max_height": null,
      "max_width": null,
      "min_height": null,
      "min_width": null,
      "object_fit": null,
      "object_position": null,
      "order": null,
      "overflow": null,
      "overflow_x": null,
      "overflow_y": null,
      "padding": null,
      "right": null,
      "top": null,
      "visibility": null,
      "width": null
     }
    },
    "48932ccf80e14ec78c7b3c7b187191d8": {
     "model_module": "@jupyter-widgets/controls",
     "model_module_version": "1.5.0",
     "model_name": "DescriptionStyleModel",
     "state": {
      "_model_module": "@jupyter-widgets/controls",
      "_model_module_version": "1.5.0",
      "_model_name": "DescriptionStyleModel",
      "_view_count": null,
      "_view_module": "@jupyter-widgets/base",
      "_view_module_version": "1.2.0",
      "_view_name": "StyleView",
      "description_width": ""
     }
    },
    "4ba52bb3d5a640bd872731ced7e358c3": {
     "model_module": "@jupyter-widgets/base",
     "model_module_version": "1.2.0",
     "model_name": "LayoutModel",
     "state": {
      "_model_module": "@jupyter-widgets/base",
      "_model_module_version": "1.2.0",
      "_model_name": "LayoutModel",
      "_view_count": null,
      "_view_module": "@jupyter-widgets/base",
      "_view_module_version": "1.2.0",
      "_view_name": "LayoutView",
      "align_content": null,
      "align_items": null,
      "align_self": null,
      "border": null,
      "bottom": null,
      "display": null,
      "flex": null,
      "flex_flow": null,
      "grid_area": null,
      "grid_auto_columns": null,
      "grid_auto_flow": null,
      "grid_auto_rows": null,
      "grid_column": null,
      "grid_gap": null,
      "grid_row": null,
      "grid_template_areas": null,
      "grid_template_columns": null,
      "grid_template_rows": null,
      "height": null,
      "justify_content": null,
      "justify_items": null,
      "left": null,
      "margin": null,
      "max_height": null,
      "max_width": null,
      "min_height": null,
      "min_width": null,
      "object_fit": null,
      "object_position": null,
      "order": null,
      "overflow": null,
      "overflow_x": null,
      "overflow_y": null,
      "padding": null,
      "right": null,
      "top": null,
      "visibility": null,
      "width": null
     }
    },
    "51ecf5d4746e4f53a2fd1ed368b0cb75": {
     "model_module": "@jupyter-widgets/base",
     "model_module_version": "1.2.0",
     "model_name": "LayoutModel",
     "state": {
      "_model_module": "@jupyter-widgets/base",
      "_model_module_version": "1.2.0",
      "_model_name": "LayoutModel",
      "_view_count": null,
      "_view_module": "@jupyter-widgets/base",
      "_view_module_version": "1.2.0",
      "_view_name": "LayoutView",
      "align_content": null,
      "align_items": null,
      "align_self": null,
      "border": null,
      "bottom": null,
      "display": null,
      "flex": null,
      "flex_flow": null,
      "grid_area": null,
      "grid_auto_columns": null,
      "grid_auto_flow": null,
      "grid_auto_rows": null,
      "grid_column": null,
      "grid_gap": null,
      "grid_row": null,
      "grid_template_areas": null,
      "grid_template_columns": null,
      "grid_template_rows": null,
      "height": null,
      "justify_content": null,
      "justify_items": null,
      "left": null,
      "margin": null,
      "max_height": null,
      "max_width": null,
      "min_height": null,
      "min_width": null,
      "object_fit": null,
      "object_position": null,
      "order": null,
      "overflow": null,
      "overflow_x": null,
      "overflow_y": null,
      "padding": null,
      "right": null,
      "top": null,
      "visibility": null,
      "width": null
     }
    },
    "5866f571a1fa460fae704d100ecebb35": {
     "model_module": "@jupyter-widgets/controls",
     "model_module_version": "1.5.0",
     "model_name": "HTMLModel",
     "state": {
      "_dom_classes": [],
      "_model_module": "@jupyter-widgets/controls",
      "_model_module_version": "1.5.0",
      "_model_name": "HTMLModel",
      "_view_count": null,
      "_view_module": "@jupyter-widgets/controls",
      "_view_module_version": "1.5.0",
      "_view_name": "HTMLView",
      "description": "",
      "description_tooltip": null,
      "layout": "IPY_MODEL_e96791ed54c644f0802714dad8a6322f",
      "placeholder": "​",
      "style": "IPY_MODEL_cb42ec78624d4b2e818f823f000d27e0",
      "value": "Downloading: 100%"
     }
    },
    "5bd1d89e4a104f478533193fd79664b8": {
     "model_module": "@jupyter-widgets/base",
     "model_module_version": "1.2.0",
     "model_name": "LayoutModel",
     "state": {
      "_model_module": "@jupyter-widgets/base",
      "_model_module_version": "1.2.0",
      "_model_name": "LayoutModel",
      "_view_count": null,
      "_view_module": "@jupyter-widgets/base",
      "_view_module_version": "1.2.0",
      "_view_name": "LayoutView",
      "align_content": null,
      "align_items": null,
      "align_self": null,
      "border": null,
      "bottom": null,
      "display": null,
      "flex": null,
      "flex_flow": null,
      "grid_area": null,
      "grid_auto_columns": null,
      "grid_auto_flow": null,
      "grid_auto_rows": null,
      "grid_column": null,
      "grid_gap": null,
      "grid_row": null,
      "grid_template_areas": null,
      "grid_template_columns": null,
      "grid_template_rows": null,
      "height": null,
      "justify_content": null,
      "justify_items": null,
      "left": null,
      "margin": null,
      "max_height": null,
      "max_width": null,
      "min_height": null,
      "min_width": null,
      "object_fit": null,
      "object_position": null,
      "order": null,
      "overflow": null,
      "overflow_x": null,
      "overflow_y": null,
      "padding": null,
      "right": null,
      "top": null,
      "visibility": null,
      "width": null
     }
    },
    "5e28f5a3d29244ef996a2f170e2768e5": {
     "model_module": "@jupyter-widgets/base",
     "model_module_version": "1.2.0",
     "model_name": "LayoutModel",
     "state": {
      "_model_module": "@jupyter-widgets/base",
      "_model_module_version": "1.2.0",
      "_model_name": "LayoutModel",
      "_view_count": null,
      "_view_module": "@jupyter-widgets/base",
      "_view_module_version": "1.2.0",
      "_view_name": "LayoutView",
      "align_content": null,
      "align_items": null,
      "align_self": null,
      "border": null,
      "bottom": null,
      "display": null,
      "flex": null,
      "flex_flow": null,
      "grid_area": null,
      "grid_auto_columns": null,
      "grid_auto_flow": null,
      "grid_auto_rows": null,
      "grid_column": null,
      "grid_gap": null,
      "grid_row": null,
      "grid_template_areas": null,
      "grid_template_columns": null,
      "grid_template_rows": null,
      "height": null,
      "justify_content": null,
      "justify_items": null,
      "left": null,
      "margin": null,
      "max_height": null,
      "max_width": null,
      "min_height": null,
      "min_width": null,
      "object_fit": null,
      "object_position": null,
      "order": null,
      "overflow": null,
      "overflow_x": null,
      "overflow_y": null,
      "padding": null,
      "right": null,
      "top": null,
      "visibility": null,
      "width": null
     }
    },
    "60847f5e5b0f4be29d3bb5056732c410": {
     "model_module": "@jupyter-widgets/base",
     "model_module_version": "1.2.0",
     "model_name": "LayoutModel",
     "state": {
      "_model_module": "@jupyter-widgets/base",
      "_model_module_version": "1.2.0",
      "_model_name": "LayoutModel",
      "_view_count": null,
      "_view_module": "@jupyter-widgets/base",
      "_view_module_version": "1.2.0",
      "_view_name": "LayoutView",
      "align_content": null,
      "align_items": null,
      "align_self": null,
      "border": null,
      "bottom": null,
      "display": null,
      "flex": null,
      "flex_flow": null,
      "grid_area": null,
      "grid_auto_columns": null,
      "grid_auto_flow": null,
      "grid_auto_rows": null,
      "grid_column": null,
      "grid_gap": null,
      "grid_row": null,
      "grid_template_areas": null,
      "grid_template_columns": null,
      "grid_template_rows": null,
      "height": null,
      "justify_content": null,
      "justify_items": null,
      "left": null,
      "margin": null,
      "max_height": null,
      "max_width": null,
      "min_height": null,
      "min_width": null,
      "object_fit": null,
      "object_position": null,
      "order": null,
      "overflow": null,
      "overflow_x": null,
      "overflow_y": null,
      "padding": null,
      "right": null,
      "top": null,
      "visibility": null,
      "width": null
     }
    },
    "669eb38745674272a58b915ce5cb2e70": {
     "model_module": "@jupyter-widgets/base",
     "model_module_version": "1.2.0",
     "model_name": "LayoutModel",
     "state": {
      "_model_module": "@jupyter-widgets/base",
      "_model_module_version": "1.2.0",
      "_model_name": "LayoutModel",
      "_view_count": null,
      "_view_module": "@jupyter-widgets/base",
      "_view_module_version": "1.2.0",
      "_view_name": "LayoutView",
      "align_content": null,
      "align_items": null,
      "align_self": null,
      "border": null,
      "bottom": null,
      "display": null,
      "flex": null,
      "flex_flow": null,
      "grid_area": null,
      "grid_auto_columns": null,
      "grid_auto_flow": null,
      "grid_auto_rows": null,
      "grid_column": null,
      "grid_gap": null,
      "grid_row": null,
      "grid_template_areas": null,
      "grid_template_columns": null,
      "grid_template_rows": null,
      "height": null,
      "justify_content": null,
      "justify_items": null,
      "left": null,
      "margin": null,
      "max_height": null,
      "max_width": null,
      "min_height": null,
      "min_width": null,
      "object_fit": null,
      "object_position": null,
      "order": null,
      "overflow": null,
      "overflow_x": null,
      "overflow_y": null,
      "padding": null,
      "right": null,
      "top": null,
      "visibility": null,
      "width": null
     }
    },
    "71c7966a3d7c49b4b29b755d84c9797c": {
     "model_module": "@jupyter-widgets/base",
     "model_module_version": "1.2.0",
     "model_name": "LayoutModel",
     "state": {
      "_model_module": "@jupyter-widgets/base",
      "_model_module_version": "1.2.0",
      "_model_name": "LayoutModel",
      "_view_count": null,
      "_view_module": "@jupyter-widgets/base",
      "_view_module_version": "1.2.0",
      "_view_name": "LayoutView",
      "align_content": null,
      "align_items": null,
      "align_self": null,
      "border": null,
      "bottom": null,
      "display": null,
      "flex": null,
      "flex_flow": null,
      "grid_area": null,
      "grid_auto_columns": null,
      "grid_auto_flow": null,
      "grid_auto_rows": null,
      "grid_column": null,
      "grid_gap": null,
      "grid_row": null,
      "grid_template_areas": null,
      "grid_template_columns": null,
      "grid_template_rows": null,
      "height": null,
      "justify_content": null,
      "justify_items": null,
      "left": null,
      "margin": null,
      "max_height": null,
      "max_width": null,
      "min_height": null,
      "min_width": null,
      "object_fit": null,
      "object_position": null,
      "order": null,
      "overflow": null,
      "overflow_x": null,
      "overflow_y": null,
      "padding": null,
      "right": null,
      "top": null,
      "visibility": null,
      "width": null
     }
    },
    "743f062246994af5b8dfdc60b4b3066b": {
     "model_module": "@jupyter-widgets/controls",
     "model_module_version": "1.5.0",
     "model_name": "HTMLModel",
     "state": {
      "_dom_classes": [],
      "_model_module": "@jupyter-widgets/controls",
      "_model_module_version": "1.5.0",
      "_model_name": "HTMLModel",
      "_view_count": null,
      "_view_module": "@jupyter-widgets/controls",
      "_view_module_version": "1.5.0",
      "_view_name": "HTMLView",
      "description": "",
      "description_tooltip": null,
      "layout": "IPY_MODEL_60847f5e5b0f4be29d3bb5056732c410",
      "placeholder": "​",
      "style": "IPY_MODEL_03da52f66ea64663a928102c81741a51",
      "value": " 3.02G/3.02G [01:34&lt;00:00, 32.8MB/s]"
     }
    },
    "79624e13f06249f799bf880865b79a50": {
     "model_module": "@jupyter-widgets/controls",
     "model_module_version": "1.5.0",
     "model_name": "DescriptionStyleModel",
     "state": {
      "_model_module": "@jupyter-widgets/controls",
      "_model_module_version": "1.5.0",
      "_model_name": "DescriptionStyleModel",
      "_view_count": null,
      "_view_module": "@jupyter-widgets/base",
      "_view_module_version": "1.2.0",
      "_view_name": "StyleView",
      "description_width": ""
     }
    },
    "87311568965a4280a19d19a29f8c5d80": {
     "model_module": "@jupyter-widgets/controls",
     "model_module_version": "1.5.0",
     "model_name": "HTMLModel",
     "state": {
      "_dom_classes": [],
      "_model_module": "@jupyter-widgets/controls",
      "_model_module_version": "1.5.0",
      "_model_name": "HTMLModel",
      "_view_count": null,
      "_view_module": "@jupyter-widgets/controls",
      "_view_module_version": "1.5.0",
      "_view_name": "HTMLView",
      "description": "",
      "description_tooltip": null,
      "layout": "IPY_MODEL_377205b8e2514deea922f8ad3c15814a",
      "placeholder": "​",
      "style": "IPY_MODEL_0056026cf9ea43c5805caac248151b1f",
      "value": "Downloading: 100%"
     }
    },
    "8cbcfd33acb044cfabc80f94d8649163": {
     "model_module": "@jupyter-widgets/base",
     "model_module_version": "1.2.0",
     "model_name": "LayoutModel",
     "state": {
      "_model_module": "@jupyter-widgets/base",
      "_model_module_version": "1.2.0",
      "_model_name": "LayoutModel",
      "_view_count": null,
      "_view_module": "@jupyter-widgets/base",
      "_view_module_version": "1.2.0",
      "_view_name": "LayoutView",
      "align_content": null,
      "align_items": null,
      "align_self": null,
      "border": null,
      "bottom": null,
      "display": null,
      "flex": null,
      "flex_flow": null,
      "grid_area": null,
      "grid_auto_columns": null,
      "grid_auto_flow": null,
      "grid_auto_rows": null,
      "grid_column": null,
      "grid_gap": null,
      "grid_row": null,
      "grid_template_areas": null,
      "grid_template_columns": null,
      "grid_template_rows": null,
      "height": null,
      "justify_content": null,
      "justify_items": null,
      "left": null,
      "margin": null,
      "max_height": null,
      "max_width": null,
      "min_height": null,
      "min_width": null,
      "object_fit": null,
      "object_position": null,
      "order": null,
      "overflow": null,
      "overflow_x": null,
      "overflow_y": null,
      "padding": null,
      "right": null,
      "top": null,
      "visibility": null,
      "width": null
     }
    },
    "8d6f41be3c6a45b1bffcf8e718389736": {
     "model_module": "@jupyter-widgets/controls",
     "model_module_version": "1.5.0",
     "model_name": "FloatProgressModel",
     "state": {
      "_dom_classes": [],
      "_model_module": "@jupyter-widgets/controls",
      "_model_module_version": "1.5.0",
      "_model_name": "FloatProgressModel",
      "_view_count": null,
      "_view_module": "@jupyter-widgets/controls",
      "_view_module_version": "1.5.0",
      "_view_name": "ProgressView",
      "bar_style": "success",
      "description": "",
      "description_tooltip": null,
      "layout": "IPY_MODEL_4560bd3de4c741feaee642f8bd595253",
      "max": 456318,
      "min": 0,
      "orientation": "horizontal",
      "style": "IPY_MODEL_a67cfe45cd5f43deabfb8d570e09e74a",
      "value": 456318
     }
    },
    "969524c69bbf4a688cae2397da9b5000": {
     "model_module": "@jupyter-widgets/base",
     "model_module_version": "1.2.0",
     "model_name": "LayoutModel",
     "state": {
      "_model_module": "@jupyter-widgets/base",
      "_model_module_version": "1.2.0",
      "_model_name": "LayoutModel",
      "_view_count": null,
      "_view_module": "@jupyter-widgets/base",
      "_view_module_version": "1.2.0",
      "_view_name": "LayoutView",
      "align_content": null,
      "align_items": null,
      "align_self": null,
      "border": null,
      "bottom": null,
      "display": null,
      "flex": null,
      "flex_flow": null,
      "grid_area": null,
      "grid_auto_columns": null,
      "grid_auto_flow": null,
      "grid_auto_rows": null,
      "grid_column": null,
      "grid_gap": null,
      "grid_row": null,
      "grid_template_areas": null,
      "grid_template_columns": null,
      "grid_template_rows": null,
      "height": null,
      "justify_content": null,
      "justify_items": null,
      "left": null,
      "margin": null,
      "max_height": null,
      "max_width": null,
      "min_height": null,
      "min_width": null,
      "object_fit": null,
      "object_position": null,
      "order": null,
      "overflow": null,
      "overflow_x": null,
      "overflow_y": null,
      "padding": null,
      "right": null,
      "top": null,
      "visibility": null,
      "width": null
     }
    },
    "96af54e5aeba41ab8dddd07ecdb6124e": {
     "model_module": "@jupyter-widgets/base",
     "model_module_version": "1.2.0",
     "model_name": "LayoutModel",
     "state": {
      "_model_module": "@jupyter-widgets/base",
      "_model_module_version": "1.2.0",
      "_model_name": "LayoutModel",
      "_view_count": null,
      "_view_module": "@jupyter-widgets/base",
      "_view_module_version": "1.2.0",
      "_view_name": "LayoutView",
      "align_content": null,
      "align_items": null,
      "align_self": null,
      "border": null,
      "bottom": null,
      "display": null,
      "flex": null,
      "flex_flow": null,
      "grid_area": null,
      "grid_auto_columns": null,
      "grid_auto_flow": null,
      "grid_auto_rows": null,
      "grid_column": null,
      "grid_gap": null,
      "grid_row": null,
      "grid_template_areas": null,
      "grid_template_columns": null,
      "grid_template_rows": null,
      "height": null,
      "justify_content": null,
      "justify_items": null,
      "left": null,
      "margin": null,
      "max_height": null,
      "max_width": null,
      "min_height": null,
      "min_width": null,
      "object_fit": null,
      "object_position": null,
      "order": null,
      "overflow": null,
      "overflow_x": null,
      "overflow_y": null,
      "padding": null,
      "right": null,
      "top": null,
      "visibility": null,
      "width": null
     }
    },
    "9ac55c969f5c4d65a34c1fb6c336e1b6": {
     "model_module": "@jupyter-widgets/controls",
     "model_module_version": "1.5.0",
     "model_name": "HTMLModel",
     "state": {
      "_dom_classes": [],
      "_model_module": "@jupyter-widgets/controls",
      "_model_module_version": "1.5.0",
      "_model_name": "HTMLModel",
      "_view_count": null,
      "_view_module": "@jupyter-widgets/controls",
      "_view_module_version": "1.5.0",
      "_view_name": "HTMLView",
      "description": "",
      "description_tooltip": null,
      "layout": "IPY_MODEL_e167535b84894df594bc49fe42769898",
      "placeholder": "​",
      "style": "IPY_MODEL_79624e13f06249f799bf880865b79a50",
      "value": "Downloading: 100%"
     }
    },
    "a67cfe45cd5f43deabfb8d570e09e74a": {
     "model_module": "@jupyter-widgets/controls",
     "model_module_version": "1.5.0",
     "model_name": "ProgressStyleModel",
     "state": {
      "_model_module": "@jupyter-widgets/controls",
      "_model_module_version": "1.5.0",
      "_model_name": "ProgressStyleModel",
      "_view_count": null,
      "_view_module": "@jupyter-widgets/base",
      "_view_module_version": "1.2.0",
      "_view_name": "StyleView",
      "bar_color": null,
      "description_width": ""
     }
    },
    "aa14a1c2337e4108a1ac1cca7ab15dc5": {
     "model_module": "@jupyter-widgets/controls",
     "model_module_version": "1.5.0",
     "model_name": "HBoxModel",
     "state": {
      "_dom_classes": [],
      "_model_module": "@jupyter-widgets/controls",
      "_model_module_version": "1.5.0",
      "_model_name": "HBoxModel",
      "_view_count": null,
      "_view_module": "@jupyter-widgets/controls",
      "_view_module_version": "1.5.0",
      "_view_name": "HBoxView",
      "box_style": "",
      "children": [
       "IPY_MODEL_5866f571a1fa460fae704d100ecebb35",
       "IPY_MODEL_c63cb7955e7147999335f2a1f1a95c63",
       "IPY_MODEL_f9ed745a1f1e4178b6623e48f8769bc0"
      ],
      "layout": "IPY_MODEL_ed25c59bb90e4e15ab664a168e41f289"
     }
    },
    "c63cb7955e7147999335f2a1f1a95c63": {
     "model_module": "@jupyter-widgets/controls",
     "model_module_version": "1.5.0",
     "model_name": "FloatProgressModel",
     "state": {
      "_dom_classes": [],
      "_model_module": "@jupyter-widgets/controls",
      "_model_module_version": "1.5.0",
      "_model_name": "FloatProgressModel",
      "_view_count": null,
      "_view_module": "@jupyter-widgets/controls",
      "_view_module_version": "1.5.0",
      "_view_name": "ProgressView",
      "bar_style": "success",
      "description": "",
      "description_tooltip": null,
      "layout": "IPY_MODEL_969524c69bbf4a688cae2397da9b5000",
      "max": 1042301,
      "min": 0,
      "orientation": "horizontal",
      "style": "IPY_MODEL_0c4b9fe6200c4b8984ebc40330f74e7a",
      "value": 1042301
     }
    },
    "cb42ec78624d4b2e818f823f000d27e0": {
     "model_module": "@jupyter-widgets/controls",
     "model_module_version": "1.5.0",
     "model_name": "DescriptionStyleModel",
     "state": {
      "_model_module": "@jupyter-widgets/controls",
      "_model_module_version": "1.5.0",
      "_model_name": "DescriptionStyleModel",
      "_view_count": null,
      "_view_module": "@jupyter-widgets/base",
      "_view_module_version": "1.2.0",
      "_view_name": "StyleView",
      "description_width": ""
     }
    },
    "d24c0a093d91434e85c08da0490fff4f": {
     "model_module": "@jupyter-widgets/controls",
     "model_module_version": "1.5.0",
     "model_name": "DescriptionStyleModel",
     "state": {
      "_model_module": "@jupyter-widgets/controls",
      "_model_module_version": "1.5.0",
      "_model_name": "DescriptionStyleModel",
      "_view_count": null,
      "_view_module": "@jupyter-widgets/base",
      "_view_module_version": "1.2.0",
      "_view_name": "StyleView",
      "description_width": ""
     }
    },
    "dccdd23791514c019b2954bdfdbd09ea": {
     "model_module": "@jupyter-widgets/controls",
     "model_module_version": "1.5.0",
     "model_name": "DescriptionStyleModel",
     "state": {
      "_model_module": "@jupyter-widgets/controls",
      "_model_module_version": "1.5.0",
      "_model_name": "DescriptionStyleModel",
      "_view_count": null,
      "_view_module": "@jupyter-widgets/base",
      "_view_module_version": "1.2.0",
      "_view_name": "StyleView",
      "description_width": ""
     }
    },
    "df881ba3b4b542649f9f8591fa79df47": {
     "model_module": "@jupyter-widgets/controls",
     "model_module_version": "1.5.0",
     "model_name": "HTMLModel",
     "state": {
      "_dom_classes": [],
      "_model_module": "@jupyter-widgets/controls",
      "_model_module_version": "1.5.0",
      "_model_name": "HTMLModel",
      "_view_count": null,
      "_view_module": "@jupyter-widgets/controls",
      "_view_module_version": "1.5.0",
      "_view_name": "HTMLView",
      "description": "",
      "description_tooltip": null,
      "layout": "IPY_MODEL_8cbcfd33acb044cfabc80f94d8649163",
      "placeholder": "​",
      "style": "IPY_MODEL_dccdd23791514c019b2954bdfdbd09ea",
      "value": " 1.29M/1.29M [00:00&lt;00:00, 4.36MB/s]"
     }
    },
    "e02aa2ffef8f4c73866cd64d71ea8939": {
     "model_module": "@jupyter-widgets/controls",
     "model_module_version": "1.5.0",
     "model_name": "HTMLModel",
     "state": {
      "_dom_classes": [],
      "_model_module": "@jupyter-widgets/controls",
      "_model_module_version": "1.5.0",
      "_model_name": "HTMLModel",
      "_view_count": null,
      "_view_module": "@jupyter-widgets/controls",
      "_view_module_version": "1.5.0",
      "_view_name": "HTMLView",
      "description": "",
      "description_tooltip": null,
      "layout": "IPY_MODEL_5bd1d89e4a104f478533193fd79664b8",
      "placeholder": "​",
      "style": "IPY_MODEL_48932ccf80e14ec78c7b3c7b187191d8",
      "value": " 666/666 [00:00&lt;00:00, 20.7kB/s]"
     }
    },
    "e167535b84894df594bc49fe42769898": {
     "model_module": "@jupyter-widgets/base",
     "model_module_version": "1.2.0",
     "model_name": "LayoutModel",
     "state": {
      "_model_module": "@jupyter-widgets/base",
      "_model_module_version": "1.2.0",
      "_model_name": "LayoutModel",
      "_view_count": null,
      "_view_module": "@jupyter-widgets/base",
      "_view_module_version": "1.2.0",
      "_view_name": "LayoutView",
      "align_content": null,
      "align_items": null,
      "align_self": null,
      "border": null,
      "bottom": null,
      "display": null,
      "flex": null,
      "flex_flow": null,
      "grid_area": null,
      "grid_auto_columns": null,
      "grid_auto_flow": null,
      "grid_auto_rows": null,
      "grid_column": null,
      "grid_gap": null,
      "grid_row": null,
      "grid_template_areas": null,
      "grid_template_columns": null,
      "grid_template_rows": null,
      "height": null,
      "justify_content": null,
      "justify_items": null,
      "left": null,
      "margin": null,
      "max_height": null,
      "max_width": null,
      "min_height": null,
      "min_width": null,
      "object_fit": null,
      "object_position": null,
      "order": null,
      "overflow": null,
      "overflow_x": null,
      "overflow_y": null,
      "padding": null,
      "right": null,
      "top": null,
      "visibility": null,
      "width": null
     }
    },
    "e6e991ef781f43b787c1f95b2cb08a87": {
     "model_module": "@jupyter-widgets/controls",
     "model_module_version": "1.5.0",
     "model_name": "DescriptionStyleModel",
     "state": {
      "_model_module": "@jupyter-widgets/controls",
      "_model_module_version": "1.5.0",
      "_model_name": "DescriptionStyleModel",
      "_view_count": null,
      "_view_module": "@jupyter-widgets/base",
      "_view_module_version": "1.2.0",
      "_view_name": "StyleView",
      "description_width": ""
     }
    },
    "e96791ed54c644f0802714dad8a6322f": {
     "model_module": "@jupyter-widgets/base",
     "model_module_version": "1.2.0",
     "model_name": "LayoutModel",
     "state": {
      "_model_module": "@jupyter-widgets/base",
      "_model_module_version": "1.2.0",
      "_model_name": "LayoutModel",
      "_view_count": null,
      "_view_module": "@jupyter-widgets/base",
      "_view_module_version": "1.2.0",
      "_view_name": "LayoutView",
      "align_content": null,
      "align_items": null,
      "align_self": null,
      "border": null,
      "bottom": null,
      "display": null,
      "flex": null,
      "flex_flow": null,
      "grid_area": null,
      "grid_auto_columns": null,
      "grid_auto_flow": null,
      "grid_auto_rows": null,
      "grid_column": null,
      "grid_gap": null,
      "grid_row": null,
      "grid_template_areas": null,
      "grid_template_columns": null,
      "grid_template_rows": null,
      "height": null,
      "justify_content": null,
      "justify_items": null,
      "left": null,
      "margin": null,
      "max_height": null,
      "max_width": null,
      "min_height": null,
      "min_width": null,
      "object_fit": null,
      "object_position": null,
      "order": null,
      "overflow": null,
      "overflow_x": null,
      "overflow_y": null,
      "padding": null,
      "right": null,
      "top": null,
      "visibility": null,
      "width": null
     }
    },
    "ebef29421c2949429a311bf0e814cae7": {
     "model_module": "@jupyter-widgets/base",
     "model_module_version": "1.2.0",
     "model_name": "LayoutModel",
     "state": {
      "_model_module": "@jupyter-widgets/base",
      "_model_module_version": "1.2.0",
      "_model_name": "LayoutModel",
      "_view_count": null,
      "_view_module": "@jupyter-widgets/base",
      "_view_module_version": "1.2.0",
      "_view_name": "LayoutView",
      "align_content": null,
      "align_items": null,
      "align_self": null,
      "border": null,
      "bottom": null,
      "display": null,
      "flex": null,
      "flex_flow": null,
      "grid_area": null,
      "grid_auto_columns": null,
      "grid_auto_flow": null,
      "grid_auto_rows": null,
      "grid_column": null,
      "grid_gap": null,
      "grid_row": null,
      "grid_template_areas": null,
      "grid_template_columns": null,
      "grid_template_rows": null,
      "height": null,
      "justify_content": null,
      "justify_items": null,
      "left": null,
      "margin": null,
      "max_height": null,
      "max_width": null,
      "min_height": null,
      "min_width": null,
      "object_fit": null,
      "object_position": null,
      "order": null,
      "overflow": null,
      "overflow_x": null,
      "overflow_y": null,
      "padding": null,
      "right": null,
      "top": null,
      "visibility": null,
      "width": null
     }
    },
    "ed25c59bb90e4e15ab664a168e41f289": {
     "model_module": "@jupyter-widgets/base",
     "model_module_version": "1.2.0",
     "model_name": "LayoutModel",
     "state": {
      "_model_module": "@jupyter-widgets/base",
      "_model_module_version": "1.2.0",
      "_model_name": "LayoutModel",
      "_view_count": null,
      "_view_module": "@jupyter-widgets/base",
      "_view_module_version": "1.2.0",
      "_view_name": "LayoutView",
      "align_content": null,
      "align_items": null,
      "align_self": null,
      "border": null,
      "bottom": null,
      "display": null,
      "flex": null,
      "flex_flow": null,
      "grid_area": null,
      "grid_auto_columns": null,
      "grid_auto_flow": null,
      "grid_auto_rows": null,
      "grid_column": null,
      "grid_gap": null,
      "grid_row": null,
      "grid_template_areas": null,
      "grid_template_columns": null,
      "grid_template_rows": null,
      "height": null,
      "justify_content": null,
      "justify_items": null,
      "left": null,
      "margin": null,
      "max_height": null,
      "max_width": null,
      "min_height": null,
      "min_width": null,
      "object_fit": null,
      "object_position": null,
      "order": null,
      "overflow": null,
      "overflow_x": null,
      "overflow_y": null,
      "padding": null,
      "right": null,
      "top": null,
      "visibility": null,
      "width": null
     }
    },
    "f9e5855e18d44ee99f165d111673b532": {
     "model_module": "@jupyter-widgets/controls",
     "model_module_version": "1.5.0",
     "model_name": "ProgressStyleModel",
     "state": {
      "_model_module": "@jupyter-widgets/controls",
      "_model_module_version": "1.5.0",
      "_model_name": "ProgressStyleModel",
      "_view_count": null,
      "_view_module": "@jupyter-widgets/base",
      "_view_module_version": "1.2.0",
      "_view_name": "StyleView",
      "bar_color": null,
      "description_width": ""
     }
    },
    "f9ed745a1f1e4178b6623e48f8769bc0": {
     "model_module": "@jupyter-widgets/controls",
     "model_module_version": "1.5.0",
     "model_name": "HTMLModel",
     "state": {
      "_dom_classes": [],
      "_model_module": "@jupyter-widgets/controls",
      "_model_module_version": "1.5.0",
      "_model_name": "HTMLModel",
      "_view_count": null,
      "_view_module": "@jupyter-widgets/controls",
      "_view_module_version": "1.5.0",
      "_view_name": "HTMLView",
      "description": "",
      "description_tooltip": null,
      "layout": "IPY_MODEL_432efcf83a8d4df6b3bb00259ca542d2",
      "placeholder": "​",
      "style": "IPY_MODEL_e6e991ef781f43b787c1f95b2cb08a87",
      "value": " 0.99M/0.99M [00:00&lt;00:00, 2.88MB/s]"
     }
    }
   }
  }
 },
 "nbformat": 4,
 "nbformat_minor": 1
}
